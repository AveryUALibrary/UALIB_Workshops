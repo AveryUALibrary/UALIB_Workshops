{
 "cells": [
  {
   "cell_type": "markdown",
   "metadata": {
    "pycharm": {
     "name": "#%% md\n"
    }
   },
   "source": [
    "# PubChem PUG-REST API Demo\n",
    "\n",
    "[1] https://pubchemdocs.ncbi.nlm.nih.gov/programmatic-access\n",
    "\n",
    "[2] https://ualibweb.github.io/UALIB_ScholarlyAPI_Cookbook/content/scripts/python/python_pubchem.html"
   ]
  },
  {
   "cell_type": "code",
   "execution_count": 52,
   "metadata": {
    "collapsed": false,
    "jupyter": {
     "outputs_hidden": false
    },
    "pycharm": {
     "name": "#%%\n"
    }
   },
   "outputs": [],
   "source": [
    "# Import Libraries\n",
    "import requests\n",
    "from pprint import pprint"
   ]
  },
  {
   "cell_type": "code",
   "execution_count": 53,
   "metadata": {
    "collapsed": false,
    "jupyter": {
     "outputs_hidden": false
    },
    "pycharm": {
     "name": "#%%\n"
    }
   },
   "outputs": [],
   "source": [
    "base_url = \"https://pubchem.ncbi.nlm.nih.gov/rest/pug/\"\n",
    "my_input = \"compound/cid/2244/\"\n",
    "operation = \"property/MolecularFormula/\"\n",
    "output = \"JSON\""
   ]
  },
  {
   "cell_type": "code",
   "execution_count": 54,
   "metadata": {
    "collapsed": false,
    "jupyter": {
     "outputs_hidden": false
    },
    "pycharm": {
     "name": "#%%\n"
    }
   },
   "outputs": [
    {
     "name": "stdout",
     "output_type": "stream",
     "text": [
      "{'PropertyTable': {'Properties': [{'CID': 2244, 'MolecularFormula': 'C9H8O4'}]}}\n"
     ]
    }
   ],
   "source": [
    "data = requests.get(base_url + my_input + operation + output).json()\n",
    "pprint(data)"
   ]
  },
  {
   "cell_type": "code",
   "execution_count": 55,
   "metadata": {
    "collapsed": false,
    "jupyter": {
     "outputs_hidden": false
    },
    "pycharm": {
     "name": "#%%\n"
    }
   },
   "outputs": [
    {
     "name": "stdout",
     "output_type": "stream",
     "text": [
      "{'Properties': [{'CID': 2244, 'MolecularFormula': 'C9H8O4'}]}\n"
     ]
    }
   ],
   "source": [
    "pprint(data[\"PropertyTable\"])"
   ]
  },
  {
   "cell_type": "code",
   "execution_count": 56,
   "metadata": {
    "collapsed": false,
    "jupyter": {
     "outputs_hidden": false
    },
    "pycharm": {
     "name": "#%%\n"
    }
   },
   "outputs": [
    {
     "name": "stdout",
     "output_type": "stream",
     "text": [
      "[{'CID': 2244, 'MolecularFormula': 'C9H8O4'}]\n"
     ]
    }
   ],
   "source": [
    "pprint(data[\"PropertyTable\"][\"Properties\"])"
   ]
  },
  {
   "cell_type": "code",
   "execution_count": 57,
   "metadata": {},
   "outputs": [
    {
     "name": "stdout",
     "output_type": "stream",
     "text": [
      "'C9H8O4'\n"
     ]
    }
   ],
   "source": [
    "pprint(data[\"PropertyTable\"][\"Properties\"][0][\"MolecularFormula\"])"
   ]
  },
  {
   "cell_type": "markdown",
   "metadata": {
    "pycharm": {
     "name": "#%% md\n"
    }
   },
   "source": [
    "Let's look at the compound 1-Butyl-3-methyl-imidazolium\n",
    "\n",
    "CID is 2734162"
   ]
  },
  {
   "cell_type": "code",
   "execution_count": 58,
   "metadata": {
    "collapsed": false,
    "jupyter": {
     "outputs_hidden": false
    },
    "pycharm": {
     "name": "#%%\n"
    }
   },
   "outputs": [],
   "source": [
    "cid = \"2734162\""
   ]
  },
  {
   "cell_type": "code",
   "execution_count": 59,
   "metadata": {
    "collapsed": false,
    "jupyter": {
     "outputs_hidden": false
    },
    "pycharm": {
     "name": "#%%\n"
    }
   },
   "outputs": [],
   "source": [
    "my_input = \"compound/cid/\" + cid"
   ]
  },
  {
   "cell_type": "code",
   "execution_count": 60,
   "metadata": {
    "collapsed": false,
    "jupyter": {
     "outputs_hidden": false
    },
    "pycharm": {
     "name": "#%%\n"
    }
   },
   "outputs": [],
   "source": [
    "operation = \"/property/inchi,IsomericSMILES/\""
   ]
  },
  {
   "cell_type": "code",
   "execution_count": 61,
   "metadata": {},
   "outputs": [],
   "source": [
    "output = \"JSON\""
   ]
  },
  {
   "cell_type": "code",
   "execution_count": 62,
   "metadata": {
    "collapsed": false,
    "jupyter": {
     "outputs_hidden": false
    },
    "pycharm": {
     "name": "#%%\n"
    }
   },
   "outputs": [
    {
     "name": "stdout",
     "output_type": "stream",
     "text": [
      "https://pubchem.ncbi.nlm.nih.gov/rest/pug/compound/cid/2734162/property/inchi,IsomericSMILES/JSON\n"
     ]
    }
   ],
   "source": [
    "print(base_url + my_input + operation + output)"
   ]
  },
  {
   "cell_type": "code",
   "execution_count": 63,
   "metadata": {
    "collapsed": false,
    "jupyter": {
     "outputs_hidden": false
    },
    "pycharm": {
     "name": "#%%\n"
    }
   },
   "outputs": [
    {
     "name": "stdout",
     "output_type": "stream",
     "text": [
      "{'PropertyTable': {'Properties': [{'CID': 2734162,\n",
      "                                   'InChI': 'InChI=1S/C8H15N2/c1-3-4-5-10-7-6-9(2)8-10/h6-8H,3-5H2,1-2H3/q+1',\n",
      "                                   'IsomericSMILES': 'CCCCN1C=C[N+](=C1)C'}]}}\n"
     ]
    }
   ],
   "source": [
    "data = requests.get(base_url + my_input + operation + output).json()\n",
    "pprint(data)"
   ]
  },
  {
   "cell_type": "code",
   "execution_count": 64,
   "metadata": {
    "collapsed": false,
    "jupyter": {
     "outputs_hidden": false
    },
    "pycharm": {
     "name": "#%%\n"
    }
   },
   "outputs": [
    {
     "name": "stdout",
     "output_type": "stream",
     "text": [
      "{'Properties': [{'CID': 2734162,\n",
      "                 'InChI': 'InChI=1S/C8H15N2/c1-3-4-5-10-7-6-9(2)8-10/h6-8H,3-5H2,1-2H3/q+1',\n",
      "                 'IsomericSMILES': 'CCCCN1C=C[N+](=C1)C'}]}\n"
     ]
    }
   ],
   "source": [
    "pprint(data[\"PropertyTable\"])"
   ]
  },
  {
   "cell_type": "code",
   "execution_count": 65,
   "metadata": {
    "collapsed": false,
    "jupyter": {
     "outputs_hidden": false
    },
    "pycharm": {
     "name": "#%%\n"
    }
   },
   "outputs": [
    {
     "name": "stdout",
     "output_type": "stream",
     "text": [
      "[{'CID': 2734162,\n",
      "  'InChI': 'InChI=1S/C8H15N2/c1-3-4-5-10-7-6-9(2)8-10/h6-8H,3-5H2,1-2H3/q+1',\n",
      "  'IsomericSMILES': 'CCCCN1C=C[N+](=C1)C'}]\n"
     ]
    }
   ],
   "source": [
    "pprint(data[\"PropertyTable\"][\"Properties\"])"
   ]
  },
  {
   "cell_type": "code",
   "execution_count": 66,
   "metadata": {
    "collapsed": false,
    "jupyter": {
     "outputs_hidden": false
    },
    "pycharm": {
     "name": "#%%\n"
    }
   },
   "outputs": [
    {
     "name": "stdout",
     "output_type": "stream",
     "text": [
      "{'CID': 2734162,\n",
      " 'InChI': 'InChI=1S/C8H15N2/c1-3-4-5-10-7-6-9(2)8-10/h6-8H,3-5H2,1-2H3/q+1',\n",
      " 'IsomericSMILES': 'CCCCN1C=C[N+](=C1)C'}\n"
     ]
    }
   ],
   "source": [
    "pprint(data[\"PropertyTable\"][\"Properties\"][0])"
   ]
  },
  {
   "cell_type": "code",
   "execution_count": 67,
   "metadata": {
    "collapsed": false,
    "jupyter": {
     "outputs_hidden": false
    },
    "pycharm": {
     "name": "#%%\n"
    }
   },
   "outputs": [
    {
     "name": "stdout",
     "output_type": "stream",
     "text": [
      "2734162\n"
     ]
    }
   ],
   "source": [
    "pprint(data[\"PropertyTable\"][\"Properties\"][0][\"CID\"])"
   ]
  },
  {
   "cell_type": "code",
   "execution_count": 68,
   "metadata": {
    "collapsed": false,
    "jupyter": {
     "outputs_hidden": false
    },
    "pycharm": {
     "name": "#%%\n"
    }
   },
   "outputs": [
    {
     "name": "stdout",
     "output_type": "stream",
     "text": [
      "CID 2734162\n",
      "IsomericSMILES CCCCN1C=C[N+](=C1)C\n",
      "InChI InChI=1S/C8H15N2/c1-3-4-5-10-7-6-9(2)8-10/h6-8H,3-5H2,1-2H3/q+1\n"
     ]
    }
   ],
   "source": [
    "for ID in data[\"PropertyTable\"][\"Properties\"][0]:\n",
    "    print(ID, data[\"PropertyTable\"][\"Properties\"][0][ID])"
   ]
  },
  {
   "cell_type": "markdown",
   "metadata": {
    "pycharm": {
     "name": "#%% md\n"
    }
   },
   "source": [
    "Add more elements\n",
    "* 529334\n",
    "* 304622\n",
    "* 118785"
   ]
  },
  {
   "cell_type": "code",
   "execution_count": 69,
   "metadata": {
    "collapsed": false,
    "jupyter": {
     "outputs_hidden": false
    },
    "pycharm": {
     "name": "#%%\n"
    }
   },
   "outputs": [],
   "source": [
    "cid2 = \"529334\"\n",
    "cid3 = \"304622\"\n",
    "cid4 = \"118785\"\n",
    "my_input = \"compound/cid/\" + cid + \",\" + cid2 + \",\" + cid3 + \",\" + cid4"
   ]
  },
  {
   "cell_type": "code",
   "execution_count": 70,
   "metadata": {
    "collapsed": false,
    "jupyter": {
     "outputs_hidden": false
    },
    "pycharm": {
     "name": "#%%\n"
    }
   },
   "outputs": [
    {
     "name": "stdout",
     "output_type": "stream",
     "text": [
      "https://pubchem.ncbi.nlm.nih.gov/rest/pug/compound/cid/2734162,529334,304622,118785/property/inchi,IsomericSMILES/JSON\n"
     ]
    }
   ],
   "source": [
    "print(base_url + my_input + operation + output)"
   ]
  },
  {
   "cell_type": "code",
   "execution_count": 71,
   "metadata": {
    "collapsed": false,
    "jupyter": {
     "outputs_hidden": false
    },
    "pycharm": {
     "name": "#%%\n"
    }
   },
   "outputs": [
    {
     "name": "stdout",
     "output_type": "stream",
     "text": [
      "{'PropertyTable': {'Properties': [{'CID': 2734162,\n",
      "                                   'InChI': 'InChI=1S/C8H15N2/c1-3-4-5-10-7-6-9(2)8-10/h6-8H,3-5H2,1-2H3/q+1',\n",
      "                                   'IsomericSMILES': 'CCCCN1C=C[N+](=C1)C'},\n",
      "                                  {'CID': 529334,\n",
      "                                   'InChI': 'InChI=1S/C8H14N2/c1-2-3-4-6-10-7-5-9-8-10/h5,7-8H,2-4,6H2,1H3',\n",
      "                                   'IsomericSMILES': 'CCCCCN1C=CN=C1'},\n",
      "                                  {'CID': 304622,\n",
      "                                   'InChI': 'InChI=1S/C8H14N2/c1-3-4-6-10-7-5-9-8(10)2/h5,7H,3-4,6H2,1-2H3',\n",
      "                                   'IsomericSMILES': 'CCCCN1C=CN=C1C'},\n",
      "                                  {'CID': 118785,\n",
      "                                   'InChI': 'InChI=1S/C6H10N2/c1-2-4-8-5-3-7-6-8/h3,5-6H,2,4H2,1H3',\n",
      "                                   'IsomericSMILES': 'CCCN1C=CN=C1'}]}}\n"
     ]
    }
   ],
   "source": [
    "data = requests.get(base_url + my_input + operation + output).json()\n",
    "pprint(data)"
   ]
  },
  {
   "cell_type": "code",
   "execution_count": 72,
   "metadata": {
    "collapsed": false,
    "jupyter": {
     "outputs_hidden": false
    },
    "pycharm": {
     "name": "#%%\n"
    }
   },
   "outputs": [
    {
     "name": "stdout",
     "output_type": "stream",
     "text": [
      "529334\n"
     ]
    }
   ],
   "source": [
    "pprint(data[\"PropertyTable\"][\"Properties\"][1][\"CID\"])"
   ]
  },
  {
   "cell_type": "markdown",
   "metadata": {
    "pycharm": {
     "name": "#%% md\n"
    }
   },
   "source": [
    "Use a list"
   ]
  },
  {
   "cell_type": "code",
   "execution_count": 73,
   "metadata": {
    "collapsed": false,
    "jupyter": {
     "outputs_hidden": false
    },
    "pycharm": {
     "name": "#%%\n"
    }
   },
   "outputs": [],
   "source": [
    "cids = [\"2734162\", \"529334\", \"304622\", \"118785\"]\n",
    "my_input = \"compound/cid/\" + \",\".join(cids)"
   ]
  },
  {
   "cell_type": "code",
   "execution_count": 74,
   "metadata": {
    "collapsed": false,
    "jupyter": {
     "outputs_hidden": false
    },
    "pycharm": {
     "name": "#%%\n"
    }
   },
   "outputs": [
    {
     "name": "stdout",
     "output_type": "stream",
     "text": [
      "https://pubchem.ncbi.nlm.nih.gov/rest/pug/compound/cid/2734162,529334,304622,118785/property/inchi,IsomericSMILES/JSON\n"
     ]
    }
   ],
   "source": [
    "print(base_url + my_input + operation + output)"
   ]
  },
  {
   "cell_type": "code",
   "execution_count": 75,
   "metadata": {
    "collapsed": false,
    "jupyter": {
     "outputs_hidden": false
    },
    "pycharm": {
     "name": "#%%\n"
    }
   },
   "outputs": [
    {
     "name": "stdout",
     "output_type": "stream",
     "text": [
      "{'PropertyTable': {'Properties': [{'CID': 2734162,\n",
      "                                   'InChI': 'InChI=1S/C8H15N2/c1-3-4-5-10-7-6-9(2)8-10/h6-8H,3-5H2,1-2H3/q+1',\n",
      "                                   'IsomericSMILES': 'CCCCN1C=C[N+](=C1)C'},\n",
      "                                  {'CID': 529334,\n",
      "                                   'InChI': 'InChI=1S/C8H14N2/c1-2-3-4-6-10-7-5-9-8-10/h5,7-8H,2-4,6H2,1H3',\n",
      "                                   'IsomericSMILES': 'CCCCCN1C=CN=C1'},\n",
      "                                  {'CID': 304622,\n",
      "                                   'InChI': 'InChI=1S/C8H14N2/c1-3-4-6-10-7-5-9-8(10)2/h5,7H,3-4,6H2,1-2H3',\n",
      "                                   'IsomericSMILES': 'CCCCN1C=CN=C1C'},\n",
      "                                  {'CID': 118785,\n",
      "                                   'InChI': 'InChI=1S/C6H10N2/c1-2-4-8-5-3-7-6-8/h3,5-6H,2,4H2,1H3',\n",
      "                                   'IsomericSMILES': 'CCCN1C=CN=C1'}]}}\n"
     ]
    }
   ],
   "source": [
    "data = requests.get(base_url + my_input + operation + output).json()\n",
    "pprint(data)"
   ]
  },
  {
   "cell_type": "code",
   "execution_count": 76,
   "metadata": {},
   "outputs": [
    {
     "name": "stdout",
     "output_type": "stream",
     "text": [
      "['CCCCN1C=C[N+](=C1)C', 'CCCCCN1C=CN=C1', 'CCCCN1C=CN=C1C', 'CCCN1C=CN=C1']\n"
     ]
    }
   ],
   "source": [
    "# get all IsomericSMILES in a list\n",
    "IsomericSmiles = []\n",
    "for idx in range(len(data[\"PropertyTable\"][\"Properties\"])):\n",
    "    IsomericSmiles.append(data[\"PropertyTable\"][\"Properties\"][idx][\"IsomericSMILES\"])\n",
    "print(IsomericSmiles)"
   ]
  },
  {
   "cell_type": "code",
   "execution_count": null,
   "metadata": {},
   "outputs": [],
   "source": []
  }
 ],
 "metadata": {
  "kernelspec": {
   "display_name": "Python 3 (ipykernel)",
   "language": "python",
   "name": "python3"
  },
  "language_info": {
   "codemirror_mode": {
    "name": "ipython",
    "version": 3
   },
   "file_extension": ".py",
   "mimetype": "text/x-python",
   "name": "python",
   "nbconvert_exporter": "python",
   "pygments_lexer": "ipython3",
   "version": "3.8.13"
  }
 },
 "nbformat": 4,
 "nbformat_minor": 4
}
