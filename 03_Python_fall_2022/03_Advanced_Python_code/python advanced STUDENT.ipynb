{
 "cells": [
  {
   "cell_type": "markdown",
   "metadata": {
    "collapsed": true,
    "pycharm": {
     "name": "#%% md\n"
    }
   },
   "source": [
    "# Advance Guide to Python\n",
    "\n",
    "*Avery Fernandez*\n",
    "\n",
    "University of Alabama Libraries, Research Data Services"
   ]
  },
  {
   "cell_type": "markdown",
   "source": [
    "Outline for today:\n",
    "* Define custom functions\n",
    "* Create classes\n",
    "* Import custom libraries\n",
    "* Create Script Files"
   ],
   "metadata": {
    "collapsed": false,
    "pycharm": {
     "name": "#%% md\n"
    }
   }
  },
  {
   "cell_type": "markdown",
   "source": [
    "## Functions\n",
    "* Give it data\n",
    "* Does operations base on the data\n",
    "* Returns back data\n",
    "\n",
    "https://docs.python.org/3/tutorial/controlflow.html#defining-functions"
   ],
   "metadata": {
    "collapsed": false,
    "pycharm": {
     "name": "#%% md\n"
    }
   }
  },
  {
   "cell_type": "markdown",
   "source": [
    "### First Function\n",
    "syntax: ```def functionName(args):```\n",
    "\n",
    "Functions allow you to do repeated operations using the same call"
   ],
   "metadata": {
    "collapsed": false,
    "pycharm": {
     "name": "#%% md\n"
    }
   }
  },
  {
   "cell_type": "code",
   "execution_count": null,
   "outputs": [],
   "source": [
    "# creating our first function\n",
    "def printName():\n",
    "    print(\"John\")"
   ],
   "metadata": {
    "collapsed": false,
    "pycharm": {
     "name": "#%%\n"
    }
   }
  },
  {
   "cell_type": "code",
   "execution_count": null,
   "outputs": [],
   "source": [
    "# calling the function\n",
    "printName()"
   ],
   "metadata": {
    "collapsed": false,
    "pycharm": {
     "name": "#%%\n"
    }
   }
  },
  {
   "cell_type": "code",
   "execution_count": null,
   "outputs": [],
   "source": [
    "# passing an argument to the function\n",
    "def printName(name):\n",
    "    print(name)"
   ],
   "metadata": {
    "collapsed": false,
    "pycharm": {
     "name": "#%%\n"
    }
   }
  },
  {
   "cell_type": "code",
   "execution_count": null,
   "outputs": [],
   "source": [
    "# using the function with an argument\n",
    "printName(\"Johnny\")"
   ],
   "metadata": {
    "collapsed": false,
    "pycharm": {
     "name": "#%%\n"
    }
   }
  },
  {
   "cell_type": "code",
   "execution_count": null,
   "outputs": [],
   "source": [
    "# you can return values\n",
    "def helloSentence(name):\n",
    "    return \"Hello, \" + name\n"
   ],
   "metadata": {
    "collapsed": false,
    "pycharm": {
     "name": "#%%\n"
    }
   }
  },
  {
   "cell_type": "code",
   "execution_count": null,
   "outputs": [],
   "source": [
    "# the returned string can be stored in a variable or outside of the function\n",
    "sentence = helloSentence(\"Robert\")\n",
    "print(sentence)\n"
   ],
   "metadata": {
    "collapsed": false,
    "pycharm": {
     "name": "#%%\n"
    }
   }
  },
  {
   "cell_type": "code",
   "execution_count": null,
   "outputs": [],
   "source": [
    "# creating function with 2 arguments\n",
    "def adding(n1, n2):\n",
    "    return n1+n2\n"
   ],
   "metadata": {
    "collapsed": false,
    "pycharm": {
     "name": "#%%\n"
    }
   }
  },
  {
   "cell_type": "code",
   "execution_count": null,
   "outputs": [],
   "source": [
    "# there \"must\" be 2 given if you specify 2 arguments\n",
    "print(adding(1))\n"
   ],
   "metadata": {
    "collapsed": false,
    "pycharm": {
     "name": "#%%\n"
    }
   }
  },
  {
   "cell_type": "code",
   "execution_count": null,
   "outputs": [],
   "source": [
    "# pre-initialize the values for variables\n",
    "def adding(n1=0, n2=0):\n",
    "    return n1+n2\n"
   ],
   "metadata": {
    "collapsed": false,
    "pycharm": {
     "name": "#%%\n"
    }
   }
  },
  {
   "cell_type": "code",
   "execution_count": null,
   "outputs": [],
   "source": [
    "# allows you to only pass 1 value due to the second argument having a value\n",
    "print(adding(1))"
   ],
   "metadata": {
    "collapsed": false,
    "pycharm": {
     "name": "#%%\n"
    }
   }
  },
  {
   "cell_type": "code",
   "execution_count": null,
   "outputs": [],
   "source": [
    "# pass an unknown amount of arguments\n",
    "def children(*kids):\n",
    "    print(\"First child is\", kids[0])\n",
    "    print(\"Last children are\", kids[1:-1])\n",
    "    print(\"The rest are\", kids[-1])\n"
   ],
   "metadata": {
    "collapsed": false,
    "pycharm": {
     "name": "#%%\n"
    }
   }
  },
  {
   "cell_type": "code",
   "execution_count": null,
   "outputs": [],
   "source": [
    "children(\"Kenny\", \"Jimmy\", \"Smith\", \"Keath\")"
   ],
   "metadata": {
    "collapsed": false,
    "pycharm": {
     "name": "#%%\n"
    }
   }
  },
  {
   "cell_type": "code",
   "execution_count": null,
   "outputs": [],
   "source": [
    "def foods(fruit, vegetable, drink):\n",
    "    print(fruit, vegetable, drink)\n"
   ],
   "metadata": {
    "collapsed": false,
    "pycharm": {
     "name": "#%%\n"
    }
   }
  },
  {
   "cell_type": "code",
   "execution_count": null,
   "outputs": [],
   "source": [
    "foods(\"lettuce\", \"sprite\",\"apple\")\n"
   ],
   "metadata": {
    "collapsed": false,
    "pycharm": {
     "name": "#%%\n"
    }
   }
  },
  {
   "cell_type": "code",
   "execution_count": null,
   "outputs": [],
   "source": [
    "# order doesn't matter if you specify what each belongs to\n",
    "foods(vegetable=\"lettuce\", drink=\"sprite\",fruit=\"apple\")\n"
   ],
   "metadata": {
    "collapsed": false,
    "pycharm": {
     "name": "#%%\n"
    }
   }
  },
  {
   "cell_type": "code",
   "execution_count": null,
   "outputs": [],
   "source": [
    "# use dictionary keys\n",
    "def boats(**boat):\n",
    "    print(boat[\"speed\"])\n"
   ],
   "metadata": {
    "collapsed": false,
    "pycharm": {
     "name": "#%%\n"
    }
   }
  },
  {
   "cell_type": "code",
   "execution_count": null,
   "outputs": [],
   "source": [
    "boats(speed = \"Fast\")"
   ],
   "metadata": {
    "collapsed": false,
    "pycharm": {
     "name": "#%%\n"
    }
   }
  },
  {
   "cell_type": "code",
   "execution_count": null,
   "outputs": [],
   "source": [
    "# outputs if they exist\n",
    "def boats(**boat):\n",
    "    if \"cargo\" in boat.keys():\n",
    "        print(boat[\"cargo\"])\n",
    "    if \"speed\" in boat.keys():\n",
    "        print(boat[\"speed\"])"
   ],
   "metadata": {
    "collapsed": false,
    "pycharm": {
     "name": "#%%\n"
    }
   }
  },
  {
   "cell_type": "code",
   "execution_count": null,
   "outputs": [],
   "source": [
    "boats(speed=\"vroom\")"
   ],
   "metadata": {
    "collapsed": false,
    "pycharm": {
     "name": "#%%\n"
    }
   }
  },
  {
   "cell_type": "code",
   "execution_count": null,
   "outputs": [],
   "source": [
    "boats(cargo=\"lots of stuff\", speed=\"fast boi\")"
   ],
   "metadata": {
    "collapsed": false,
    "pycharm": {
     "name": "#%%\n"
    }
   }
  },
  {
   "cell_type": "code",
   "execution_count": null,
   "outputs": [],
   "source": [
    "# return multiple values\n",
    "def fruits(fruit1, fruit2, fruit3):\n",
    "    return fruit1, fruit2, fruit3\n",
    "\n"
   ],
   "metadata": {
    "collapsed": false,
    "pycharm": {
     "name": "#%%\n"
    }
   }
  },
  {
   "cell_type": "code",
   "execution_count": null,
   "outputs": [],
   "source": [
    "# the data is returned in a tuple\n",
    "myFruits = fruits(\"apple\", \"orange\", \"kiwi\")\n",
    "print(myFruits)"
   ],
   "metadata": {
    "collapsed": false,
    "pycharm": {
     "name": "#%%\n"
    }
   }
  },
  {
   "cell_type": "code",
   "execution_count": null,
   "outputs": [],
   "source": [
    "firstFruit, secondFruit, thirdFruit = fruits(\"apple\", \"orange\", \"kiwi\")\n",
    "print(firstFruit)\n",
    "print(secondFruit)\n",
    "print(thirdFruit)"
   ],
   "metadata": {
    "collapsed": false,
    "pycharm": {
     "name": "#%%\n"
    }
   }
  },
  {
   "cell_type": "code",
   "execution_count": null,
   "outputs": [],
   "source": [
    "firstFruit, *leftoverFruit = fruits(\"apple\", \"orange\", \"kiwi\")\n",
    "print(firstFruit)\n",
    "print(leftoverFruit)\n"
   ],
   "metadata": {
    "collapsed": false,
    "pycharm": {
     "name": "#%%\n"
    }
   }
  },
  {
   "cell_type": "code",
   "execution_count": null,
   "outputs": [],
   "source": [
    "def notFinished():\n",
    "    pass\n",
    "notFinished()"
   ],
   "metadata": {
    "collapsed": false,
    "pycharm": {
     "name": "#%%\n"
    }
   }
  },
  {
   "cell_type": "markdown",
   "source": [
    "## Exercise 1\n",
    "* Create a function that takes 5 numbers\n",
    "* It multiplies together the first and last number\n",
    "* It adds together the middle 3 numbers\n",
    "* Returns the sum, then the product\n",
    "* Then print the sum and product outside the function"
   ],
   "metadata": {
    "collapsed": false,
    "pycharm": {
     "name": "#%% md\n"
    }
   }
  },
  {
   "cell_type": "code",
   "execution_count": null,
   "outputs": [],
   "source": [
    "def myFunction(*args):\n",
    "    return sum(args[1:-1]), args[0] * args[-1]\n",
    "sums, products = myFunction(5,6,3,4,1)\n",
    "print(sums, products)"
   ],
   "metadata": {
    "collapsed": false,
    "pycharm": {
     "name": "#%%\n"
    }
   }
  },
  {
   "cell_type": "code",
   "execution_count": null,
   "outputs": [],
   "source": [
    "def myFunction(n1, n2, n3, n4, n5):\n",
    "    sums = n2 + n3 + n4\n",
    "    products = n1*n5\n",
    "    return sums, products\n",
    "sums, products = myFunction(5,6,3,4,1)\n",
    "print(sums, products)"
   ],
   "metadata": {
    "collapsed": false,
    "pycharm": {
     "name": "#%%\n"
    }
   }
  },
  {
   "cell_type": "markdown",
   "source": [
    "## Classes\n",
    "* Create class\n",
    "* Initialize class\n",
    "* ```__str__()``` function\n",
    "\n",
    "https://docs.python.org/3/tutorial/classes.html"
   ],
   "metadata": {
    "collapsed": false,
    "pycharm": {
     "name": "#%% md\n"
    }
   }
  },
  {
   "cell_type": "code",
   "execution_count": null,
   "outputs": [],
   "source": [
    "class food:\n",
    "    fruit = \"apple\""
   ],
   "metadata": {
    "collapsed": false,
    "pycharm": {
     "name": "#%%\n"
    }
   }
  },
  {
   "cell_type": "code",
   "execution_count": null,
   "outputs": [],
   "source": [
    "myFood = food()\n",
    "print(myFood.fruit)"
   ],
   "metadata": {
    "collapsed": false,
    "pycharm": {
     "name": "#%%\n"
    }
   }
  },
  {
   "cell_type": "code",
   "execution_count": null,
   "outputs": [],
   "source": [
    "myFood.fruit=\"orange\"\n",
    "print(myFood.fruit)"
   ],
   "metadata": {
    "collapsed": false,
    "pycharm": {
     "name": "#%%\n"
    }
   }
  },
  {
   "cell_type": "code",
   "execution_count": null,
   "outputs": [],
   "source": [
    "class food:\n",
    "    def __init__(self, fruit, vegetable, drink):\n",
    "        self.fruit = fruit\n",
    "        self.vegetable = vegetable\n",
    "        self.drink = drink"
   ],
   "metadata": {
    "collapsed": false,
    "pycharm": {
     "name": "#%%\n"
    }
   }
  },
  {
   "cell_type": "code",
   "execution_count": null,
   "outputs": [],
   "source": [
    "myFood = food(\"apple\", \"lettuce\", \"coke\")\n",
    "print(myFood.drink)\n"
   ],
   "metadata": {
    "collapsed": false,
    "pycharm": {
     "name": "#%%\n"
    }
   }
  },
  {
   "cell_type": "code",
   "execution_count": null,
   "outputs": [],
   "source": [
    "class food:\n",
    "    def __init__(self, fruit, vegetable, drink):\n",
    "        self.fruit = fruit\n",
    "        self.vegetable = vegetable\n",
    "        self.drink = drink\n",
    "    def __str__(self):\n",
    "        return self.fruit +\" \"+ self.vegetable + \" \" +self.drink\n"
   ],
   "metadata": {
    "collapsed": false,
    "pycharm": {
     "name": "#%%\n"
    }
   }
  },
  {
   "cell_type": "code",
   "execution_count": null,
   "outputs": [],
   "source": [
    "myFood = food(\"apple\", \"lettuce\", \"coke\")\n",
    "print(myFood)"
   ],
   "metadata": {
    "collapsed": false,
    "pycharm": {
     "name": "#%%\n"
    }
   }
  },
  {
   "cell_type": "code",
   "execution_count": null,
   "outputs": [],
   "source": [
    "class food:\n",
    "    def __init__(self, fruit, vegetable, drink):\n",
    "        self.fruit = fruit\n",
    "        self.vegetable = vegetable\n",
    "        self.drink = drink\n",
    "    def __str__(self):\n",
    "        return self.fruit +\" \"+ self.vegetable + \" \" +self.drink\n",
    "    def myMethod(self):\n",
    "        print(\"My favorite fruit is\", self.fruit)\n",
    "myFood = food(\"apple\", \"lettuce\", \"coke\")\n",
    "myFood.myMethod()"
   ],
   "metadata": {
    "collapsed": false,
    "pycharm": {
     "name": "#%%\n"
    }
   }
  },
  {
   "cell_type": "markdown",
   "source": [
    "## Exercise 2\n",
    "* Create a class to store student data\n",
    "* The class must store the name, age, height, major\n",
    "* Create a print state that outputs, \"My name is ... and I am studying ....\"\n",
    "* Create a method that multiplies the age by their height"
   ],
   "metadata": {
    "collapsed": false,
    "pycharm": {
     "name": "#%% md\n"
    }
   }
  },
  {
   "cell_type": "code",
   "execution_count": null,
   "outputs": [],
   "source": [
    "class student:\n",
    "    def __init__(self, name, age, height, major):\n",
    "        self.name = name\n",
    "        self.age = age\n",
    "        self.height = height\n",
    "        self.major = major\n",
    "    def __str__(self):\n",
    "        return f\"My name is {self.name} and I am studying {self.major}\"\n",
    "    def multiply(self):\n",
    "        return self.age*self.height\n",
    "jimmy = student(\"Jimmy\", 19, 5.87, \"aerospace engineering\")\n",
    "print(jimmy)\n",
    "print(jimmy.multiply())"
   ],
   "metadata": {
    "collapsed": false,
    "pycharm": {
     "name": "#%%\n"
    }
   }
  },
  {
   "cell_type": "markdown",
   "source": [
    "## Custom Libraries"
   ],
   "metadata": {
    "collapsed": false,
    "pycharm": {
     "name": "#%% md\n"
    }
   }
  },
  {
   "cell_type": "code",
   "execution_count": null,
   "outputs": [],
   "source": [
    "import mathematics\n",
    "print(mathematics.summation(1,2,3,4,5,6,7,8,9,10))"
   ],
   "metadata": {
    "collapsed": false,
    "pycharm": {
     "name": "#%%\n"
    }
   }
  },
  {
   "cell_type": "markdown",
   "source": [
    "## Run Files\n",
    "https://docs.python.org/3/library/__main__.html"
   ],
   "metadata": {
    "collapsed": false,
    "pycharm": {
     "name": "#%% md\n"
    }
   }
  },
  {
   "cell_type": "markdown",
   "source": [
    "## Exercise 3\n",
    "* Create a custom library with 2 functions\n",
    "* Function 1: Returns the product of a bunch of numbers\n",
    "* Function 2: prints the given string out\n",
    "* Create a script file that imports the library then uses both functions\n",
    "\n"
   ],
   "metadata": {
    "collapsed": false,
    "pycharm": {
     "name": "#%% md\n"
    }
   }
  },
  {
   "cell_type": "code",
   "execution_count": null,
   "outputs": [],
   "source": [
    "# exercise3.py\n",
    "def products(*numbers):\n",
    "    product = 1\n",
    "    for number in numbers:\n",
    "        product *= number\n",
    "    return product\n",
    "\n",
    "\n",
    "def printString(sentence):\n",
    "    print(sentence)"
   ],
   "metadata": {
    "collapsed": false,
    "pycharm": {
     "name": "#%%\n"
    }
   }
  },
  {
   "cell_type": "code",
   "execution_count": null,
   "outputs": [],
   "source": [
    "# exercise3script.py\n",
    "\n",
    "\n",
    "import exercise3\n",
    "\n",
    "\n",
    "if __name__ == \"__main__\":\n",
    "    print(exercise3.products(1,5,6,4,3,7,4,5))\n",
    "    exercise3.printString(\"Hello Jerry\")"
   ],
   "metadata": {
    "collapsed": false,
    "pycharm": {
     "name": "#%%\n"
    }
   }
  }
 ],
 "metadata": {
  "kernelspec": {
   "display_name": "Python 3",
   "language": "python",
   "name": "python3"
  },
  "language_info": {
   "codemirror_mode": {
    "name": "ipython",
    "version": 2
   },
   "file_extension": ".py",
   "mimetype": "text/x-python",
   "name": "python",
   "nbconvert_exporter": "python",
   "pygments_lexer": "ipython2",
   "version": "2.7.6"
  }
 },
 "nbformat": 4,
 "nbformat_minor": 0
}