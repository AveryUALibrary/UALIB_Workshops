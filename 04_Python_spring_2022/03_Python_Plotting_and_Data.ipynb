{
  "nbformat": 4,
  "nbformat_minor": 0,
  "metadata": {
    "colab": {
      "name": "03_Python_Plotting_and_Data.ipynb",
      "provenance": [],
      "collapsed_sections": [],
      "toc_visible": true
    },
    "kernelspec": {
      "name": "python3",
      "display_name": "Python 3"
    },
    "language_info": {
      "name": "python"
    }
  },
  "cells": [
    {
      "cell_type": "markdown",
      "metadata": {
        "id": "tyCz-xFSgxqc"
      },
      "source": [
        "# Plotting and Working with Data in Python\n",
        "**DataFrames and Plotting Data**\n",
        "\\\n",
        "March 30 at 3:00 PM \\\n",
        "Vincent Scalfani and Lance Simpson \\\n",
        "*The University of Alabama Libraries* \\\n",
        "[Contact Information on UA Libraries Directory](https://www.lib.ua.edu/#/staffdir?liaison=1&department=Rodgers%20Library%20for%20Science%20and%20Engineering)\n",
        "\n",
        "\n",
        "**Today, attendees will learn how to:**\n",
        "\n",
        "* Use the pandas data analysis library to load tabular data into DataFrames\n",
        "* Work with DataFrames (e.g., indexing data, basic analysis) \n",
        "* Plot variables and tabular data with Matplotlib"
      ]
    },
    {
      "cell_type": "markdown",
      "metadata": {
        "id": "TpwPFjUBg0jN"
      },
      "source": [
        "# Annoucements\n",
        "\n",
        "Archived copy here: https://github.com/ualibweb/UALIB_Workshops"
      ]
    },
    {
      "cell_type": "markdown",
      "metadata": {
        "id": "TiHMLnF9g6Nd"
      },
      "source": [
        "# Setup For Today\n",
        "\n",
        "If you would like to follow along intractively with us today:\n",
        "\n",
        "1. Go to the link provided for this Colab notebook. \n",
        "\n",
        "2. Save a copy to your Google Drive. You should then be able to run and edit the code interactively."
      ]
    },
    {
      "cell_type": "markdown",
      "metadata": {
        "id": "iPyO3-qor_OR"
      },
      "source": [
        "# pandas Python library\n",
        "\n",
        "[pandas](https://pandas.pydata.org/) is a popular Python library for data analysis and manipulation. The library extends the functionality of working with structured arrays in [NumPy](https://numpy.org/). A typical use-case for the pandas library would be to analyze a tabular/comma separated dataset containing a mixture of numeric and string data assembled into columns and rows, similar to what you would work with in a spreadsheet application. \n",
        "\n"
      ]
    },
    {
      "cell_type": "markdown",
      "metadata": {
        "id": "npTIf0dXxXgR"
      },
      "source": [
        "## Pandas Series and DataFrames [1,2]\n",
        "\n",
        "A pandas [Series](https://pandas.pydata.org/docs/reference/api/pandas.Series.html) is a one-dimensional array, while a [DataFrame](https://pandas.pydata.org/docs/reference/api/pandas.DataFrame.html#pandas.DataFrame) is a two-dimensional array (e.g., multiple columns). Both the Series and DataFrame structures contain an index [1].\n",
        "\n",
        "Let's start by importing numpy and pandas:"
      ]
    },
    {
      "cell_type": "code",
      "metadata": {
        "id": "G4ljFIOuhBY-"
      },
      "source": [
        "# import with common alias for numpy (np) and pandas (pd):\n",
        "import numpy as np\n",
        "import pandas as pd"
      ],
      "execution_count": null,
      "outputs": []
    },
    {
      "cell_type": "markdown",
      "metadata": {
        "id": "Sgq7zQaVz0xU"
      },
      "source": [
        "We can create a pandas series as follows:"
      ]
    },
    {
      "cell_type": "code",
      "metadata": {
        "id": "1TSCX1WfhBbx"
      },
      "source": [
        "atomic_number = pd.Series([25, 26, 27, 28])\n",
        "atomic_number"
      ],
      "execution_count": null,
      "outputs": []
    },
    {
      "cell_type": "code",
      "source": [
        "type(atomic_number)"
      ],
      "metadata": {
        "id": "8waj3IlC5HRw"
      },
      "execution_count": null,
      "outputs": []
    },
    {
      "cell_type": "code",
      "metadata": {
        "id": "q3zQ1ExkhBeX"
      },
      "source": [
        "# get value attribute\n",
        "atomic_number.values"
      ],
      "execution_count": null,
      "outputs": []
    },
    {
      "cell_type": "code",
      "metadata": {
        "id": "LMjt3f00hBhA"
      },
      "source": [
        "# get index attribute\n",
        "atomic_number.index"
      ],
      "execution_count": null,
      "outputs": []
    },
    {
      "cell_type": "code",
      "metadata": {
        "id": "R4klIFMWBk4U"
      },
      "source": [
        "# create another series\n",
        "symbol = pd.Series(['Mn', 'Fe', 'Co', 'Ni'])\n",
        "symbol"
      ],
      "execution_count": null,
      "outputs": []
    },
    {
      "cell_type": "markdown",
      "metadata": {
        "id": "uJEzW1rgCtOQ"
      },
      "source": [
        "If we want to store multiple columns in one object, we can use DataFrames, using a dictionary assignment, combining the two series:"
      ]
    },
    {
      "cell_type": "code",
      "metadata": {
        "id": "qpjyftBzBlD8"
      },
      "source": [
        "df = pd.DataFrame({'atomic_number': atomic_number, 'symbol': symbol})\n",
        "df"
      ],
      "execution_count": null,
      "outputs": []
    },
    {
      "cell_type": "code",
      "source": [
        "type(df)"
      ],
      "metadata": {
        "id": "l3AoGfGK5RH-"
      },
      "execution_count": null,
      "outputs": []
    },
    {
      "cell_type": "markdown",
      "metadata": {
        "id": "CXS2sHEmwm14"
      },
      "source": [
        "References:\n",
        "\n",
        "[1] https://jakevdp.github.io/PythonDataScienceHandbook/\n",
        "\n",
        "[2] https://pandas.pydata.org/docs/reference/api/pandas.DataFrame.html#pandas.DataFrame"
      ]
    },
    {
      "cell_type": "markdown",
      "metadata": {
        "id": "4OzpLpyXEwAY"
      },
      "source": [
        "In order to understand indexing and data operations on pandas [DataFrames](https://pandas.pydata.org/docs/reference/api/pandas.DataFrame.html#pandas.DataFrame), it is probably easier if we have a bit more data to work with..."
      ]
    },
    {
      "cell_type": "markdown",
      "metadata": {
        "id": "sSMgPDBHMUxJ"
      },
      "source": [
        "# Load Data into Colab\n",
        "\n",
        "See our first workshop for a more thorough explanation on how to upload data into Colab. Here is brief review:\n",
        "\n",
        "\\\n",
        "\n",
        "**1. Create a folder for the data.**"
      ]
    },
    {
      "cell_type": "code",
      "metadata": {
        "id": "BgUZlZzUhBxR"
      },
      "source": [
        "pwd"
      ],
      "execution_count": null,
      "outputs": []
    },
    {
      "cell_type": "code",
      "metadata": {
        "id": "F60qlTn7hBzL"
      },
      "source": [
        "ls"
      ],
      "execution_count": null,
      "outputs": []
    },
    {
      "cell_type": "code",
      "metadata": {
        "id": "TkQm0np9hB2E"
      },
      "source": [
        "mkdir workshop_data"
      ],
      "execution_count": null,
      "outputs": []
    },
    {
      "cell_type": "code",
      "metadata": {
        "id": "2lWy1oLIhB4p"
      },
      "source": [
        "ls"
      ],
      "execution_count": null,
      "outputs": []
    },
    {
      "cell_type": "code",
      "metadata": {
        "id": "87Jk4lkxhB-f"
      },
      "source": [
        "cd workshop_data/"
      ],
      "execution_count": null,
      "outputs": []
    },
    {
      "cell_type": "markdown",
      "metadata": {
        "id": "d834CnbgN1RL"
      },
      "source": [
        "**2. Next, we can use the file navigation window to upload data directly into our new folder. Click on the workshop3_data folder `three dots > upload`. We'll upload a sample file called CID51840_similar.txt, which is available on the [UALIB_Workshops GitHub Repository](https://github.com/ualibweb/UALIB_Workshops/blob/master/01_MATLAB_fall_2020/Mdata/CID51840_similar.txt). Click on the CID51840.txt. file, then right click on `Raw > Save Link as`.**"
      ]
    },
    {
      "cell_type": "code",
      "metadata": {
        "id": "590d5UDJhCBT"
      },
      "source": [
        "ls"
      ],
      "execution_count": null,
      "outputs": []
    },
    {
      "cell_type": "markdown",
      "metadata": {
        "id": "jegcEBLPPCeT"
      },
      "source": [
        "**3. Now we can import the data into a pandas DataFrame using the [read_csv](https://pandas.pydata.org/docs/reference/api/pandas.read_csv.html#pandas.read_csv) method:**"
      ]
    },
    {
      "cell_type": "code",
      "metadata": {
        "id": "jUJaNcMehCDs"
      },
      "source": [
        "data_df = pd.read_csv('CID51840_similar.txt', sep = '\\t')"
      ],
      "execution_count": null,
      "outputs": []
    },
    {
      "cell_type": "code",
      "metadata": {
        "id": "drtp_fm8XQev"
      },
      "source": [
        "# use info() method to print summary information about the DataFrame\n",
        "data_df.info()"
      ],
      "execution_count": null,
      "outputs": []
    },
    {
      "cell_type": "code",
      "metadata": {
        "id": "tSDluEsqGx6E"
      },
      "source": [
        "# view our \"data_df\" dataframe\n",
        "data_df"
      ],
      "execution_count": null,
      "outputs": []
    },
    {
      "cell_type": "markdown",
      "metadata": {
        "id": "2TcdvolHQgaW"
      },
      "source": [
        "By defualt, pandas only displays a limited number of rows. We can adjust this as desired with the [options](https://pandas.pydata.org/pandas-docs/stable/user_guide/options.html) attribute."
      ]
    },
    {
      "cell_type": "code",
      "metadata": {
        "id": "7DeNCVq_GyCx"
      },
      "source": [
        "# change to 50\n",
        "pd.options.display.max_rows = 50"
      ],
      "execution_count": null,
      "outputs": []
    },
    {
      "cell_type": "markdown",
      "metadata": {
        "id": "nKVOOlIQSGqR"
      },
      "source": [
        "Then, you can specify exactly how many rows to display with the `head()` function:"
      ]
    },
    {
      "cell_type": "code",
      "metadata": {
        "id": "umsiqls9Q6co"
      },
      "source": [
        "data_df.head(20)"
      ],
      "execution_count": null,
      "outputs": []
    },
    {
      "cell_type": "markdown",
      "metadata": {
        "id": "r92eHIgKxKDL"
      },
      "source": [
        "Note that the default index created for data_df was the number of rows: 0-574 as the row labels."
      ]
    },
    {
      "cell_type": "code",
      "metadata": {
        "id": "1D4AsDwBxNzE"
      },
      "source": [
        "data_df.index"
      ],
      "execution_count": null,
      "outputs": []
    },
    {
      "cell_type": "markdown",
      "metadata": {
        "id": "mcyWz9JtxfZW"
      },
      "source": [
        "We can specify the index when we are importing with read_csv with the [index_col](https://pandas.pydata.org/docs/reference/api/pandas.read_csv.html#pandas.read_csv) option, if for example, we want the index to be the CID column. The result is that the CID numbers are now the row labels, which can be useful for selecting/indexing. Note that the CID values here are already sorted."
      ]
    },
    {
      "cell_type": "code",
      "metadata": {
        "id": "NrmutEphsntP"
      },
      "source": [
        "data_df2 = pd.read_csv('CID51840_similar.txt', index_col=\"CID\", sep = '\\t')\n",
        "data_df2.head(20)"
      ],
      "execution_count": null,
      "outputs": []
    },
    {
      "cell_type": "code",
      "metadata": {
        "id": "E-VbnO_8xrKG"
      },
      "source": [
        "data_df2.index"
      ],
      "execution_count": null,
      "outputs": []
    },
    {
      "cell_type": "markdown",
      "metadata": {
        "id": "Oq21E0V-S6B8"
      },
      "source": [
        "# DataFrame Indexing [3-6]\n",
        "\n",
        "There are two main ways to select subsets of a DataFrame via indexing [3,6].\n",
        "\n",
        "1. [pd.DataFrame.iloc](https://pandas.pydata.org/docs/reference/api/pandas.DataFrame.iloc.html): The iloc property uses integer based indexing (e.g., `[i,j]`, where `i` is the row, and `j` is the column).\n",
        "\n",
        "2. [pd.DataFrame.loc](https://pandas.pydata.org/docs/reference/api/pandas.DataFrame.loc.html#pandas.DataFrame.loc): The loc property is label based (e.g., `[row_name, col_name]`)\n"
      ]
    },
    {
      "cell_type": "code",
      "metadata": {
        "id": "GgLW5_5Z4hw0"
      },
      "source": [
        "# Let's use our data_df2 dataframe for demonstration:\n",
        "data_df2.head(5)"
      ],
      "execution_count": null,
      "outputs": []
    },
    {
      "cell_type": "markdown",
      "metadata": {
        "id": "ENGwD1IB4M70"
      },
      "source": [
        "## Select a value"
      ]
    },
    {
      "cell_type": "code",
      "metadata": {
        "id": "OqCBLmLoTBOH"
      },
      "source": [
        "# use iloc property to select the molecular formula for row 0\n",
        "# index position [0,1]\n",
        "data_df2.iloc[0,1]"
      ],
      "execution_count": null,
      "outputs": []
    },
    {
      "cell_type": "code",
      "metadata": {
        "id": "UCONgg-_ukjh"
      },
      "source": [
        "# use loc property to select the molecular formula for row 0\n",
        "# index position [146168522, \"MolecularFormula\"]\n",
        "data_df2.loc[146168522, \"MolecularFormula\"]"
      ],
      "execution_count": null,
      "outputs": []
    },
    {
      "cell_type": "markdown",
      "metadata": {
        "id": "VYrTz-v77238"
      },
      "source": [
        "## Select a row or column\n",
        "\n",
        "Use `:` to select all rows or columns"
      ]
    },
    {
      "cell_type": "markdown",
      "metadata": {
        "id": "KWGCJqHh9AyK"
      },
      "source": [
        "### rows"
      ]
    },
    {
      "cell_type": "code",
      "metadata": {
        "id": "j5ACYafyuk26"
      },
      "source": [
        "# iloc select # index position 3, all columns\n",
        "data_df2.iloc[3,:]"
      ],
      "execution_count": null,
      "outputs": []
    },
    {
      "cell_type": "code",
      "metadata": {
        "id": "fKcneaCuuk9M"
      },
      "source": [
        "# loc equivalent:\n",
        "data_df2.loc[145524776,:]"
      ],
      "execution_count": null,
      "outputs": []
    },
    {
      "cell_type": "markdown",
      "metadata": {
        "id": "6xtBwbMP9LJM"
      },
      "source": [
        "### columns"
      ]
    },
    {
      "cell_type": "code",
      "metadata": {
        "id": "ziHn9C5h86PT"
      },
      "source": [
        "# iloc select column # index position 2, all rows\n",
        "data_df2.iloc[:,2]"
      ],
      "execution_count": null,
      "outputs": []
    },
    {
      "cell_type": "code",
      "metadata": {
        "id": "FtX78yoS86Wk"
      },
      "source": [
        "# loc equivalent:\n",
        "data_df2.loc[:,\"MolecularWeight\"]"
      ],
      "execution_count": null,
      "outputs": []
    },
    {
      "cell_type": "markdown",
      "metadata": {
        "id": "I_pWXLIc907r"
      },
      "source": [
        "## Select a slice"
      ]
    },
    {
      "cell_type": "markdown",
      "metadata": {
        "id": "-G9_vBfP-83Q"
      },
      "source": [
        "**.iloc is analgous to Python indexing, where you select values between index positions, however, loc is not and includes both start and stop values:**"
      ]
    },
    {
      "cell_type": "code",
      "metadata": {
        "id": "3Sak75Jq86Zn"
      },
      "source": [
        "# select first rows 0-4, all columns\n",
        "data_df2.iloc[0:5,:]"
      ],
      "execution_count": null,
      "outputs": []
    },
    {
      "cell_type": "code",
      "metadata": {
        "id": "GasnzusA86c3"
      },
      "source": [
        "# the 5th row here is index position 4:\n",
        "data_df2.iloc[4,:]"
      ],
      "execution_count": null,
      "outputs": []
    },
    {
      "cell_type": "code",
      "metadata": {
        "id": "A9n7uGWz86gH"
      },
      "source": [
        "# loc is a little different, and includes start and stop values:\n",
        "data_df2.loc[146168522:145520251,:]"
      ],
      "execution_count": null,
      "outputs": []
    },
    {
      "cell_type": "markdown",
      "metadata": {
        "id": "VaGJpyMuBsqI"
      },
      "source": [
        "## Select by Condition\n",
        "\n",
        "The [DataFrame.loc](https://pandas.pydata.org/docs/reference/api/pandas.DataFrame.loc.html) property can also be used to select data based on a condition (e.g., filtering data) [4].\n",
        "\n",
        "You can use [comparison operators](https://docs.python.org/3/library/stdtypes.html#boolean-operations-and-or-not) and even combine them with boolean operators [4]."
      ]
    },
    {
      "cell_type": "code",
      "metadata": {
        "id": "96GoiDVh4WCU"
      },
      "source": [
        "data_df2['RotatableBondCount'] > 12"
      ],
      "execution_count": null,
      "outputs": []
    },
    {
      "cell_type": "code",
      "metadata": {
        "id": "noyOshZFTBjz"
      },
      "source": [
        "# select rows where the RotatableBondCount is greater than 12\n",
        "data_df2.loc[data_df2['RotatableBondCount'] > 12]"
      ],
      "execution_count": null,
      "outputs": []
    },
    {
      "cell_type": "code",
      "metadata": {
        "id": "yqMM_UoOOaxM"
      },
      "source": [
        "# note that you can also specifiy columns to return\n",
        "data_df2.loc[data_df2['RotatableBondCount'] > 12, ['IsomericSmiles','RotatableBondCount']]"
      ],
      "execution_count": null,
      "outputs": []
    },
    {
      "cell_type": "code",
      "metadata": {
        "id": "C3AqdVs9J8Mn"
      },
      "source": [
        "# select rows where the RotatableBondCount is greater than 12 and the MolecularWeight is less than 400\n",
        "data_df2.loc[(data_df2['RotatableBondCount'] > 12) & (data_df2['MolecularWeight'] < 400)]"
      ],
      "execution_count": null,
      "outputs": []
    },
    {
      "cell_type": "markdown",
      "metadata": {
        "id": "ZXoqyIgSRy_Z"
      },
      "source": [
        "You can get creative with selecting/filtering. For example, you can even filter based on string matching with the [str.contains](https://pandas.pydata.org/docs/reference/api/pandas.Series.str.contains.html?highlight=str%20contains#pandas.Series.str.contains) method [5]."
      ]
    },
    {
      "cell_type": "code",
      "metadata": {
        "id": "8n7GfXZGTBpO"
      },
      "source": [
        "# select rows where IsomericSmiles contains an \"@\"\n",
        "data_df2.loc[data_df2['IsomericSmiles'].str.contains(\"@\")]"
      ],
      "execution_count": null,
      "outputs": []
    },
    {
      "cell_type": "code",
      "metadata": {
        "id": "yy2yYgyPKBuR"
      },
      "source": [
        "# select rows where IsomericSmiles does not contain an \"@\"\n",
        "data_df2.loc[~data_df2['IsomericSmiles'].str.contains(\"@\")]"
      ],
      "execution_count": null,
      "outputs": []
    },
    {
      "cell_type": "markdown",
      "metadata": {
        "id": "BzeHp_Hqptrj"
      },
      "source": [
        "[3] http://swcarpentry.github.io/python-novice-gapminder/08-data-frames/index.html\n",
        "\n",
        "[4] https://stackoverflow.com/questions/17071871/how-to-select-rows-from-a-dataframe-based-on-column-values\n",
        "\n",
        "[5] https://stackoverflow.com/questions/27975069/how-to-filter-rows-containing-a-string-pattern-from-a-pandas-dataframe\n",
        "\n",
        "[6] https://pandas.pydata.org/pandas-docs/stable/user_guide/indexing.html"
      ]
    },
    {
      "cell_type": "markdown",
      "metadata": {
        "id": "0tnTXvrmW4m0"
      },
      "source": [
        "# DataFrame Operations [7]\n",
        "\n",
        "There are a variety of built-in [DataFrame methods](https://pandas.pydata.org/docs/reference/api/pandas.DataFrame.html#pandas.DataFrame) for data analysis and manipulation such as string modification, counting values, and calculating the mean or median. It is also possible to perform operations on series of data (e.g., col A + Col B).\n",
        "\n",
        "A descriptive statistics summary can be calculated with the pandas.[DataFrame.describe()](https://pandas.pydata.org/docs/reference/api/pandas.DataFrame.describe.html?highlight=describe#pandas.DataFrame.describe) function:"
      ]
    },
    {
      "cell_type": "code",
      "metadata": {
        "id": "s3zfVBKkTB6H"
      },
      "source": [
        "data_df2.describe()"
      ],
      "execution_count": null,
      "outputs": []
    },
    {
      "cell_type": "markdown",
      "metadata": {
        "id": "Ko4jHpyUVu1V"
      },
      "source": [
        "By default, only the numeric data is included, we can add the string data with the object option:"
      ]
    },
    {
      "cell_type": "code",
      "metadata": {
        "id": "8cZkyIeeTB8-"
      },
      "source": [
        "data_df2.describe(include=[object])"
      ],
      "execution_count": null,
      "outputs": []
    },
    {
      "cell_type": "markdown",
      "metadata": {
        "id": "EHcwE9KxWGEa"
      },
      "source": [
        "It looks like all of the IsomericSmiles are unique, but we have several repeated MolecularFormula values. We can take a closer look by selecting the MolecularFormula column, then applying the `value_counts()` method:"
      ]
    },
    {
      "cell_type": "code",
      "metadata": {
        "id": "TVQ94kRJG9H2"
      },
      "source": [
        "data_df2.loc[:,'MolecularFormula'].value_counts()"
      ],
      "execution_count": null,
      "outputs": []
    },
    {
      "cell_type": "code",
      "metadata": {
        "id": "oO3i8qIuG8sL"
      },
      "source": [
        "# view the top 20:\n",
        "data_df2.loc[:,'MolecularFormula'].value_counts().head(20)"
      ],
      "execution_count": null,
      "outputs": []
    },
    {
      "cell_type": "markdown",
      "metadata": {
        "id": "cDjb1EQ-YDJB"
      },
      "source": [
        "Similarly, we can perform calculations on specific series of data. For example, finding the maximum MolecularWeight:"
      ]
    },
    {
      "cell_type": "code",
      "metadata": {
        "id": "3G_8cC9CTB_2"
      },
      "source": [
        "data_df2.loc[:,'MolecularWeight'].max()"
      ],
      "execution_count": null,
      "outputs": []
    },
    {
      "cell_type": "markdown",
      "metadata": {
        "id": "tYqHaMqRYs_5"
      },
      "source": [
        "In this case, it might be useful to also return the index of the max MolecularWeight using [DataFrame.idxmax()](https://pandas.pydata.org/docs/reference/api/pandas.DataFrame.idxmax.html?highlight=idxmax)"
      ]
    },
    {
      "cell_type": "code",
      "metadata": {
        "id": "wscEr9zhTCE5"
      },
      "source": [
        "data_df2.loc[:,'MolecularWeight'].idxmax()"
      ],
      "execution_count": null,
      "outputs": []
    },
    {
      "cell_type": "markdown",
      "metadata": {
        "id": "mo9KzoMaZJpn"
      },
      "source": [
        "We can then easily index and view the enitre row for the specific entry 89640554:"
      ]
    },
    {
      "cell_type": "code",
      "metadata": {
        "id": "-InYF9_hY9n6"
      },
      "source": [
        "data_df2.loc[89640554,:]"
      ],
      "execution_count": null,
      "outputs": []
    },
    {
      "cell_type": "markdown",
      "metadata": {
        "id": "8FBzhw4rafk7"
      },
      "source": [
        "We can even create a quick histogram of a series, using [DataFrame.hist()](https://pandas.pydata.org/docs/reference/api/pandas.DataFrame.hist.html):"
      ]
    },
    {
      "cell_type": "code",
      "metadata": {
        "id": "0H4tQB3wY9sD"
      },
      "source": [
        "# uses matplotlib, more on this later...\n",
        "import numpy as np\n",
        "import matplotlib.pyplot as plt\n",
        "data_df2.loc[:,'MolecularWeight'].hist()\n",
        "plt.show()"
      ],
      "execution_count": null,
      "outputs": []
    },
    {
      "cell_type": "markdown",
      "metadata": {
        "id": "HgXROJenbCKl"
      },
      "source": [
        "Lastly, we can operate on data directly within DataFrames to, for example, create new columns of calculations. As an example, let's say we wanted to create a new column, my_descriptor, which is equal to the MolecularWeight divided by the HeavyAtomCount:"
      ]
    },
    {
      "cell_type": "code",
      "metadata": {
        "id": "DvFBmEZKZwtK"
      },
      "source": [
        "data_df2.loc[:,\"my_descriptor\"] = (data_df2.loc[:,\"MolecularWeight\"] / data_df2.loc[:,\"HeavyAtomCount\"])\n",
        "data_df2"
      ],
      "execution_count": null,
      "outputs": []
    },
    {
      "cell_type": "markdown",
      "metadata": {
        "id": "dqWKgEG8O_XK"
      },
      "source": [
        "[7] http://swcarpentry.github.io/python-novice-gapminder/07-reading-tabular/index.html"
      ]
    },
    {
      "cell_type": "markdown",
      "metadata": {
        "id": "AT5q5QpfZxBZ"
      },
      "source": [
        "# matplotlib Python Library [8-10]"
      ]
    },
    {
      "cell_type": "markdown",
      "metadata": {
        "id": "aEUSEaPmaCKd"
      },
      "source": [
        "Matplotlib is a popular Python library for creating visual plots. The pyplot collection of functions provides MATLAB like plotting [10]. The recommended way to import matplotlib.pyplot is as follows:"
      ]
    },
    {
      "cell_type": "code",
      "metadata": {
        "id": "mVg6KZU4aWK3"
      },
      "source": [
        "import numpy as np\n",
        "import matplotlib.pyplot as plt"
      ],
      "execution_count": null,
      "outputs": []
    },
    {
      "cell_type": "markdown",
      "metadata": {
        "id": "BtAnVUdTaCWf"
      },
      "source": [
        "## Plot from Lists"
      ]
    },
    {
      "cell_type": "code",
      "metadata": {
        "id": "og9gJbo3ag6T"
      },
      "source": [
        "# create two lists\n",
        "x = [10, 20, 30, 40, 50]\n",
        "y = [23, 400, 32, 200, 300]"
      ],
      "execution_count": null,
      "outputs": []
    },
    {
      "cell_type": "code",
      "metadata": {
        "id": "GA82p1FSahCT"
      },
      "source": [
        "plt.plot(x,y) # create a line plot with plot function\n",
        "plt.show() # display plot"
      ],
      "execution_count": null,
      "outputs": []
    },
    {
      "cell_type": "markdown",
      "metadata": {
        "id": "xA6gwXVP_9J_"
      },
      "source": [
        "There are many options for plotting available in matplotlib. For example, we can add labels, specify data marker types, adjust sizes, plot type, and much much more. See the list of [pyplot functions](https://matplotlib.org/stable/api/_as_gen/matplotlib.pyplot.html#module-matplotlib.pyplot) as well as options within each function.\n",
        "\n",
        "As an example, let's:\n",
        "\n",
        "1. Adjust the figure size\n",
        "2. Use red circle markers\n",
        "3. Add labels\n",
        "4. Adjust font sizes"
      ]
    },
    {
      "cell_type": "code",
      "metadata": {
        "id": "cMk1R9QcahHw"
      },
      "source": [
        "# we can make the figure larger if we want:\n",
        "plt.figure(figsize=(8,6))\n",
        "plt.plot(x,y, 'ro', markersize=12) # red circle markers, size 12\n",
        "plt.xticks(size=16) # adjust xtick font size\n",
        "plt.yticks(size=16) # adjust xtick font size\n",
        "plt.ylabel('my y values', fontsize = 16) # add y label\n",
        "plt.xlabel('my x values', fontsize = 16) # add x label\n",
        "plt.show() # display plot"
      ],
      "execution_count": null,
      "outputs": []
    },
    {
      "cell_type": "markdown",
      "metadata": {
        "id": "lWF19fQgEN9i"
      },
      "source": [
        "There are also many built-in [styles](https://matplotlib.org/stable/tutorials/introductory/customizing.html) that you can use."
      ]
    },
    {
      "cell_type": "code",
      "metadata": {
        "id": "aZ0BZ5pnENC2"
      },
      "source": [
        "# list available styles\n",
        "print(plt.style.available)"
      ],
      "execution_count": null,
      "outputs": []
    },
    {
      "cell_type": "code",
      "metadata": {
        "id": "FdgxGNwGEhR8"
      },
      "source": [
        "plt.style.use('seaborn')\n",
        "plt.figure(figsize=(8,6))\n",
        "plt.plot(x,y, 'ro', markersize=12) # red circle markers, size 12\n",
        "plt.xticks(size=16) # adjust xtick font size\n",
        "plt.yticks(size=16) # adjust xtick font size\n",
        "plt.ylabel('my y values', fontsize = 16) # add y label\n",
        "plt.xlabel('my x values', fontsize = 16) # add x label\n",
        "plt.show() # display plot"
      ],
      "execution_count": null,
      "outputs": []
    },
    {
      "cell_type": "code",
      "metadata": {
        "id": "w_M1uoGJGTof"
      },
      "source": [
        "# revert back to default style:\n",
        "# see: https://stackoverflow.com/questions/43279137/what-is-the-name-of-the-default-style-for-matplotlib-2-0-0\n",
        "plt.style.use('default')"
      ],
      "execution_count": null,
      "outputs": []
    },
    {
      "cell_type": "markdown",
      "metadata": {
        "id": "6umt_qfKSO46"
      },
      "source": [
        "[8] http://swcarpentry.github.io/python-novice-gapminder/09-plotting/index.html\n",
        "\n",
        "[9] https://matplotlib.org/stable/api/index.html\n",
        "\n",
        "[10] https://matplotlib.org/stable/api/_as_gen/matplotlib.pyplot.html#module-matplotlib.pyplot"
      ]
    },
    {
      "cell_type": "markdown",
      "metadata": {
        "id": "P2KOi_E_aDdr"
      },
      "source": [
        "## Plot from a Pandas DataFrame [8-11]\n",
        "\n",
        "[Pandas.DataFrame.plot](https://pandas.pydata.org/pandas-docs/stable/user_guide/visualization.html#visualization) is a wrapper for matplotlib plt.plot(). This is very convenient, and allows us to easily plot data directly from pandas DataFrames. To get started, import numpy, matplotlib, and pandas:"
      ]
    },
    {
      "cell_type": "code",
      "metadata": {
        "id": "DFRchIDy_bDY"
      },
      "source": [
        "import numpy as np\n",
        "import matplotlib.pyplot as plt\n",
        "import pandas as pd"
      ],
      "execution_count": null,
      "outputs": []
    },
    {
      "cell_type": "markdown",
      "metadata": {
        "id": "2IQtG87-Ixqd"
      },
      "source": [
        "We'll use our data_df2 DataFrame for plotting:"
      ]
    },
    {
      "cell_type": "code",
      "metadata": {
        "id": "fbEjUSZKalcG"
      },
      "source": [
        "data_df2.head(10)"
      ],
      "execution_count": null,
      "outputs": []
    },
    {
      "cell_type": "markdown",
      "metadata": {
        "id": "3954PWUSLSL2"
      },
      "source": [
        "Let's create a histogram of the molecular weight again, using [DataFrame.hist()](https://pandas.pydata.org/docs/reference/api/pandas.DataFrame.hist.html). However, now we'll adjust some of the options:"
      ]
    },
    {
      "cell_type": "code",
      "metadata": {
        "id": "bJfN1edkLvfn"
      },
      "source": [
        "plt.style.use('seaborn')\n",
        "plt.figure(figsize=(8,6))\n",
        "data_df2.loc[:,'MolecularWeight'].hist(color=\"lightgreen\") # note we indexed out MolecularWeight first\n",
        "plt.xticks(size=16)\n",
        "plt.yticks(size=16)\n",
        "plt.ylabel('Frequency', size=16)\n",
        "plt.xlabel('MolecularWeight', size=16)\n",
        "plt.show()"
      ],
      "execution_count": null,
      "outputs": []
    },
    {
      "cell_type": "markdown",
      "metadata": {
        "id": "FWDfW0b6O3bd"
      },
      "source": [
        "We can also plot several columns at a time:"
      ]
    },
    {
      "cell_type": "code",
      "metadata": {
        "id": "7TyGkEPbOUPs"
      },
      "source": [
        "data_df2.loc[:,'MolecularWeight':'AtomChiralCount'].hist()\n",
        "plt.show()"
      ],
      "execution_count": null,
      "outputs": []
    },
    {
      "cell_type": "markdown",
      "metadata": {
        "id": "lLgH6dz4Q9Zq"
      },
      "source": [
        "Finally, let's try and create a scatter plot using [pandas.DataFrame.plot.scatter()](https://pandas.pydata.org/pandas-docs/stable/reference/api/pandas.DataFrame.plot.scatter.html):"
      ]
    },
    {
      "cell_type": "code",
      "metadata": {
        "id": "Mh0w6FNYalj3"
      },
      "source": [
        "data_df2.plot.scatter(x = \"HeavyAtomCount\", y = \"MolecularWeight\", figsize=(8,6))\n",
        "plt.xticks(size=16)\n",
        "plt.yticks(size=16)\n",
        "plt.ylabel('MolecularWeight', size=16)\n",
        "plt.xlabel('HeavyAtomCount', size=16)\n",
        "plt.show()"
      ],
      "execution_count": null,
      "outputs": []
    },
    {
      "cell_type": "markdown",
      "metadata": {
        "id": "EI4Aek1oihJX"
      },
      "source": [
        "[8] http://swcarpentry.github.io/python-novice-gapminder/09-plotting/index.html\n",
        "\n",
        "[9] https://matplotlib.org/stable/api/index.html\n",
        "\n",
        "[10] https://matplotlib.org/stable/api/_as_gen/matplotlib.pyplot.html#module-matplotlib.pyplot\n",
        "\n",
        "[11] https://pandas.pydata.org/pandas-docs/stable/user_guide/visualization.html#visualization"
      ]
    },
    {
      "cell_type": "markdown",
      "metadata": {
        "id": "I8S0352gLNI0"
      },
      "source": [
        "# Additional Resources\n",
        "\n",
        "[1] https://jakevdp.github.io/PythonDataScienceHandbook/"
      ]
    },
    {
      "cell_type": "markdown",
      "metadata": {
        "id": "lOfY8z_9hCb6"
      },
      "source": [
        "# Notebook Copy\n",
        "\n",
        "An archived version of this notebook is available on our UALIB_Workshops GitHub repository: https://github.com/ualibweb/UALIB_Workshops"
      ]
    },
    {
      "cell_type": "markdown",
      "metadata": {
        "id": "OJlv1W0cevl-"
      },
      "source": [
        "Note: The molecular dataset was retrieved from NCBI via their EDirect utility and is credited to NCBI and NLM. Please see the [NCBI Website and Data Usage Policies and Disclaimers](https://www.ncbi.nlm.nih.gov/home/about/policies/) for more information regarding the data."
      ]
    }
  ]
}