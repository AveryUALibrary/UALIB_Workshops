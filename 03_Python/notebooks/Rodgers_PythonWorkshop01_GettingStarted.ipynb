{
  "nbformat": 4,
  "nbformat_minor": 0,
  "metadata": {
    "colab": {
      "name": "Rodgers_PythonWorkshop01_GettingStarted.ipynb",
      "provenance": [],
      "toc_visible": true
    },
    "kernelspec": {
      "name": "python3",
      "display_name": "Python 3"
    }
  },
  "cells": [
    {
      "cell_type": "markdown",
      "metadata": {
        "id": "PVtJvcEPfwre"
      },
      "source": [
        "# Introduction to Python Workshop Series 1: Getting Started\n",
        "March 9 at 3:00 PM \\\n",
        "Vincent Scalfani and Lance Simpson \\\n",
        "*The University of Alabama Libraries* \\\n",
        "[Contact Information on UA Libraries Directory](https://www.lib.ua.edu/#/staffdir?liaison=1&department=Rodgers%20Library%20for%20Science%20and%20Engineering)\n",
        "\n",
        "\n",
        "**Today, attendees will learn how to:**\n",
        "\n",
        "* Work with Python in Google Colaboratory\n",
        "* Format notebooks\n",
        "* Get help in Python and view documentation\n",
        "* Understand basic Python syntax and create variables\n",
        "* Import Python libraries  \n",
        "* Load data into Colaboratory notebooks\n",
        "* Save and share notebooks\n"
      ]
    },
    {
      "cell_type": "markdown",
      "metadata": {
        "id": "LA4Pn7aEWVGi"
      },
      "source": [
        "# Annoucements\n",
        "\n",
        "March 23 at 3:00 PM \\\n",
        "**Introduction to Python Workshop Series 2: Functions, Loops, and Conditional Statements**\n",
        "\n",
        "April 6 at 3:00 PM \\\n",
        "**Introduction to Python Workshop Series 3: DataFrames and Plotting Data**\n",
        "\n",
        "More information and registration here: https://calendar.ua.edu/department/university_libraries/calendar\n",
        "\n",
        "\n"
      ]
    },
    {
      "cell_type": "markdown",
      "metadata": {
        "id": "IcxYmdGdgopl"
      },
      "source": [
        "# What is Google Colaboratory (Colab) [1]?\n",
        "\n",
        "1. Online Jupyter based environment for Python programming\n",
        "\n",
        "2. It is free.\n",
        "\n",
        "3. No setup or local installations are necassary. Code is run on a temporary virtual machine provided by Colab service.\n",
        "\n",
        "4. You can use Chrome, Firefox, or Safari. Other browsers may be supported.\n",
        "\n",
        "3. A \"Pro\" version is available if more computing resources are needed.\n",
        "\n",
        "\n",
        "\n",
        "\n",
        "[1] See the Google Research FAQ: https://research.google.com/colaboratory/faq.html\n"
      ]
    },
    {
      "cell_type": "markdown",
      "metadata": {
        "id": "KKiVnNKYjgW6"
      },
      "source": [
        "# Setup For Today\n",
        "\n",
        "If you would like to follow along intractively with us today:\n",
        "\n",
        "1. Go to the link provided in Zoom chat for this Colab notebook. \n",
        "\n",
        "2. Save a copy to your Google Drive. You should then be able to run and edit the code interactively."
      ]
    },
    {
      "cell_type": "markdown",
      "metadata": {
        "id": "CydB4KKCr6v7"
      },
      "source": [
        "# Getting Started\n",
        "For good luck and to make sure our Colab Notebook connects to a virtual machine:"
      ]
    },
    {
      "cell_type": "code",
      "metadata": {
        "id": "nxCUiSxSuvPW",
        "colab": {
          "base_uri": "https://localhost:8080/"
        },
        "outputId": "528881b3-2d8b-4d47-9d12-f62d80037603"
      },
      "source": [
        "print(\"Hello World!\")"
      ],
      "execution_count": 104,
      "outputs": [
        {
          "output_type": "stream",
          "text": [
            "Hello World!\n"
          ],
          "name": "stdout"
        }
      ]
    },
    {
      "cell_type": "markdown",
      "metadata": {
        "id": "hxlk2mnsy2aa"
      },
      "source": [
        "## Working with Text in Colab"
      ]
    },
    {
      "cell_type": "markdown",
      "metadata": {
        "id": "oL7Bw2r5wvRJ"
      },
      "source": [
        "### In Code Cells"
      ]
    },
    {
      "cell_type": "code",
      "metadata": {
        "colab": {
          "base_uri": "https://localhost:8080/"
        },
        "id": "x7GbecKdwRay",
        "outputId": "0b9be050-53b6-442a-8566-14e926bb409a"
      },
      "source": [
        "# This is a Code cell\n",
        "# Python will ignore any text after a `#` symbol\n",
        "# Text comments can be on their own line like this:\n",
        "\n",
        "# Let's say Hi!\n",
        "print(\"Hello World!\")"
      ],
      "execution_count": 105,
      "outputs": [
        {
          "output_type": "stream",
          "text": [
            "Hello World!\n"
          ],
          "name": "stdout"
        }
      ]
    },
    {
      "cell_type": "code",
      "metadata": {
        "colab": {
          "base_uri": "https://localhost:8080/"
        },
        "id": "-A5eHUMhxlTY",
        "outputId": "643e4147-4efe-41dc-ad02-b83a472be478"
      },
      "source": [
        "# Text comments can also be placed after code on same line:\n",
        "print(\"Hello World!\") # Let's say Hi!"
      ],
      "execution_count": 106,
      "outputs": [
        {
          "output_type": "stream",
          "text": [
            "Hello World!\n"
          ],
          "name": "stdout"
        }
      ]
    },
    {
      "cell_type": "markdown",
      "metadata": {
        "id": "iFeItODYw-nU"
      },
      "source": [
        "### In Text Cells [2,3]\n",
        "\n",
        "This is a Text Cell. Text Cells use Markdown formatting, which is a markup language [2,3]. The basics are straightforward:\n",
        "\n",
        "```markdown\n",
        "**bold text**\n",
        "```\n",
        "**bold text**\n",
        "\n",
        "\\\n",
        "\n",
        "```markdown\n",
        "*Italics*\n",
        "```\n",
        "*Italics*\n",
        "\n",
        "\\\n",
        "\n",
        "Headings use `#` and automatically populate the Colab Table of Contents.\n",
        "\n",
        "```markdown\n",
        "# Heading 1\n",
        "## Heading 2 (under 1)\n",
        "### Heading 3 (under 2)\n",
        "```\n",
        "\n",
        "# Heading 1\n",
        "## Heading 2 (under 1)\n",
        "### Heading 3 (under 2)\n",
        "\n",
        "\\\n",
        "\n",
        "List markup:\n",
        "\n",
        "```markdown\n",
        "1. Item one\n",
        "2. Item two\n",
        "3. Item three\n",
        "```\n",
        "1. Item one\n",
        "2. Item two\n",
        "3. Item three\n",
        "\n",
        "Bullets:\n",
        "\n",
        "```markdown\n",
        "* Item one\n",
        "* Item two\n",
        "* Item three\n",
        "```\n",
        "* Item one\n",
        "* Item two\n",
        "* Item three\n",
        "\n",
        "\\\n",
        "\n",
        "\n",
        "Links can be added as standard URLs:\n",
        "\n",
        "https://github.com/vfscalfani/UALIB_Workshops\n",
        "\n",
        "Or they can be renamed like this:\n",
        "\n",
        "```markdown\n",
        "[UALIB GutHub Repository](https://github.com/vfscalfani/UALIB_Workshops)\n",
        "```\n",
        "\n",
        "[UALIB GutHub Repository](https://github.com/vfscalfani/UALIB_Workshops)\n",
        "\n",
        "\\\n",
        "\n",
        "Code blocks can be incorporated with three backticks.\n",
        "\n",
        "\n",
        "````\n",
        "```python\n",
        "print(\"Hello World!\")\n",
        "```\n",
        "````\n",
        "\n",
        "```python\n",
        "print(\"Hello World!\")\n",
        "```\n",
        "\n",
        "A single backtick,  `` ` ``, is used for inline code:\n",
        "\n",
        "The Python function \\`print`.\n",
        "\n",
        "The Python function `print`.\n",
        "\n",
        "\\\n",
        "\n",
        "**References**\n",
        "\n",
        "[2] https://colab.research.google.com/notebooks/markdown_guide.ipynb\n",
        "\n",
        "[3] https://docs.github.com/en/github/writing-on-github/basic-writing-and-formatting-syntax\n",
        "\n"
      ]
    },
    {
      "cell_type": "markdown",
      "metadata": {
        "id": "UCo-hX2svX60"
      },
      "source": [
        "## Interrupt Code Execution [4]\n",
        "\n",
        "Before we get too far, it is useful to know how to stop code execution in Colab. Consider this simple example where we print numbers 0-99 wth a 1 sec delay between each print. What if we made a mistake or the code is taking too long?"
      ]
    },
    {
      "cell_type": "code",
      "metadata": {
        "id": "LXlKu7EP57_q"
      },
      "source": [
        "# Stop a code execution with:\n",
        "# Select Runtime > Interrupt Execution or click on stop.\n",
        "import time\n",
        "nums = list(range(1,100))\n",
        "for num in nums:\n",
        "  print(num)\n",
        "  time.sleep(1)"
      ],
      "execution_count": null,
      "outputs": []
    },
    {
      "cell_type": "markdown",
      "metadata": {
        "id": "ujp7M3QKn0Kr"
      },
      "source": [
        "[4] https://colab.research.google.com/notebooks/basic_features_overview.ipynb"
      ]
    },
    {
      "cell_type": "markdown",
      "metadata": {
        "id": "rjUiAUCRIdYm"
      },
      "source": [
        "# Getting Help in Python"
      ]
    },
    {
      "cell_type": "markdown",
      "metadata": {
        "id": "LE2z8LkbPvFV"
      },
      "source": [
        "## Web Documentation\n",
        "\n",
        "We recommend starting out with viewing the online web-based documentation for Python: https://docs.python.org/3/. See also the Library Reference section for built-in Python functions: https://docs.python.org/3/library/index.html\n",
        "\n",
        "\\\n",
        "Moreover, when using new libraries, start with the available online documentaion, for example, here is the documentation for the pandas data analysis and manipulation library: https://pandas.pydata.org/docs/"
      ]
    },
    {
      "cell_type": "markdown",
      "metadata": {
        "id": "158F0265bdgZ"
      },
      "source": [
        "## help() function [5,6]\n",
        "\n"
      ]
    },
    {
      "cell_type": "code",
      "metadata": {
        "id": "bj3uj3FFbpz4",
        "colab": {
          "base_uri": "https://localhost:8080/"
        },
        "outputId": "c79692cd-95dc-4f25-e928-4a2dda29708e"
      },
      "source": [
        "# If you know the name of the function, use the help() function \n",
        "# to display the docstring\n",
        "help(sorted)"
      ],
      "execution_count": 108,
      "outputs": [
        {
          "output_type": "stream",
          "text": [
            "Help on built-in function sorted in module builtins:\n",
            "\n",
            "sorted(iterable, /, *, key=None, reverse=False)\n",
            "    Return a new list containing all items from the iterable in ascending order.\n",
            "    \n",
            "    A custom key function can be supplied to customize the sort order, and the\n",
            "    reverse flag can be set to request the result in descending order.\n",
            "\n"
          ],
          "name": "stdout"
        }
      ]
    },
    {
      "cell_type": "code",
      "metadata": {
        "id": "5JeqnBMYbrid"
      },
      "source": [
        "# using a question mark will show the help in a pop-up Colab window\n",
        "sorted?"
      ],
      "execution_count": 109,
      "outputs": []
    },
    {
      "cell_type": "code",
      "metadata": {
        "id": "sbsnKHqJjjcI"
      },
      "source": [
        "# You may have noticed that Colab shows recommedations as you type.\n",
        "# These can be useful, especially for exploring operations of objects.\n",
        "\n",
        "a = [6,3,0,5] # this creates a list"
      ],
      "execution_count": 110,
      "outputs": []
    },
    {
      "cell_type": "code",
      "metadata": {
        "id": "ghKIDwkKbrlt"
      },
      "source": [
        "# now if we type `a` followed by a period `.`, the available attributes/methods\n",
        "# will show up. We can select one we are interested in and add a ? for info\n",
        "a.pop?"
      ],
      "execution_count": 111,
      "outputs": []
    },
    {
      "cell_type": "markdown",
      "metadata": {
        "id": "IKX2wIq_oR6i"
      },
      "source": [
        "For more help information, see:\n",
        "\n",
        "[5] https://jakevdp.github.io/PythonDataScienceHandbook/01.01-help-and-documentation.html\n",
        "\n",
        "[6] https://colab.research.google.com/notebooks/basic_features_overview.ipynb"
      ]
    },
    {
      "cell_type": "markdown",
      "metadata": {
        "id": "bCGPKBj5pJ0D"
      },
      "source": [
        "## dir() function [7]"
      ]
    },
    {
      "cell_type": "code",
      "metadata": {
        "id": "NWcaXHRmmHx-"
      },
      "source": [
        "# The Python dir() function is useful for exploring modules [7].\n",
        "# this prints a list of available functions and variables\n",
        "# example with time module\n",
        "import time\n",
        "dir(time)"
      ],
      "execution_count": null,
      "outputs": []
    },
    {
      "cell_type": "markdown",
      "metadata": {
        "id": "fVd0JnzlqTLT"
      },
      "source": [
        "[7] https://stackoverflow.com/questions/139180/how-to-list-all-functions-in-a-python-module\n",
        "\n",
        "Note that if you are unfamiliar with the module, it may be eaiser to explore the module on the web: https://docs.python.org/3/library/time.html?highlight=time#module-time"
      ]
    },
    {
      "cell_type": "code",
      "metadata": {
        "colab": {
          "base_uri": "https://localhost:8080/"
        },
        "id": "k_i6yM2fmH1e",
        "outputId": "c5cf8197-6d34-4fa7-b7a5-1d16c1d5fe6d"
      },
      "source": [
        "# now we can use help() to get more information about a particular function\n",
        "help(time.sleep)"
      ],
      "execution_count": 114,
      "outputs": [
        {
          "output_type": "stream",
          "text": [
            "Help on built-in function sleep in module time:\n",
            "\n",
            "sleep(...)\n",
            "    sleep(seconds)\n",
            "    \n",
            "    Delay execution for a given number of seconds.  The argument may be\n",
            "    a floating point number for subsecond precision.\n",
            "\n"
          ],
          "name": "stdout"
        }
      ]
    },
    {
      "cell_type": "markdown",
      "metadata": {
        "id": "NtZuaGPRRMDh"
      },
      "source": [
        "# Basic Python Syntax [8]"
      ]
    },
    {
      "cell_type": "code",
      "metadata": {
        "id": "_uWn5gfqRGZ_"
      },
      "source": [
        "# assignments\n",
        "h = 5"
      ],
      "execution_count": 115,
      "outputs": []
    },
    {
      "cell_type": "code",
      "metadata": {
        "id": "0w-DBcUpRGgp"
      },
      "source": [
        "# You can continue statements on a new line by enclosing with parentheses\n",
        "k = (1 + 2 + 3 + 4 + 5 + 6 + 7 + 8 + 9\n",
        "     + 10 + 11 + 12 + 13 + 14 + 15)"
      ],
      "execution_count": 116,
      "outputs": []
    },
    {
      "cell_type": "code",
      "metadata": {
        "id": "YJYrQCThRGj5",
        "colab": {
          "base_uri": "https://localhost:8080/"
        },
        "outputId": "af8691e6-f9d5-4a88-8e76-bea9b61b72da"
      },
      "source": [
        "# Parentheses are also used for grouping\n",
        "5 * (1 + 1)"
      ],
      "execution_count": 117,
      "outputs": [
        {
          "output_type": "execute_result",
          "data": {
            "text/plain": [
              "10"
            ]
          },
          "metadata": {
            "tags": []
          },
          "execution_count": 117
        }
      ]
    },
    {
      "cell_type": "code",
      "metadata": {
        "id": "Zbr4cuOKRGmw",
        "colab": {
          "base_uri": "https://localhost:8080/"
        },
        "outputId": "be475f1b-8051-4d90-a249-19cef2a6981d"
      },
      "source": [
        "# note that output is suppressed by defualt\n",
        "# use the print function or type the variable name\n",
        "k"
      ],
      "execution_count": 118,
      "outputs": [
        {
          "output_type": "execute_result",
          "data": {
            "text/plain": [
              "120"
            ]
          },
          "metadata": {
            "tags": []
          },
          "execution_count": 118
        }
      ]
    },
    {
      "cell_type": "code",
      "metadata": {
        "id": "MmDb3ADQRGp4"
      },
      "source": [
        "# each statement is generally written on a new line\n",
        "a = 1\n",
        "b = 2\n",
        "\n",
        "# alternatively, you can terminate statements with a semicolon\n",
        "# and put multiple statements on one line, like this:\n",
        "\n",
        "a = 1; b = 2"
      ],
      "execution_count": 119,
      "outputs": []
    },
    {
      "cell_type": "code",
      "metadata": {
        "id": "pnrnwFCMRGsu",
        "colab": {
          "base_uri": "https://localhost:8080/"
        },
        "outputId": "680f6ab0-c071-4a2a-f241-6d5d3048c3b7"
      },
      "source": [
        "# Indentation is important\n",
        "\n",
        "x = 1\n",
        "if x < 2:\n",
        "   y = x + 1\n",
        "   print(x) # here print(x) will only be executed if x < 2"
      ],
      "execution_count": 120,
      "outputs": [
        {
          "output_type": "stream",
          "text": [
            "1\n"
          ],
          "name": "stdout"
        }
      ]
    },
    {
      "cell_type": "code",
      "metadata": {
        "id": "E2fMPmJXRw_2",
        "colab": {
          "base_uri": "https://localhost:8080/"
        },
        "outputId": "d6de972a-d60e-46be-8d77-f82e7ae59f52"
      },
      "source": [
        "x = 20\n",
        "if x < 2:\n",
        "   y = x + 1\n",
        "print(x) # here print(x) is outside the block and will always be executed."
      ],
      "execution_count": 121,
      "outputs": [
        {
          "output_type": "stream",
          "text": [
            "20\n"
          ],
          "name": "stdout"
        }
      ]
    },
    {
      "cell_type": "code",
      "metadata": {
        "id": "6idKR2jZRxG4",
        "colab": {
          "base_uri": "https://localhost:8080/"
        },
        "outputId": "f5523dff-24b6-475d-fb94-7e1486768f09"
      },
      "source": [
        "# note that spaces on the same line do not matter\n",
        "x = 1 + 10\n",
        "x"
      ],
      "execution_count": 122,
      "outputs": [
        {
          "output_type": "execute_result",
          "data": {
            "text/plain": [
              "11"
            ]
          },
          "metadata": {
            "tags": []
          },
          "execution_count": 122
        }
      ]
    },
    {
      "cell_type": "code",
      "metadata": {
        "id": "BXSDmgoURxOC",
        "colab": {
          "base_uri": "https://localhost:8080/"
        },
        "outputId": "bf2c17ab-07c8-4afb-a467-c48a30533326"
      },
      "source": [
        "x = 1       +     10\n",
        "x"
      ],
      "execution_count": 123,
      "outputs": [
        {
          "output_type": "execute_result",
          "data": {
            "text/plain": [
              "11"
            ]
          },
          "metadata": {
            "tags": []
          },
          "execution_count": 123
        }
      ]
    },
    {
      "cell_type": "code",
      "metadata": {
        "id": "ZECHScKCRG0g",
        "colab": {
          "base_uri": "https://localhost:8080/"
        },
        "outputId": "e337dab6-2f07-4d68-f423-3926ccb75bc0"
      },
      "source": [
        "# functions are called with parentheses\n",
        "print(\"Hello World!\")"
      ],
      "execution_count": 124,
      "outputs": [
        {
          "output_type": "stream",
          "text": [
            "Hello World!\n"
          ],
          "name": "stdout"
        }
      ]
    },
    {
      "cell_type": "code",
      "metadata": {
        "id": "eJbbFUxLRG86",
        "colab": {
          "base_uri": "https://localhost:8080/"
        },
        "outputId": "504f1ec8-a413-44db-8525-a00cd6df4546"
      },
      "source": [
        "# empty parentheses are used when a function should be evaluated\n",
        "# even with no argument input\n",
        "\n",
        "myList = [23, 1, 45, 9]\n",
        "myList.reverse() # the () indicates to evaluate reverse function with no arguments\n",
        "print(myList)"
      ],
      "execution_count": 125,
      "outputs": [
        {
          "output_type": "stream",
          "text": [
            "[9, 45, 1, 23]\n"
          ],
          "name": "stdout"
        }
      ]
    },
    {
      "cell_type": "markdown",
      "metadata": {
        "id": "M5rEYyXrSZqu"
      },
      "source": [
        "[8] Basic Python Syntax section adapted from https://nbviewer.jupyter.org/github/jakevdp/WhirlwindTourOfPython/blob/master/02-Basic-Python-Syntax.ipynb"
      ]
    },
    {
      "cell_type": "markdown",
      "metadata": {
        "id": "FJJUjIFDxP6p"
      },
      "source": [
        "# Python Variables [9,10]\n",
        "\n",
        "Python uses the `=` symbol to assign values to names."
      ]
    },
    {
      "cell_type": "markdown",
      "metadata": {
        "id": "YI6tTUBtxPwc"
      },
      "source": [
        "## Simple Variables\n"
      ]
    },
    {
      "cell_type": "markdown",
      "metadata": {
        "id": "kgIqVn0HGmSu"
      },
      "source": [
        "### Integers\n"
      ]
    },
    {
      "cell_type": "code",
      "metadata": {
        "colab": {
          "base_uri": "https://localhost:8080/"
        },
        "id": "GNkr9TpBGrOn",
        "outputId": "40997b32-da7d-40b5-8888-1601dccb57ec"
      },
      "source": [
        "x = 5\n",
        "print(x)"
      ],
      "execution_count": 126,
      "outputs": [
        {
          "output_type": "stream",
          "text": [
            "5\n"
          ],
          "name": "stdout"
        }
      ]
    },
    {
      "cell_type": "code",
      "metadata": {
        "colab": {
          "base_uri": "https://localhost:8080/"
        },
        "id": "qa_EMobyGzCB",
        "outputId": "0d73c5a0-ae13-4bb0-868d-9e8862b71528"
      },
      "source": [
        "# use the type function to view type\n",
        "type(x)"
      ],
      "execution_count": 127,
      "outputs": [
        {
          "output_type": "execute_result",
          "data": {
            "text/plain": [
              "int"
            ]
          },
          "metadata": {
            "tags": []
          },
          "execution_count": 127
        }
      ]
    },
    {
      "cell_type": "markdown",
      "metadata": {
        "id": "BkMbRKpJJVPF"
      },
      "source": [
        "Variables are stored between cells"
      ]
    },
    {
      "cell_type": "code",
      "metadata": {
        "colab": {
          "base_uri": "https://localhost:8080/"
        },
        "id": "0poQ5LXfJYJU",
        "outputId": "9c95f8af-9cfd-4f49-ce9c-5bf0efbdf111"
      },
      "source": [
        "print(x)"
      ],
      "execution_count": 128,
      "outputs": [
        {
          "output_type": "stream",
          "text": [
            "5\n"
          ],
          "name": "stdout"
        }
      ]
    },
    {
      "cell_type": "code",
      "metadata": {
        "colab": {
          "base_uri": "https://localhost:8080/"
        },
        "id": "hL9GhcBWJYRS",
        "outputId": "75823990-3437-423d-e889-5464e6826659"
      },
      "source": [
        "# overwrite x\n",
        "x = 7\n",
        "print(x)"
      ],
      "execution_count": 129,
      "outputs": [
        {
          "output_type": "stream",
          "text": [
            "7\n"
          ],
          "name": "stdout"
        }
      ]
    },
    {
      "cell_type": "markdown",
      "metadata": {
        "id": "5CXdGsSXLhoK"
      },
      "source": [
        "### Floating Point Numbers"
      ]
    },
    {
      "cell_type": "code",
      "metadata": {
        "colab": {
          "base_uri": "https://localhost:8080/"
        },
        "id": "7YwXQdFnJYXY",
        "outputId": "4a8a83e5-73fb-45b6-82ce-2bedac1721c8"
      },
      "source": [
        "a = 1.825\n",
        "print(a)"
      ],
      "execution_count": 130,
      "outputs": [
        {
          "output_type": "stream",
          "text": [
            "1.825\n"
          ],
          "name": "stdout"
        }
      ]
    },
    {
      "cell_type": "code",
      "metadata": {
        "colab": {
          "base_uri": "https://localhost:8080/"
        },
        "id": "gH7eGjJ-JYbE",
        "outputId": "bda15d7d-a151-4043-e5de-0161cbebf29c"
      },
      "source": [
        "type(a)"
      ],
      "execution_count": 131,
      "outputs": [
        {
          "output_type": "execute_result",
          "data": {
            "text/plain": [
              "float"
            ]
          },
          "metadata": {
            "tags": []
          },
          "execution_count": 131
        }
      ]
    },
    {
      "cell_type": "code",
      "metadata": {
        "colab": {
          "base_uri": "https://localhost:8080/"
        },
        "id": "VLED13O7L4NC",
        "outputId": "06cac389-2212-4163-aa09-252bc6d51b2f"
      },
      "source": [
        "# we can also use the float function\n",
        "b = float(2)\n",
        "print(b)"
      ],
      "execution_count": 132,
      "outputs": [
        {
          "output_type": "stream",
          "text": [
            "2.0\n"
          ],
          "name": "stdout"
        }
      ]
    },
    {
      "cell_type": "code",
      "metadata": {
        "colab": {
          "base_uri": "https://localhost:8080/"
        },
        "id": "fWNUkdHZL4T-",
        "outputId": "996fa284-3984-4970-fa18-6101202dae0a"
      },
      "source": [
        "type(b)"
      ],
      "execution_count": 133,
      "outputs": [
        {
          "output_type": "execute_result",
          "data": {
            "text/plain": [
              "float"
            ]
          },
          "metadata": {
            "tags": []
          },
          "execution_count": 133
        }
      ]
    },
    {
      "cell_type": "markdown",
      "metadata": {
        "id": "2TjxVLSkN_QC"
      },
      "source": [
        "### Strings\n",
        "\n",
        "Python uses single `' '` or double quotes `\" \"` to create strings"
      ]
    },
    {
      "cell_type": "code",
      "metadata": {
        "colab": {
          "base_uri": "https://localhost:8080/"
        },
        "id": "Ie3SEA9gL4aQ",
        "outputId": "00b25a1b-e09a-45d4-ce89-73e0d06b6488"
      },
      "source": [
        "s1 = \"Thanks for coming to our workshop!\"\n",
        "print(s1)"
      ],
      "execution_count": 134,
      "outputs": [
        {
          "output_type": "stream",
          "text": [
            "Thanks for coming to our workshop!\n"
          ],
          "name": "stdout"
        }
      ]
    },
    {
      "cell_type": "code",
      "metadata": {
        "colab": {
          "base_uri": "https://localhost:8080/",
          "height": 35
        },
        "id": "4K0ZaBU0Ob0p",
        "outputId": "8eaf4389-f27d-466f-db05-adea08f9bf22"
      },
      "source": [
        "s2 = 'single quotes work too'\n",
        "s2"
      ],
      "execution_count": 135,
      "outputs": [
        {
          "output_type": "execute_result",
          "data": {
            "application/vnd.google.colaboratory.intrinsic+json": {
              "type": "string"
            },
            "text/plain": [
              "'single quotes work too'"
            ]
          },
          "metadata": {
            "tags": []
          },
          "execution_count": 135
        }
      ]
    },
    {
      "cell_type": "code",
      "metadata": {
        "colab": {
          "base_uri": "https://localhost:8080/"
        },
        "id": "nwbXywJhOb9h",
        "outputId": "32b215e4-b5d1-4cb3-a4be-83c19853dc48"
      },
      "source": [
        "type(s2)"
      ],
      "execution_count": 136,
      "outputs": [
        {
          "output_type": "execute_result",
          "data": {
            "text/plain": [
              "str"
            ]
          },
          "metadata": {
            "tags": []
          },
          "execution_count": 136
        }
      ]
    },
    {
      "cell_type": "code",
      "metadata": {
        "colab": {
          "base_uri": "https://localhost:8080/"
        },
        "id": "V8qceElzO8SX",
        "outputId": "2e9f3a8e-b343-4e87-8ce7-b337d1af8dd1"
      },
      "source": [
        "# double quotes are sometimes required:\n",
        "s3 = \"Wow, that's awesome\"\n",
        "print(s3)"
      ],
      "execution_count": 137,
      "outputs": [
        {
          "output_type": "stream",
          "text": [
            "Wow, that's awesome\n"
          ],
          "name": "stdout"
        }
      ]
    },
    {
      "cell_type": "markdown",
      "metadata": {
        "id": "EHZxPa9zPj7O"
      },
      "source": [
        "We can index into strings using brackets"
      ]
    },
    {
      "cell_type": "code",
      "metadata": {
        "colab": {
          "base_uri": "https://localhost:8080/",
          "height": 35
        },
        "id": "UA5At-waO85q",
        "outputId": "e5667180-106e-4531-a102-c622d3cf0b98"
      },
      "source": [
        "# get the first character (zero based indexing in Python)\n",
        "s3[0]"
      ],
      "execution_count": 138,
      "outputs": [
        {
          "output_type": "execute_result",
          "data": {
            "application/vnd.google.colaboratory.intrinsic+json": {
              "type": "string"
            },
            "text/plain": [
              "'W'"
            ]
          },
          "metadata": {
            "tags": []
          },
          "execution_count": 138
        }
      ]
    },
    {
      "cell_type": "code",
      "metadata": {
        "colab": {
          "base_uri": "https://localhost:8080/",
          "height": 35
        },
        "id": "w7xbfmjpO9B_",
        "outputId": "37fcae3b-1689-4bb8-e093-d52509105540"
      },
      "source": [
        "# get the last character\n",
        "s3[18]"
      ],
      "execution_count": 139,
      "outputs": [
        {
          "output_type": "execute_result",
          "data": {
            "application/vnd.google.colaboratory.intrinsic+json": {
              "type": "string"
            },
            "text/plain": [
              "'e'"
            ]
          },
          "metadata": {
            "tags": []
          },
          "execution_count": 139
        }
      ]
    },
    {
      "cell_type": "code",
      "metadata": {
        "colab": {
          "base_uri": "https://localhost:8080/",
          "height": 35
        },
        "id": "7xyJylqzO9HR",
        "outputId": "e11286d2-e990-4168-9f1f-0d72dee27b9f"
      },
      "source": [
        "# get the last character, use -1 for end\n",
        "s3[-1]"
      ],
      "execution_count": 140,
      "outputs": [
        {
          "output_type": "execute_result",
          "data": {
            "application/vnd.google.colaboratory.intrinsic+json": {
              "type": "string"
            },
            "text/plain": [
              "'e'"
            ]
          },
          "metadata": {
            "tags": []
          },
          "execution_count": 140
        }
      ]
    },
    {
      "cell_type": "code",
      "metadata": {
        "colab": {
          "base_uri": "https://localhost:8080/",
          "height": 35
        },
        "id": "pE3sfXb8RIkK",
        "outputId": "f4fd225a-d639-4f70-a930-c86e2569ab78"
      },
      "source": [
        "# get a range of charcters using a :\n",
        "# values between indices\n",
        "s3[0:3]"
      ],
      "execution_count": 143,
      "outputs": [
        {
          "output_type": "execute_result",
          "data": {
            "application/vnd.google.colaboratory.intrinsic+json": {
              "type": "string"
            },
            "text/plain": [
              "'Wow'"
            ]
          },
          "metadata": {
            "tags": []
          },
          "execution_count": 143
        }
      ]
    },
    {
      "cell_type": "code",
      "metadata": {
        "id": "8kHBmym6RcxO"
      },
      "source": [
        "# There are many built in functions and methods for strings\n",
        "help(str)"
      ],
      "execution_count": null,
      "outputs": []
    },
    {
      "cell_type": "code",
      "metadata": {
        "colab": {
          "base_uri": "https://localhost:8080/"
        },
        "id": "XIqAUGZKRc5O",
        "outputId": "296f0499-173b-4174-fb36-28f1cb597af5"
      },
      "source": [
        "# length\n",
        "len(s3)"
      ],
      "execution_count": 145,
      "outputs": [
        {
          "output_type": "execute_result",
          "data": {
            "text/plain": [
              "19"
            ]
          },
          "metadata": {
            "tags": []
          },
          "execution_count": 145
        }
      ]
    },
    {
      "cell_type": "code",
      "metadata": {
        "colab": {
          "base_uri": "https://localhost:8080/",
          "height": 35
        },
        "id": "h9rYfKMoRc8P",
        "outputId": "625f5777-07a2-4ed2-ff0d-31f00a933e6e"
      },
      "source": [
        "# create a title version\n",
        "s1.title()"
      ],
      "execution_count": 146,
      "outputs": [
        {
          "output_type": "execute_result",
          "data": {
            "application/vnd.google.colaboratory.intrinsic+json": {
              "type": "string"
            },
            "text/plain": [
              "'Thanks For Coming To Our Workshop!'"
            ]
          },
          "metadata": {
            "tags": []
          },
          "execution_count": 146
        }
      ]
    },
    {
      "cell_type": "code",
      "metadata": {
        "colab": {
          "base_uri": "https://localhost:8080/",
          "height": 35
        },
        "id": "cUJ9_LdDTJrH",
        "outputId": "ffe43251-18ad-44f0-d775-5d28b966fec4"
      },
      "source": [
        "# lowercase all text\n",
        "s1.lower()"
      ],
      "execution_count": 147,
      "outputs": [
        {
          "output_type": "execute_result",
          "data": {
            "application/vnd.google.colaboratory.intrinsic+json": {
              "type": "string"
            },
            "text/plain": [
              "'thanks for coming to our workshop!'"
            ]
          },
          "metadata": {
            "tags": []
          },
          "execution_count": 147
        }
      ]
    },
    {
      "cell_type": "code",
      "metadata": {
        "colab": {
          "base_uri": "https://localhost:8080/",
          "height": 35
        },
        "id": "KulN1n8XTJt0",
        "outputId": "e9579810-6ce6-4aee-cdce-1fe6884726e3"
      },
      "source": [
        "# replace text\n",
        "s1.replace('workshop','zoom lesson',1)"
      ],
      "execution_count": 148,
      "outputs": [
        {
          "output_type": "execute_result",
          "data": {
            "application/vnd.google.colaboratory.intrinsic+json": {
              "type": "string"
            },
            "text/plain": [
              "'Thanks for coming to our zoom lesson!'"
            ]
          },
          "metadata": {
            "tags": []
          },
          "execution_count": 148
        }
      ]
    },
    {
      "cell_type": "markdown",
      "metadata": {
        "id": "pmgrJUMBU1Hr"
      },
      "source": [
        "There are other built in Python types including complex, boolean, and None. See the Python documention for [Built-in Types](https://docs.python.org/3/library/stdtypes.html)."
      ]
    },
    {
      "cell_type": "markdown",
      "metadata": {
        "id": "mCuWYhhFxPmS"
      },
      "source": [
        "## Compound Variables"
      ]
    },
    {
      "cell_type": "markdown",
      "metadata": {
        "id": "PGlfR6hhqTzs"
      },
      "source": [
        "### Lists\n",
        "\n",
        "Lists are one of the sequence types in Python and are created by separating values with a comma and enclosing in brackets, `[]`."
      ]
    },
    {
      "cell_type": "code",
      "metadata": {
        "id": "4JbJAtTLNtII",
        "colab": {
          "base_uri": "https://localhost:8080/"
        },
        "outputId": "e8e250aa-6ed7-4d26-cd4b-ee6088e8cd20"
      },
      "source": [
        "# create a list with numbers\n",
        "myL = [10, 20, 20, 30, 100, 10, 50]\n",
        "print(myL)"
      ],
      "execution_count": 149,
      "outputs": [
        {
          "output_type": "stream",
          "text": [
            "[10, 20, 20, 30, 100, 10, 50]\n"
          ],
          "name": "stdout"
        }
      ]
    },
    {
      "cell_type": "code",
      "metadata": {
        "colab": {
          "base_uri": "https://localhost:8080/"
        },
        "id": "948tMLrl7jMy",
        "outputId": "8bdbcb37-ab37-475b-8c63-ae1d1320f4fc"
      },
      "source": [
        "type(myL)"
      ],
      "execution_count": 150,
      "outputs": [
        {
          "output_type": "execute_result",
          "data": {
            "text/plain": [
              "list"
            ]
          },
          "metadata": {
            "tags": []
          },
          "execution_count": 150
        }
      ]
    },
    {
      "cell_type": "code",
      "metadata": {
        "colab": {
          "base_uri": "https://localhost:8080/"
        },
        "id": "1btdVNNk7upx",
        "outputId": "133b4822-1914-4e35-9774-ba998d8c8a37"
      },
      "source": [
        "# create a list with strings\n",
        "myS = [\"apple\", \"orange\", \"pear\", \"blueberry\"]\n",
        "print(myS)"
      ],
      "execution_count": 151,
      "outputs": [
        {
          "output_type": "stream",
          "text": [
            "['apple', 'orange', 'pear', 'blueberry']\n"
          ],
          "name": "stdout"
        }
      ]
    },
    {
      "cell_type": "markdown",
      "metadata": {
        "id": "xUJWtJnRsGmF"
      },
      "source": [
        "There are many built-in sequence operations described in the [Python Documention for Sequence Types](https://docs.python.org/3/library/stdtypes.html#sequence-types-list-tuple-range). Let's try a few:"
      ]
    },
    {
      "cell_type": "code",
      "metadata": {
        "id": "y-KTf9pWNtOe",
        "colab": {
          "base_uri": "https://localhost:8080/"
        },
        "outputId": "5a6b582c-bb1d-4376-c2d1-8ea28a5f92ad"
      },
      "source": [
        "# check if an item is in a list\n",
        "5 in myL"
      ],
      "execution_count": 152,
      "outputs": [
        {
          "output_type": "execute_result",
          "data": {
            "text/plain": [
              "False"
            ]
          },
          "metadata": {
            "tags": []
          },
          "execution_count": 152
        }
      ]
    },
    {
      "cell_type": "code",
      "metadata": {
        "id": "uMiOyUOgNtSD",
        "colab": {
          "base_uri": "https://localhost:8080/"
        },
        "outputId": "89f18cc6-469a-4172-e500-697d4391e5b6"
      },
      "source": [
        "\"pear\" in myS"
      ],
      "execution_count": 153,
      "outputs": [
        {
          "output_type": "execute_result",
          "data": {
            "text/plain": [
              "True"
            ]
          },
          "metadata": {
            "tags": []
          },
          "execution_count": 153
        }
      ]
    },
    {
      "cell_type": "code",
      "metadata": {
        "id": "xoiaDANXNtVA",
        "colab": {
          "base_uri": "https://localhost:8080/"
        },
        "outputId": "4c2b8f84-54a1-4b2d-e1d3-40bb4bfda8a4"
      },
      "source": [
        "# get length of list\n",
        "len(myL)"
      ],
      "execution_count": 154,
      "outputs": [
        {
          "output_type": "execute_result",
          "data": {
            "text/plain": [
              "7"
            ]
          },
          "metadata": {
            "tags": []
          },
          "execution_count": 154
        }
      ]
    },
    {
      "cell_type": "code",
      "metadata": {
        "colab": {
          "base_uri": "https://localhost:8080/"
        },
        "id": "a96t49lLthxN",
        "outputId": "7cc94144-b857-452a-b18a-7c7f927abd6f"
      },
      "source": [
        "# get min of list\n",
        "min(myL)"
      ],
      "execution_count": 155,
      "outputs": [
        {
          "output_type": "execute_result",
          "data": {
            "text/plain": [
              "10"
            ]
          },
          "metadata": {
            "tags": []
          },
          "execution_count": 155
        }
      ]
    },
    {
      "cell_type": "code",
      "metadata": {
        "colab": {
          "base_uri": "https://localhost:8080/"
        },
        "id": "vpscBJDTth5c",
        "outputId": "23475347-626c-41f1-bae3-36d83cb4d4b0"
      },
      "source": [
        "# count occurences of a value\n",
        "myL.count(20)"
      ],
      "execution_count": 156,
      "outputs": [
        {
          "output_type": "execute_result",
          "data": {
            "text/plain": [
              "2"
            ]
          },
          "metadata": {
            "tags": []
          },
          "execution_count": 156
        }
      ]
    },
    {
      "cell_type": "code",
      "metadata": {
        "colab": {
          "base_uri": "https://localhost:8080/"
        },
        "id": "HemIaDDuth8K",
        "outputId": "cafd68d1-0552-41b3-b5a7-c2e006e114e8"
      },
      "source": [
        "# concatenate a value or another list\n",
        "t = myL + [70, 60]\n",
        "print(t)"
      ],
      "execution_count": 157,
      "outputs": [
        {
          "output_type": "stream",
          "text": [
            "[10, 20, 20, 30, 100, 10, 50, 70, 60]\n"
          ],
          "name": "stdout"
        }
      ]
    },
    {
      "cell_type": "code",
      "metadata": {
        "colab": {
          "base_uri": "https://localhost:8080/"
        },
        "id": "bTi647YOth_K",
        "outputId": "62ccfcca-9276-41bd-f8f2-042e47b8f750"
      },
      "source": [
        "# append a value\n",
        "myL.append(80)\n",
        "myL"
      ],
      "execution_count": 158,
      "outputs": [
        {
          "output_type": "execute_result",
          "data": {
            "text/plain": [
              "[10, 20, 20, 30, 100, 10, 50, 80]"
            ]
          },
          "metadata": {
            "tags": []
          },
          "execution_count": 158
        }
      ]
    },
    {
      "cell_type": "code",
      "metadata": {
        "colab": {
          "base_uri": "https://localhost:8080/"
        },
        "id": "M4xOZpo8tiCP",
        "outputId": "fa1ed5bd-fd07-4fbd-ee3f-a78d7a5a49ac"
      },
      "source": [
        "# sort a list\n",
        "myL.sort()\n",
        "print(myL)"
      ],
      "execution_count": 159,
      "outputs": [
        {
          "output_type": "stream",
          "text": [
            "[10, 10, 20, 20, 30, 50, 80, 100]\n"
          ],
          "name": "stdout"
        }
      ]
    },
    {
      "cell_type": "code",
      "metadata": {
        "colab": {
          "base_uri": "https://localhost:8080/"
        },
        "id": "oBsog9kZ-QEQ",
        "outputId": "b98c41f5-b5dd-4c8a-8cb1-00ccfe34c161"
      },
      "source": [
        "myS.sort()\n",
        "print(myS)"
      ],
      "execution_count": 160,
      "outputs": [
        {
          "output_type": "stream",
          "text": [
            "['apple', 'blueberry', 'orange', 'pear']\n"
          ],
          "name": "stdout"
        }
      ]
    },
    {
      "cell_type": "code",
      "metadata": {
        "id": "a42QSlXyNtYE",
        "colab": {
          "base_uri": "https://localhost:8080/"
        },
        "outputId": "48afa955-910f-426a-d1bc-607a4682c1ee"
      },
      "source": [
        "# reverse a list\n",
        "myL.reverse()\n",
        "print(myL)"
      ],
      "execution_count": 161,
      "outputs": [
        {
          "output_type": "stream",
          "text": [
            "[100, 80, 50, 30, 20, 20, 10, 10]\n"
          ],
          "name": "stdout"
        }
      ]
    },
    {
      "cell_type": "markdown",
      "metadata": {
        "id": "0vxpqx2SwXHg"
      },
      "source": [
        "### Lists can contain a mix of types"
      ]
    },
    {
      "cell_type": "code",
      "metadata": {
        "colab": {
          "base_uri": "https://localhost:8080/"
        },
        "id": "W7_vgW7kv8yA",
        "outputId": "23ceadc3-6a17-43fd-c884-5d5dc4d76195"
      },
      "source": [
        "# you can mix types of data and even have lists within lists!\n",
        "R = [20, 1.825, 'a string', [37,11,22,41]]\n",
        "print(R)"
      ],
      "execution_count": 162,
      "outputs": [
        {
          "output_type": "stream",
          "text": [
            "[20, 1.825, 'a string', [37, 11, 22, 41]]\n"
          ],
          "name": "stdout"
        }
      ]
    },
    {
      "cell_type": "markdown",
      "metadata": {
        "id": "MAJl3GLixhLz"
      },
      "source": [
        "### List Indexing\n",
        "\n",
        "Python indexing starts at 0 from left to right. When indexing from right to left, the indexing starts at -1."
      ]
    },
    {
      "cell_type": "code",
      "metadata": {
        "colab": {
          "base_uri": "https://localhost:8080/"
        },
        "id": "ILOkeZkDv832",
        "outputId": "4c1a2d74-495c-47af-fcde-cb6cb61f21ea"
      },
      "source": [
        "myL = [10, 20, 20, 30, 100, 10, 50]\n",
        "print(myL)"
      ],
      "execution_count": 163,
      "outputs": [
        {
          "output_type": "stream",
          "text": [
            "[10, 20, 20, 30, 100, 10, 50]\n"
          ],
          "name": "stdout"
        }
      ]
    },
    {
      "cell_type": "code",
      "metadata": {
        "colab": {
          "base_uri": "https://localhost:8080/"
        },
        "id": "8vk2bcNVxlJE",
        "outputId": "398c6468-e217-4aa8-8f63-779544abac54"
      },
      "source": [
        "# get the 1st value\n",
        "myL[0]"
      ],
      "execution_count": 164,
      "outputs": [
        {
          "output_type": "execute_result",
          "data": {
            "text/plain": [
              "10"
            ]
          },
          "metadata": {
            "tags": []
          },
          "execution_count": 164
        }
      ]
    },
    {
      "cell_type": "code",
      "metadata": {
        "colab": {
          "base_uri": "https://localhost:8080/"
        },
        "id": "_Mn83sEMxlMh",
        "outputId": "f1653a4a-2a3d-4c2c-f1e6-c094e2343dab"
      },
      "source": [
        "# get the 5th value\n",
        "myL[4]"
      ],
      "execution_count": 165,
      "outputs": [
        {
          "output_type": "execute_result",
          "data": {
            "text/plain": [
              "100"
            ]
          },
          "metadata": {
            "tags": []
          },
          "execution_count": 165
        }
      ]
    },
    {
      "cell_type": "code",
      "metadata": {
        "colab": {
          "base_uri": "https://localhost:8080/"
        },
        "id": "4khJuCrRxlP2",
        "outputId": "ee7abbc5-f732-497e-c8b5-1c4e3a837fd5"
      },
      "source": [
        "# get the last value\n",
        "myL[-1]"
      ],
      "execution_count": 166,
      "outputs": [
        {
          "output_type": "execute_result",
          "data": {
            "text/plain": [
              "50"
            ]
          },
          "metadata": {
            "tags": []
          },
          "execution_count": 166
        }
      ]
    },
    {
      "cell_type": "code",
      "metadata": {
        "colab": {
          "base_uri": "https://localhost:8080/"
        },
        "id": "MUTj3VmrxlSu",
        "outputId": "18121724-d33f-4633-f215-7d301b56d178"
      },
      "source": [
        "# get the second to last value\n",
        "myL[-2]"
      ],
      "execution_count": 167,
      "outputs": [
        {
          "output_type": "execute_result",
          "data": {
            "text/plain": [
              "10"
            ]
          },
          "metadata": {
            "tags": []
          },
          "execution_count": 167
        }
      ]
    },
    {
      "cell_type": "code",
      "metadata": {
        "colab": {
          "base_uri": "https://localhost:8080/"
        },
        "id": "Cq99L3utxlVb",
        "outputId": "10271ed1-2d1f-4c43-f2a3-768ea0f8aacb"
      },
      "source": [
        "# get the first four values with a slice\n",
        "myL[0:4] # 4 because we are getting values within the index values"
      ],
      "execution_count": 168,
      "outputs": [
        {
          "output_type": "execute_result",
          "data": {
            "text/plain": [
              "[10, 20, 20, 30]"
            ]
          },
          "metadata": {
            "tags": []
          },
          "execution_count": 168
        }
      ]
    },
    {
      "cell_type": "code",
      "metadata": {
        "colab": {
          "base_uri": "https://localhost:8080/"
        },
        "id": "2q_L17L3zzAj",
        "outputId": "95de648d-3964-487f-fc3b-50258278a131"
      },
      "source": [
        "# replace a value\n",
        "myL[1] = 99\n",
        "print(myL)"
      ],
      "execution_count": 169,
      "outputs": [
        {
          "output_type": "stream",
          "text": [
            "[10, 99, 20, 30, 100, 10, 50]\n"
          ],
          "name": "stdout"
        }
      ]
    },
    {
      "cell_type": "code",
      "metadata": {
        "colab": {
          "base_uri": "https://localhost:8080/"
        },
        "id": "bFFY7Te3zzDv",
        "outputId": "34d69757-0ccd-4860-b801-08f999a14e8e"
      },
      "source": [
        "# replace values\n",
        "myL[4:7] = [1000, 1001, 1002]\n",
        "print(myL)"
      ],
      "execution_count": 170,
      "outputs": [
        {
          "output_type": "stream",
          "text": [
            "[10, 99, 20, 30, 1000, 1001, 1002]\n"
          ],
          "name": "stdout"
        }
      ]
    },
    {
      "cell_type": "code",
      "metadata": {
        "colab": {
          "base_uri": "https://localhost:8080/",
          "height": 35
        },
        "id": "xdPIDWZDzzMe",
        "outputId": "7c543332-8d6d-4689-9203-96504102396f"
      },
      "source": [
        "# to index lists within lists, add a second set of brackets\n",
        "# for example, get the i character within 'a string'\n",
        "\n",
        "R = [20, 1.825, 'a string', [37,11,22,41]]\n",
        "R[2][5]"
      ],
      "execution_count": 171,
      "outputs": [
        {
          "output_type": "execute_result",
          "data": {
            "application/vnd.google.colaboratory.intrinsic+json": {
              "type": "string"
            },
            "text/plain": [
              "'i'"
            ]
          },
          "metadata": {
            "tags": []
          },
          "execution_count": 171
        }
      ]
    },
    {
      "cell_type": "code",
      "metadata": {
        "colab": {
          "base_uri": "https://localhost:8080/"
        },
        "id": "O5aJTMgWxleG",
        "outputId": "10e283bb-baff-425c-bfce-505fe8df6bc9"
      },
      "source": [
        "# index out last two elements of [37,11,22,41]\n",
        "R[3][2:4]"
      ],
      "execution_count": 172,
      "outputs": [
        {
          "output_type": "execute_result",
          "data": {
            "text/plain": [
              "[22, 41]"
            ]
          },
          "metadata": {
            "tags": []
          },
          "execution_count": 172
        }
      ]
    },
    {
      "cell_type": "markdown",
      "metadata": {
        "id": "8R9sHWydE6lV"
      },
      "source": [
        "Python has a variety of other compound data structure types such as tuple, dictionary, set, and more [10]. See the [Python docuemntation](https://docs.python.org/3/library/index.html)\n",
        "\n",
        "\n",
        "Python Variables sections adapted from:\n",
        "\n",
        "[9] http://swcarpentry.github.io/python-novice-gapminder/\n",
        "\n",
        "[10] https://github.com/jakevdp/WhirlwindTourOfPython (see chapters 6 and 7)"
      ]
    },
    {
      "cell_type": "markdown",
      "metadata": {
        "id": "e4Ry12Vx-koL"
      },
      "source": [
        "# Importing Python Libraries [11]\n",
        "\n"
      ]
    },
    {
      "cell_type": "markdown",
      "metadata": {
        "id": "t8hSH_HdTTU3"
      },
      "source": [
        "What is a Python Library [11]?\n",
        "\n",
        "\n",
        "* Python Libraries are collections of files (modules) containing functions and variables.\n",
        "\n",
        "* Colab has many Python libraries that can be imported directly such as [NumPy](https://numpy.org/) and [pandas](https://pandas.pydata.org/), which are often used with data analysis.\n",
        "\n",
        "* External libraries can be found on the [Python Package Index (PyPI)](https://pypi.org/).\n",
        "\n",
        "Python [Built-in functions](https://docs.python.org/3/library/functions.html) are always available and generally do not need to be explicity imported. However, there are modules within the [Python Standard Library](https://docs.python.org/3/library/index.html) (e.g., math functions, file format handling, etc.), where we need to import the library module before we can use it.\n",
        "\n",
        "We can use `import` to load a library module:"
      ]
    },
    {
      "cell_type": "code",
      "metadata": {
        "id": "kJmubAupTA_F"
      },
      "source": [
        "import math\n",
        "# check the help documentation\n",
        "help(math)"
      ],
      "execution_count": null,
      "outputs": []
    },
    {
      "cell_type": "markdown",
      "metadata": {
        "id": "Xwqb6PDNTmes"
      },
      "source": [
        "Let's try some of the math functionality. We can refer to functions and other things in the module by using a period, `.`, followed by the function or constant name."
      ]
    },
    {
      "cell_type": "code",
      "metadata": {
        "id": "M6ZvgC41TBKn",
        "colab": {
          "base_uri": "https://localhost:8080/"
        },
        "outputId": "6b95799c-7a9b-48dd-cd41-501f3d88331b"
      },
      "source": [
        "# return absolute value\n",
        "math.fabs(-1.2)"
      ],
      "execution_count": 175,
      "outputs": [
        {
          "output_type": "execute_result",
          "data": {
            "text/plain": [
              "1.2"
            ]
          },
          "metadata": {
            "tags": []
          },
          "execution_count": 175
        }
      ]
    },
    {
      "cell_type": "code",
      "metadata": {
        "id": "Q0ScaO-fTBdC",
        "colab": {
          "base_uri": "https://localhost:8080/"
        },
        "outputId": "d96817c8-1bb5-4782-c43c-1842b9388353"
      },
      "source": [
        "# return square root\n",
        "math.sqrt(9)"
      ],
      "execution_count": 176,
      "outputs": [
        {
          "output_type": "execute_result",
          "data": {
            "text/plain": [
              "3.0"
            ]
          },
          "metadata": {
            "tags": []
          },
          "execution_count": 176
        }
      ]
    },
    {
      "cell_type": "code",
      "metadata": {
        "id": "LksPJ0efTBgj",
        "colab": {
          "base_uri": "https://localhost:8080/"
        },
        "outputId": "6d067f5f-0299-41e4-d4e4-e339adfefde4"
      },
      "source": [
        "# If we leave off math., Python will report a NameError\n",
        "sqrt(9)"
      ],
      "execution_count": 180,
      "outputs": [
        {
          "output_type": "execute_result",
          "data": {
            "text/plain": [
              "3.0"
            ]
          },
          "metadata": {
            "tags": []
          },
          "execution_count": 180
        }
      ]
    },
    {
      "cell_type": "markdown",
      "metadata": {
        "id": "oAGMaNLGT293"
      },
      "source": [
        "We can import specific parts from the module using `from`. This then allows us to refer directly to, for example, a specific function:"
      ]
    },
    {
      "cell_type": "code",
      "metadata": {
        "id": "OBP8QaxWTBj1",
        "colab": {
          "base_uri": "https://localhost:8080/"
        },
        "outputId": "179f928e-34a4-42f0-ff7b-287d9dda512b"
      },
      "source": [
        "from math import sqrt\n",
        "sqrt(9)"
      ],
      "execution_count": 181,
      "outputs": [
        {
          "output_type": "execute_result",
          "data": {
            "text/plain": [
              "3.0"
            ]
          },
          "metadata": {
            "tags": []
          },
          "execution_count": 181
        }
      ]
    },
    {
      "cell_type": "code",
      "metadata": {
        "id": "CwOzfq_wTBqY",
        "colab": {
          "base_uri": "https://localhost:8080/"
        },
        "outputId": "267e7972-0e88-4eeb-e224-156b451e8050"
      },
      "source": [
        "# We can also import more than one item at a time\n",
        "from math import sqrt, fabs\n",
        "c = sqrt(9)\n",
        "d = fabs(-1.2)\n",
        "print('c is', c)\n",
        "print('d is', d)"
      ],
      "execution_count": 182,
      "outputs": [
        {
          "output_type": "stream",
          "text": [
            "c is 3.0\n",
            "d is 1.2\n"
          ],
          "name": "stdout"
        }
      ]
    },
    {
      "cell_type": "markdown",
      "metadata": {
        "id": "JSJ98eRGUBm3"
      },
      "source": [
        "An alias can be created for library modules."
      ]
    },
    {
      "cell_type": "code",
      "metadata": {
        "id": "C25GpRbUTBy5",
        "colab": {
          "base_uri": "https://localhost:8080/"
        },
        "outputId": "4a802cee-0d87-4b70-c64a-7189139bdefb"
      },
      "source": [
        "import math as m\n",
        "# now instead of math., we use the alias, m.\n",
        "m.sqrt(9)"
      ],
      "execution_count": 183,
      "outputs": [
        {
          "output_type": "execute_result",
          "data": {
            "text/plain": [
              "3.0"
            ]
          },
          "metadata": {
            "tags": []
          },
          "execution_count": 183
        }
      ]
    },
    {
      "cell_type": "code",
      "metadata": {
        "id": "dzCkQ7WxTB6j"
      },
      "source": [
        "# you will almost always see certain libraries (e.g., numpy) \n",
        "# imported as an alias\n",
        "import numpy as np"
      ],
      "execution_count": 184,
      "outputs": []
    },
    {
      "cell_type": "markdown",
      "metadata": {
        "id": "HejmUEwcUNV5"
      },
      "source": [
        "Importing specific parts of a module and creating aliases can help shorten programs and (sometimes) improve code readability.\n"
      ]
    },
    {
      "cell_type": "markdown",
      "metadata": {
        "id": "juRwt_SPVVaD"
      },
      "source": [
        "## Libraries not in Colab\n",
        "\n",
        "If you find that a library you need is not available directly in Colab, see the documention for [Importing a library that is not in Colaboratory](https://colab.research.google.com/notebooks/snippets/importing_libraries.ipynb). You can use `pip` or `apt-get` called from shell (`!`)."
      ]
    },
    {
      "cell_type": "markdown",
      "metadata": {
        "id": "H6EKONI1UOhy"
      },
      "source": [
        "[11] This section on libraries was adapted from http://swcarpentry.github.io/python-novice-gapminder/06-libraries/index.html"
      ]
    },
    {
      "cell_type": "markdown",
      "metadata": {
        "id": "N5GWu6blxPZs"
      },
      "source": [
        "# Loading Data into Colab\n",
        "\n",
        "We will review an introductory method, where we can load files from our local system into the Colab virtual machine using the file navigation window. Other more advanced options such as connecting to your Google Drive are described in the Colab Documentation on [External data](https://colab.research.google.com/notebooks/io.ipynb).\n",
        "\n",
        "\n",
        "**Important** \n",
        "\n",
        "All data uploaded to Colab is temporary and deleted when the virtual machine is deleted (~12 hours or less). [See the Colaboratory FAQ](https://research.google.com/colaboratory/faq.html).\n",
        "\n",
        "\n"
      ]
    },
    {
      "cell_type": "markdown",
      "metadata": {
        "id": "zOYtR_eYlbV-"
      },
      "source": [
        "**Basic File Navigation**\n",
        "\n",
        "When working with data files in Colab, it is useful to know a few unix shell file navigation operations [12]. Shell commands are executed in Colab/Jupyter with the `!` symbol before the command, like `!pwd` to print the working directory, but Jupyter/Colab also has system aliases for many common operations, so you may not need to use `!` before the operation [13,14].\n",
        "\n",
        "\n",
        "\n",
        "\n"
      ]
    },
    {
      "cell_type": "markdown",
      "metadata": {
        "id": "29BqGlJYxDwX"
      },
      "source": [
        "**Print the working directory:**"
      ]
    },
    {
      "cell_type": "code",
      "metadata": {
        "id": "62cZ8D06X_Qh"
      },
      "source": [
        "pwd"
      ],
      "execution_count": null,
      "outputs": []
    },
    {
      "cell_type": "markdown",
      "metadata": {
        "id": "w9xCAF0vxTVK"
      },
      "source": [
        "**List the items in the content folder:**"
      ]
    },
    {
      "cell_type": "code",
      "metadata": {
        "id": "-XVfnySZX_bj"
      },
      "source": [
        "ls"
      ],
      "execution_count": null,
      "outputs": []
    },
    {
      "cell_type": "markdown",
      "metadata": {
        "id": "oc8ydLVApiiP"
      },
      "source": [
        "Click on the File Navigation Window on the left to see the content folder. We can probably upload data to `/content` or `sample_data`, but it might be nice to create our own folder for organization. We can use `mkdir` to create a new folder directory. Let's call it `workshop_test`."
      ]
    },
    {
      "cell_type": "code",
      "metadata": {
        "id": "QliD4e7_X_eh"
      },
      "source": [
        "mkdir workshop_test"
      ],
      "execution_count": 187,
      "outputs": []
    },
    {
      "cell_type": "markdown",
      "metadata": {
        "id": "IGdYXtiSx8he"
      },
      "source": [
        "**List the items in content folder to see our new folder**"
      ]
    },
    {
      "cell_type": "code",
      "metadata": {
        "id": "OnY9GAc6ZxRl"
      },
      "source": [
        "ls"
      ],
      "execution_count": null,
      "outputs": []
    },
    {
      "cell_type": "markdown",
      "metadata": {
        "id": "vkXBZML4rPE7"
      },
      "source": [
        "**Uploading Files**\n",
        "\n",
        "Next, we can use the file navigation window to upload data directly to our new folder. Click on the workshop_test folder `three dots > upload`. We'll upload a sample file called alkanes.txt, which is available on the [UALIB_Workshops Python data folder](https://github.com/vfscalfani/UALIB_Workshops/tree/master/03_Python/data). Click on the alkanes.txt file, then right click on `Raw > Save Link as`."
      ]
    },
    {
      "cell_type": "markdown",
      "metadata": {
        "id": "NrKycajWyYgr"
      },
      "source": [
        "**Change directories into our new folder:**"
      ]
    },
    {
      "cell_type": "code",
      "metadata": {
        "id": "WnmSES0WZ6L9"
      },
      "source": [
        "cd workshop_test"
      ],
      "execution_count": null,
      "outputs": []
    },
    {
      "cell_type": "markdown",
      "metadata": {
        "id": "YkfTBuZFypWv"
      },
      "source": [
        "**List contents to see our file:**"
      ]
    },
    {
      "cell_type": "code",
      "metadata": {
        "id": "wLoLsy3AgNTT"
      },
      "source": [
        "ls"
      ],
      "execution_count": null,
      "outputs": []
    },
    {
      "cell_type": "markdown",
      "metadata": {
        "id": "WpTfzyGMy7Bu"
      },
      "source": [
        "**View the alkanes.txt file content with unix `cat`:**"
      ]
    },
    {
      "cell_type": "code",
      "metadata": {
        "colab": {
          "base_uri": "https://localhost:8080/"
        },
        "id": "GxV9ghDdgfJM",
        "outputId": "6259c212-51d0-4657-a934-cd6b24f55315"
      },
      "source": [
        "cat alkanes.txt"
      ],
      "execution_count": 191,
      "outputs": [
        {
          "output_type": "stream",
          "text": [
            "Methane \tCH4 \t16.043\n",
            "Ethane \tC2H6 \t30.07\n",
            "Propane \tC3H8 \t44.1\n",
            "Butane \tC4H10 \t58.12\n",
            "Pentane \tC5H12 \t72.15\n",
            "Hexane \tC6H14 \t86.18\n",
            "Heptane \tC7H16 \t100.2\n",
            "Octane \tC8H18 \t114.23\n",
            "Nonane \tC9H20 \t128.25\n",
            "Decane \tC10H22 \t142.28\n"
          ],
          "name": "stdout"
        }
      ]
    },
    {
      "cell_type": "markdown",
      "metadata": {
        "id": "q63h1wPLzL82"
      },
      "source": [
        "Now if we want to use this data within Python, we can read the data in with the [Python csv import](https://docs.python.org/3/library/csv.html) or use a library like Pandas to read the data into a dataframe (we'll look at this more in Workshop 3). Preview below:"
      ]
    },
    {
      "cell_type": "code",
      "metadata": {
        "colab": {
          "base_uri": "https://localhost:8080/",
          "height": 363
        },
        "id": "OJnP-e9YgfRW",
        "outputId": "3f9fe91e-0ce3-49b0-e909-bba647eb6800"
      },
      "source": [
        "import numpy as np\n",
        "import pandas as pd\n",
        "alkane_df = pd.read_csv('alkanes.txt', names=['alkane_name', 'mol_formula',\n",
        "                                              'mol_weight'], sep = '\\t' )\n",
        "alkane_df"
      ],
      "execution_count": 192,
      "outputs": [
        {
          "output_type": "execute_result",
          "data": {
            "text/html": [
              "<div>\n",
              "<style scoped>\n",
              "    .dataframe tbody tr th:only-of-type {\n",
              "        vertical-align: middle;\n",
              "    }\n",
              "\n",
              "    .dataframe tbody tr th {\n",
              "        vertical-align: top;\n",
              "    }\n",
              "\n",
              "    .dataframe thead th {\n",
              "        text-align: right;\n",
              "    }\n",
              "</style>\n",
              "<table border=\"1\" class=\"dataframe\">\n",
              "  <thead>\n",
              "    <tr style=\"text-align: right;\">\n",
              "      <th></th>\n",
              "      <th>alkane_name</th>\n",
              "      <th>mol_formula</th>\n",
              "      <th>mol_weight</th>\n",
              "    </tr>\n",
              "  </thead>\n",
              "  <tbody>\n",
              "    <tr>\n",
              "      <th>0</th>\n",
              "      <td>Methane</td>\n",
              "      <td>CH4</td>\n",
              "      <td>16.043</td>\n",
              "    </tr>\n",
              "    <tr>\n",
              "      <th>1</th>\n",
              "      <td>Ethane</td>\n",
              "      <td>C2H6</td>\n",
              "      <td>30.070</td>\n",
              "    </tr>\n",
              "    <tr>\n",
              "      <th>2</th>\n",
              "      <td>Propane</td>\n",
              "      <td>C3H8</td>\n",
              "      <td>44.100</td>\n",
              "    </tr>\n",
              "    <tr>\n",
              "      <th>3</th>\n",
              "      <td>Butane</td>\n",
              "      <td>C4H10</td>\n",
              "      <td>58.120</td>\n",
              "    </tr>\n",
              "    <tr>\n",
              "      <th>4</th>\n",
              "      <td>Pentane</td>\n",
              "      <td>C5H12</td>\n",
              "      <td>72.150</td>\n",
              "    </tr>\n",
              "    <tr>\n",
              "      <th>5</th>\n",
              "      <td>Hexane</td>\n",
              "      <td>C6H14</td>\n",
              "      <td>86.180</td>\n",
              "    </tr>\n",
              "    <tr>\n",
              "      <th>6</th>\n",
              "      <td>Heptane</td>\n",
              "      <td>C7H16</td>\n",
              "      <td>100.200</td>\n",
              "    </tr>\n",
              "    <tr>\n",
              "      <th>7</th>\n",
              "      <td>Octane</td>\n",
              "      <td>C8H18</td>\n",
              "      <td>114.230</td>\n",
              "    </tr>\n",
              "    <tr>\n",
              "      <th>8</th>\n",
              "      <td>Nonane</td>\n",
              "      <td>C9H20</td>\n",
              "      <td>128.250</td>\n",
              "    </tr>\n",
              "    <tr>\n",
              "      <th>9</th>\n",
              "      <td>Decane</td>\n",
              "      <td>C10H22</td>\n",
              "      <td>142.280</td>\n",
              "    </tr>\n",
              "  </tbody>\n",
              "</table>\n",
              "</div>"
            ],
            "text/plain": [
              "  alkane_name mol_formula  mol_weight\n",
              "0    Methane         CH4       16.043\n",
              "1     Ethane        C2H6       30.070\n",
              "2    Propane        C3H8       44.100\n",
              "3     Butane       C4H10       58.120\n",
              "4    Pentane       C5H12       72.150\n",
              "5     Hexane       C6H14       86.180\n",
              "6    Heptane       C7H16      100.200\n",
              "7     Octane       C8H18      114.230\n",
              "8     Nonane       C9H20      128.250\n",
              "9     Decane      C10H22      142.280"
            ]
          },
          "metadata": {
            "tags": []
          },
          "execution_count": 192
        }
      ]
    },
    {
      "cell_type": "markdown",
      "metadata": {
        "id": "qo3RKlQkayhb"
      },
      "source": [
        "[12] See, for example, http://swcarpentry.github.io/shell-novice/\n",
        "\n",
        "[13] https://colab.research.google.com/notebooks/basic_features_overview.ipynb\n",
        "\n",
        "[14] https://jakevdp.github.io/PythonDataScienceHandbook/01.05-ipython-and-shell-commands.html#Shell-Related-Magic-Commands"
      ]
    },
    {
      "cell_type": "markdown",
      "metadata": {
        "id": "QE35H-VDyShu"
      },
      "source": [
        "# Save and Share Notebooks\n",
        "\n",
        "1. Can share notebooks similarly to other Google services with the 'Share' button, which offers a variety of permissions options.\n",
        "\n",
        "2. Can download Colab notebooks as .ipynb and/or .py format to upload to cloud services (e.g., UA Box) or code repository sites like GitHub. There is also a direct option to save a copy to [GitHub or Google Drive](https://colab.research.google.com/github/googlecolab/colabtools/blob/master/notebooks/colab-github-demo.ipynb).\n",
        "\n",
        "> Tip: Consider backing up the .py file too as this can be easily viewed in any text editor."
      ]
    },
    {
      "cell_type": "markdown",
      "metadata": {
        "id": "lZyiM4e2Xq_L"
      },
      "source": [
        "# Python Learning Resources\n",
        "\n",
        "We recommend the following resources as a start for further reading. Some content (as referenced and attributed to above) in this workshop have been adapted and derive from them:\n",
        "\n",
        "\n",
        "[1] https://github.com/jakevdp/WhirlwindTourOfPython\n",
        "\n",
        "[CC0-1.0 License](https://github.com/jakevdp/WhirlwindTourOfPython/blob/master/LICENSE)\n",
        "\n",
        "\\\n",
        "\n",
        "[2] http://swcarpentry.github.io/python-novice-gapminder/\n",
        "\n",
        "[CC-BY-4.0 License](http://swcarpentry.github.io/python-novice-gapminder/LICENSE.html)\n",
        "\n",
        "\\\n",
        "\n",
        "In addition, UA Libraries provides access to many Python eBooks. Use [Scout](https://www.lib.ua.edu/scout/) to discover Python eBooks. Start with a search for `python` and limit to ebooks within computer science discipline.\n",
        "\n",
        "\n",
        "\n",
        "\n",
        "\n",
        "\n",
        "\n",
        "\n",
        "\n"
      ]
    },
    {
      "cell_type": "markdown",
      "metadata": {
        "id": "xn9C7o0c8Jbc"
      },
      "source": [
        "# Questions\n",
        "\n",
        "That's it for today, thank you!"
      ]
    },
    {
      "cell_type": "markdown",
      "metadata": {
        "id": "dj6tQF-KGrnY"
      },
      "source": [
        "# Notebook Copy\n",
        "\n",
        "An archived version of this notebook with (most) outputs is available on our UALIB_Workshops GitHub repository: https://github.com/vfscalfani/UALIB_Workshops"
      ]
    }
  ]
}