{
  "nbformat": 4,
  "nbformat_minor": 0,
  "metadata": {
    "colab": {
      "name": "Rodgers_PythonWorkshop03_dataframes_plots_v2.ipynb",
      "provenance": [],
      "toc_visible": true
    },
    "kernelspec": {
      "name": "python3",
      "display_name": "Python 3"
    },
    "language_info": {
      "name": "python"
    }
  },
  "cells": [
    {
      "cell_type": "markdown",
      "metadata": {
        "id": "tyCz-xFSgxqc"
      },
      "source": [
        "# Introduction to Python Workshop Series 3\n",
        "**DataFrames and Plotting Data**\n",
        "\n",
        "\\\n",
        "April 6 at 3:00 PM \\\n",
        "Vincent Scalfani and Lance Simpson \\\n",
        "*The University of Alabama Libraries* \\\n",
        "[Contact Information on UA Libraries Directory](https://www.lib.ua.edu/#/staffdir?liaison=1&department=Rodgers%20Library%20for%20Science%20and%20Engineering)\n",
        "\n",
        "\n",
        "**Today, attendees will learn how to:**\n",
        "\n",
        "* Use the pandas data analysis library to load tabular data into DataFrames. \n",
        "* Work with DataFrames (e.g., indexing data, basic analysis) \n",
        "* Plot variables and tabular data with Matplotlib "
      ]
    },
    {
      "cell_type": "markdown",
      "metadata": {
        "id": "TpwPFjUBg0jN"
      },
      "source": [
        "# Annoucements\n",
        "\n",
        "**Introduction to Python Workshop Series 1: Getting Started** \n",
        "\n",
        "**Introduction to Python Workshop Series 2: Functions, Loops, and Conditional Statements**\n",
        "\n",
        "Archived copy here: https://github.com/vfscalfani/UALIB_Workshops"
      ]
    },
    {
      "cell_type": "markdown",
      "metadata": {
        "id": "TiHMLnF9g6Nd"
      },
      "source": [
        "# Setup For Today\n",
        "\n",
        "If you would like to follow along intractively with us today:\n",
        "\n",
        "1. Go to the link provided in the Zoom chat for this Colab notebook. \n",
        "\n",
        "2. Save a copy to your Google Drive. You should then be able to run and edit the code interactively."
      ]
    },
    {
      "cell_type": "markdown",
      "metadata": {
        "id": "iPyO3-qor_OR"
      },
      "source": [
        "# pandas Python library\n",
        "\n",
        "[pandas](https://pandas.pydata.org/) is a popular Python library for data analysis and manipulation. The library extends the functionality of working with structured arrays in [NumPy](https://numpy.org/). A typical use-case for the pandas library would be to analyze a tabular/comma separated dataset containing a mixture of numeric and string data assembled into columns and rows, similar to what you would work with in a spreadsheet application. \n",
        "\n"
      ]
    },
    {
      "cell_type": "markdown",
      "metadata": {
        "id": "npTIf0dXxXgR"
      },
      "source": [
        "## Pandas Series and DataFrames [1,2]\n",
        "\n",
        "A pandas [Series](https://pandas.pydata.org/docs/reference/api/pandas.Series.html) is a one-dimensional array, while a [DataFrame](https://pandas.pydata.org/docs/reference/api/pandas.DataFrame.html#pandas.DataFrame) is a two-dimensional array (e.g., multiple columns). Both the Series and DataFrame structures contain an index [1].\n",
        "\n",
        "Let's start by importing numpy and pandas:"
      ]
    },
    {
      "cell_type": "code",
      "metadata": {
        "id": "G4ljFIOuhBY-"
      },
      "source": [
        "# import with common alias for numpy (np) and pandas (pd):\n",
        "import numpy as np\n",
        "import pandas as pd"
      ],
      "execution_count": 1,
      "outputs": []
    },
    {
      "cell_type": "markdown",
      "metadata": {
        "id": "Sgq7zQaVz0xU"
      },
      "source": [
        "We can create a pandas series as follows:"
      ]
    },
    {
      "cell_type": "code",
      "metadata": {
        "id": "1TSCX1WfhBbx",
        "colab": {
          "base_uri": "https://localhost:8080/"
        },
        "outputId": "07c7d2db-96dc-4a77-99db-fe0888a7d08d"
      },
      "source": [
        "atomic_number = pd.Series([25, 26, 27, 28])\n",
        "atomic_number"
      ],
      "execution_count": 2,
      "outputs": [
        {
          "output_type": "execute_result",
          "data": {
            "text/plain": [
              "0    25\n",
              "1    26\n",
              "2    27\n",
              "3    28\n",
              "dtype: int64"
            ]
          },
          "metadata": {
            "tags": []
          },
          "execution_count": 2
        }
      ]
    },
    {
      "cell_type": "code",
      "metadata": {
        "id": "q3zQ1ExkhBeX",
        "colab": {
          "base_uri": "https://localhost:8080/"
        },
        "outputId": "9e81724f-1b3f-481e-c269-ddbb6c081531"
      },
      "source": [
        "# get value attribute\n",
        "atomic_number.values"
      ],
      "execution_count": 3,
      "outputs": [
        {
          "output_type": "execute_result",
          "data": {
            "text/plain": [
              "array([25, 26, 27, 28])"
            ]
          },
          "metadata": {
            "tags": []
          },
          "execution_count": 3
        }
      ]
    },
    {
      "cell_type": "code",
      "metadata": {
        "id": "LMjt3f00hBhA",
        "colab": {
          "base_uri": "https://localhost:8080/"
        },
        "outputId": "bc80f2b8-f4cd-4546-8752-379b97c889ea"
      },
      "source": [
        "# get index attribute\n",
        "atomic_number.index"
      ],
      "execution_count": 4,
      "outputs": [
        {
          "output_type": "execute_result",
          "data": {
            "text/plain": [
              "RangeIndex(start=0, stop=4, step=1)"
            ]
          },
          "metadata": {
            "tags": []
          },
          "execution_count": 4
        }
      ]
    },
    {
      "cell_type": "code",
      "metadata": {
        "colab": {
          "base_uri": "https://localhost:8080/"
        },
        "id": "R4klIFMWBk4U",
        "outputId": "935afa09-88d7-4f98-e703-f98c32785444"
      },
      "source": [
        "# create another series\n",
        "symbol = pd.Series(['Mn', 'Fe', 'Co', 'Ni'])\n",
        "symbol"
      ],
      "execution_count": 5,
      "outputs": [
        {
          "output_type": "execute_result",
          "data": {
            "text/plain": [
              "0    Mn\n",
              "1    Fe\n",
              "2    Co\n",
              "3    Ni\n",
              "dtype: object"
            ]
          },
          "metadata": {
            "tags": []
          },
          "execution_count": 5
        }
      ]
    },
    {
      "cell_type": "markdown",
      "metadata": {
        "id": "uJEzW1rgCtOQ"
      },
      "source": [
        "If we want to store multiple columns in one object, we can use DataFrames, using a dictionary assignment, combining the two series:"
      ]
    },
    {
      "cell_type": "code",
      "metadata": {
        "colab": {
          "base_uri": "https://localhost:8080/",
          "height": 175
        },
        "id": "qpjyftBzBlD8",
        "outputId": "080110ff-1bd6-40a2-9cf3-329f612cc675"
      },
      "source": [
        "df = pd.DataFrame({'atomic_number': atomic_number, 'symbol': symbol})\n",
        "df"
      ],
      "execution_count": 6,
      "outputs": [
        {
          "output_type": "execute_result",
          "data": {
            "text/html": [
              "<div>\n",
              "<style scoped>\n",
              "    .dataframe tbody tr th:only-of-type {\n",
              "        vertical-align: middle;\n",
              "    }\n",
              "\n",
              "    .dataframe tbody tr th {\n",
              "        vertical-align: top;\n",
              "    }\n",
              "\n",
              "    .dataframe thead th {\n",
              "        text-align: right;\n",
              "    }\n",
              "</style>\n",
              "<table border=\"1\" class=\"dataframe\">\n",
              "  <thead>\n",
              "    <tr style=\"text-align: right;\">\n",
              "      <th></th>\n",
              "      <th>atomic_number</th>\n",
              "      <th>symbol</th>\n",
              "    </tr>\n",
              "  </thead>\n",
              "  <tbody>\n",
              "    <tr>\n",
              "      <th>0</th>\n",
              "      <td>25</td>\n",
              "      <td>Mn</td>\n",
              "    </tr>\n",
              "    <tr>\n",
              "      <th>1</th>\n",
              "      <td>26</td>\n",
              "      <td>Fe</td>\n",
              "    </tr>\n",
              "    <tr>\n",
              "      <th>2</th>\n",
              "      <td>27</td>\n",
              "      <td>Co</td>\n",
              "    </tr>\n",
              "    <tr>\n",
              "      <th>3</th>\n",
              "      <td>28</td>\n",
              "      <td>Ni</td>\n",
              "    </tr>\n",
              "  </tbody>\n",
              "</table>\n",
              "</div>"
            ],
            "text/plain": [
              "   atomic_number symbol\n",
              "0             25     Mn\n",
              "1             26     Fe\n",
              "2             27     Co\n",
              "3             28     Ni"
            ]
          },
          "metadata": {
            "tags": []
          },
          "execution_count": 6
        }
      ]
    },
    {
      "cell_type": "markdown",
      "metadata": {
        "id": "CXS2sHEmwm14"
      },
      "source": [
        "References:\n",
        "\n",
        "[1] https://jakevdp.github.io/PythonDataScienceHandbook/\n",
        "\n",
        "[2] https://pandas.pydata.org/docs/reference/api/pandas.DataFrame.html#pandas.DataFrame"
      ]
    },
    {
      "cell_type": "markdown",
      "metadata": {
        "id": "4OzpLpyXEwAY"
      },
      "source": [
        "In order to understand indexing and data operations on pandas [DataFrames](https://pandas.pydata.org/docs/reference/api/pandas.DataFrame.html#pandas.DataFrame), it is probably easier if we have a bit more data to work with..."
      ]
    },
    {
      "cell_type": "markdown",
      "metadata": {
        "id": "sSMgPDBHMUxJ"
      },
      "source": [
        "# Load Data into Colab\n",
        "\n",
        "See our first workshop for a more thorough explanation on how to upload data into Colab. Here is brief review:\n",
        "\n",
        "\\\n",
        "\n",
        "**1. Create a folder for the data.**"
      ]
    },
    {
      "cell_type": "code",
      "metadata": {
        "id": "BgUZlZzUhBxR"
      },
      "source": [
        "pwd"
      ],
      "execution_count": null,
      "outputs": []
    },
    {
      "cell_type": "code",
      "metadata": {
        "id": "F60qlTn7hBzL"
      },
      "source": [
        "ls"
      ],
      "execution_count": null,
      "outputs": []
    },
    {
      "cell_type": "code",
      "metadata": {
        "id": "TkQm0np9hB2E"
      },
      "source": [
        "mkdir workshop3_data"
      ],
      "execution_count": 9,
      "outputs": []
    },
    {
      "cell_type": "code",
      "metadata": {
        "id": "2lWy1oLIhB4p"
      },
      "source": [
        "ls"
      ],
      "execution_count": null,
      "outputs": []
    },
    {
      "cell_type": "code",
      "metadata": {
        "id": "87Jk4lkxhB-f"
      },
      "source": [
        "cd workshop3_data/"
      ],
      "execution_count": null,
      "outputs": []
    },
    {
      "cell_type": "markdown",
      "metadata": {
        "id": "d834CnbgN1RL"
      },
      "source": [
        "**2. Next, we can use the file navigation window to upload data directly into our new folder. Click on the workshop3_data folder `three dots > upload`. We'll upload a sample file called CID51840.txt, which is available on the [UALIB_Workshops GitHub Repository](https://github.com/vfscalfani/UALIB_Workshops/tree/master/01_MATLAB/Mdata). Click on the CID51840.txt. file, then right click on `Raw > Save Link as`.**"
      ]
    },
    {
      "cell_type": "code",
      "metadata": {
        "id": "590d5UDJhCBT"
      },
      "source": [
        "ls"
      ],
      "execution_count": null,
      "outputs": []
    },
    {
      "cell_type": "markdown",
      "metadata": {
        "id": "jegcEBLPPCeT"
      },
      "source": [
        "**3. Now we can import the data into a pandas DataFrame using the [read_csv](https://pandas.pydata.org/docs/reference/api/pandas.read_csv.html#pandas.read_csv) method:**"
      ]
    },
    {
      "cell_type": "code",
      "metadata": {
        "id": "jUJaNcMehCDs"
      },
      "source": [
        "data_df = pd.read_csv('CID51840_similar.txt', sep = '\\t')"
      ],
      "execution_count": 13,
      "outputs": []
    },
    {
      "cell_type": "code",
      "metadata": {
        "colab": {
          "base_uri": "https://localhost:8080/"
        },
        "id": "drtp_fm8XQev",
        "outputId": "95d27513-c55e-47b9-dafa-239869a5f9e4"
      },
      "source": [
        "# use info() method to print summary information about the DataFrame\n",
        "data_df.info()"
      ],
      "execution_count": 14,
      "outputs": [
        {
          "output_type": "stream",
          "text": [
            "<class 'pandas.core.frame.DataFrame'>\n",
            "RangeIndex: 574 entries, 0 to 573\n",
            "Data columns (total 7 columns):\n",
            " #   Column              Non-Null Count  Dtype  \n",
            "---  ------              --------------  -----  \n",
            " 0   IsomericSmiles      574 non-null    object \n",
            " 1   CID                 574 non-null    int64  \n",
            " 2   MolecularFormula    574 non-null    object \n",
            " 3   MolecularWeight     574 non-null    float64\n",
            " 4   RotatableBondCount  574 non-null    int64  \n",
            " 5   HeavyAtomCount      574 non-null    int64  \n",
            " 6   AtomChiralCount     574 non-null    int64  \n",
            "dtypes: float64(1), int64(4), object(2)\n",
            "memory usage: 31.5+ KB\n"
          ],
          "name": "stdout"
        }
      ]
    },
    {
      "cell_type": "code",
      "metadata": {
        "colab": {
          "base_uri": "https://localhost:8080/",
          "height": 444
        },
        "id": "tSDluEsqGx6E",
        "outputId": "7c28743f-00c2-4d54-cb2c-0c23eb3eeca1"
      },
      "source": [
        "# view our \"data_df\" dataframe\n",
        "data_df"
      ],
      "execution_count": 15,
      "outputs": [
        {
          "output_type": "execute_result",
          "data": {
            "text/html": [
              "<div>\n",
              "<style scoped>\n",
              "    .dataframe tbody tr th:only-of-type {\n",
              "        vertical-align: middle;\n",
              "    }\n",
              "\n",
              "    .dataframe tbody tr th {\n",
              "        vertical-align: top;\n",
              "    }\n",
              "\n",
              "    .dataframe thead th {\n",
              "        text-align: right;\n",
              "    }\n",
              "</style>\n",
              "<table border=\"1\" class=\"dataframe\">\n",
              "  <thead>\n",
              "    <tr style=\"text-align: right;\">\n",
              "      <th></th>\n",
              "      <th>IsomericSmiles</th>\n",
              "      <th>CID</th>\n",
              "      <th>MolecularFormula</th>\n",
              "      <th>MolecularWeight</th>\n",
              "      <th>RotatableBondCount</th>\n",
              "      <th>HeavyAtomCount</th>\n",
              "      <th>AtomChiralCount</th>\n",
              "    </tr>\n",
              "  </thead>\n",
              "  <tbody>\n",
              "    <tr>\n",
              "      <th>0</th>\n",
              "      <td>CCN(CC(=O)C)C(C1=CC=CC=C1)C(=O)OC(C)(C)C</td>\n",
              "      <td>146168522</td>\n",
              "      <td>C17H25NO3</td>\n",
              "      <td>291.40</td>\n",
              "      <td>8</td>\n",
              "      <td>21</td>\n",
              "      <td>1</td>\n",
              "    </tr>\n",
              "    <tr>\n",
              "      <th>1</th>\n",
              "      <td>CCN(CC(=O)OCC)C(C1=CC=CC=C1)C(=O)OC</td>\n",
              "      <td>146168519</td>\n",
              "      <td>C15H21NO4</td>\n",
              "      <td>279.33</td>\n",
              "      <td>9</td>\n",
              "      <td>20</td>\n",
              "      <td>1</td>\n",
              "    </tr>\n",
              "    <tr>\n",
              "      <th>2</th>\n",
              "      <td>C1=CC=C(C=C1)CN(CC2=CC=CC=C2)C(C3=CC=C(C=C3)F)...</td>\n",
              "      <td>146161459</td>\n",
              "      <td>C22H20FNO2</td>\n",
              "      <td>349.40</td>\n",
              "      <td>7</td>\n",
              "      <td>26</td>\n",
              "      <td>1</td>\n",
              "    </tr>\n",
              "    <tr>\n",
              "      <th>3</th>\n",
              "      <td>CC.CCCN1CCN(CC1)C(C2=CC=CC=C2CC)C(=O)O</td>\n",
              "      <td>145524776</td>\n",
              "      <td>C19H32N2O2</td>\n",
              "      <td>320.50</td>\n",
              "      <td>6</td>\n",
              "      <td>23</td>\n",
              "      <td>1</td>\n",
              "    </tr>\n",
              "    <tr>\n",
              "      <th>4</th>\n",
              "      <td>CC.CC.CCC.CC(=C)N1CCN(CC1)C(C2=CC=CC=C2)C(=O)O</td>\n",
              "      <td>145520251</td>\n",
              "      <td>C22H40N2O2</td>\n",
              "      <td>364.60</td>\n",
              "      <td>4</td>\n",
              "      <td>26</td>\n",
              "      <td>1</td>\n",
              "    </tr>\n",
              "    <tr>\n",
              "      <th>...</th>\n",
              "      <td>...</td>\n",
              "      <td>...</td>\n",
              "      <td>...</td>\n",
              "      <td>...</td>\n",
              "      <td>...</td>\n",
              "      <td>...</td>\n",
              "      <td>...</td>\n",
              "    </tr>\n",
              "    <tr>\n",
              "      <th>569</th>\n",
              "      <td>CN(C)C(CC1=CC=CC=C1)C(=O)O</td>\n",
              "      <td>140236</td>\n",
              "      <td>C11H15NO2</td>\n",
              "      <td>193.24</td>\n",
              "      <td>4</td>\n",
              "      <td>14</td>\n",
              "      <td>1</td>\n",
              "    </tr>\n",
              "    <tr>\n",
              "      <th>570</th>\n",
              "      <td>CCCCN(CCCC)C(C1=CC=CC=C1)C(=O)O</td>\n",
              "      <td>51840</td>\n",
              "      <td>C16H25NO2</td>\n",
              "      <td>263.37</td>\n",
              "      <td>9</td>\n",
              "      <td>19</td>\n",
              "      <td>1</td>\n",
              "    </tr>\n",
              "    <tr>\n",
              "      <th>571</th>\n",
              "      <td>CCCC[NH+](CCCC)C(C1=CC=CC=C1)C(=O)O.[Cl-]</td>\n",
              "      <td>51839</td>\n",
              "      <td>C16H26ClNO2</td>\n",
              "      <td>299.83</td>\n",
              "      <td>9</td>\n",
              "      <td>20</td>\n",
              "      <td>1</td>\n",
              "    </tr>\n",
              "    <tr>\n",
              "      <th>572</th>\n",
              "      <td>CCCCN(CCCC)C(C1=CC=CC=C1)C(=O)OCC</td>\n",
              "      <td>51838</td>\n",
              "      <td>C18H29NO2</td>\n",
              "      <td>291.40</td>\n",
              "      <td>11</td>\n",
              "      <td>21</td>\n",
              "      <td>1</td>\n",
              "    </tr>\n",
              "    <tr>\n",
              "      <th>573</th>\n",
              "      <td>CC1=CC=CC=C1CNC(C2=CC=CC=C2)C(=O)O</td>\n",
              "      <td>45157</td>\n",
              "      <td>C16H17NO2</td>\n",
              "      <td>255.31</td>\n",
              "      <td>5</td>\n",
              "      <td>19</td>\n",
              "      <td>1</td>\n",
              "    </tr>\n",
              "  </tbody>\n",
              "</table>\n",
              "<p>574 rows × 7 columns</p>\n",
              "</div>"
            ],
            "text/plain": [
              "                                        IsomericSmiles  ...  AtomChiralCount\n",
              "0             CCN(CC(=O)C)C(C1=CC=CC=C1)C(=O)OC(C)(C)C  ...                1\n",
              "1                  CCN(CC(=O)OCC)C(C1=CC=CC=C1)C(=O)OC  ...                1\n",
              "2    C1=CC=C(C=C1)CN(CC2=CC=CC=C2)C(C3=CC=C(C=C3)F)...  ...                1\n",
              "3               CC.CCCN1CCN(CC1)C(C2=CC=CC=C2CC)C(=O)O  ...                1\n",
              "4       CC.CC.CCC.CC(=C)N1CCN(CC1)C(C2=CC=CC=C2)C(=O)O  ...                1\n",
              "..                                                 ...  ...              ...\n",
              "569                         CN(C)C(CC1=CC=CC=C1)C(=O)O  ...                1\n",
              "570                    CCCCN(CCCC)C(C1=CC=CC=C1)C(=O)O  ...                1\n",
              "571          CCCC[NH+](CCCC)C(C1=CC=CC=C1)C(=O)O.[Cl-]  ...                1\n",
              "572                  CCCCN(CCCC)C(C1=CC=CC=C1)C(=O)OCC  ...                1\n",
              "573                 CC1=CC=CC=C1CNC(C2=CC=CC=C2)C(=O)O  ...                1\n",
              "\n",
              "[574 rows x 7 columns]"
            ]
          },
          "metadata": {
            "tags": []
          },
          "execution_count": 15
        }
      ]
    },
    {
      "cell_type": "markdown",
      "metadata": {
        "id": "2TcdvolHQgaW"
      },
      "source": [
        "By defualt, pandas only displays a limited number of rows. We can adjust this as desired with the [options](https://pandas.pydata.org/pandas-docs/stable/user_guide/options.html) attribute."
      ]
    },
    {
      "cell_type": "code",
      "metadata": {
        "id": "7DeNCVq_GyCx"
      },
      "source": [
        "# change to 600 for workshop\n",
        "pd.options.display.max_rows = 50"
      ],
      "execution_count": 16,
      "outputs": []
    },
    {
      "cell_type": "markdown",
      "metadata": {
        "id": "nKVOOlIQSGqR"
      },
      "source": [
        "Then, you can specify exactly how many rows to display with the `head()` function:"
      ]
    },
    {
      "cell_type": "code",
      "metadata": {
        "colab": {
          "base_uri": "https://localhost:8080/",
          "height": 697
        },
        "id": "umsiqls9Q6co",
        "outputId": "7ae01194-9b8c-4ca2-e11f-63d87e328979"
      },
      "source": [
        "data_df.head(20)"
      ],
      "execution_count": 17,
      "outputs": [
        {
          "output_type": "execute_result",
          "data": {
            "text/html": [
              "<div>\n",
              "<style scoped>\n",
              "    .dataframe tbody tr th:only-of-type {\n",
              "        vertical-align: middle;\n",
              "    }\n",
              "\n",
              "    .dataframe tbody tr th {\n",
              "        vertical-align: top;\n",
              "    }\n",
              "\n",
              "    .dataframe thead th {\n",
              "        text-align: right;\n",
              "    }\n",
              "</style>\n",
              "<table border=\"1\" class=\"dataframe\">\n",
              "  <thead>\n",
              "    <tr style=\"text-align: right;\">\n",
              "      <th></th>\n",
              "      <th>IsomericSmiles</th>\n",
              "      <th>CID</th>\n",
              "      <th>MolecularFormula</th>\n",
              "      <th>MolecularWeight</th>\n",
              "      <th>RotatableBondCount</th>\n",
              "      <th>HeavyAtomCount</th>\n",
              "      <th>AtomChiralCount</th>\n",
              "    </tr>\n",
              "  </thead>\n",
              "  <tbody>\n",
              "    <tr>\n",
              "      <th>0</th>\n",
              "      <td>CCN(CC(=O)C)C(C1=CC=CC=C1)C(=O)OC(C)(C)C</td>\n",
              "      <td>146168522</td>\n",
              "      <td>C17H25NO3</td>\n",
              "      <td>291.40</td>\n",
              "      <td>8</td>\n",
              "      <td>21</td>\n",
              "      <td>1</td>\n",
              "    </tr>\n",
              "    <tr>\n",
              "      <th>1</th>\n",
              "      <td>CCN(CC(=O)OCC)C(C1=CC=CC=C1)C(=O)OC</td>\n",
              "      <td>146168519</td>\n",
              "      <td>C15H21NO4</td>\n",
              "      <td>279.33</td>\n",
              "      <td>9</td>\n",
              "      <td>20</td>\n",
              "      <td>1</td>\n",
              "    </tr>\n",
              "    <tr>\n",
              "      <th>2</th>\n",
              "      <td>C1=CC=C(C=C1)CN(CC2=CC=CC=C2)C(C3=CC=C(C=C3)F)...</td>\n",
              "      <td>146161459</td>\n",
              "      <td>C22H20FNO2</td>\n",
              "      <td>349.40</td>\n",
              "      <td>7</td>\n",
              "      <td>26</td>\n",
              "      <td>1</td>\n",
              "    </tr>\n",
              "    <tr>\n",
              "      <th>3</th>\n",
              "      <td>CC.CCCN1CCN(CC1)C(C2=CC=CC=C2CC)C(=O)O</td>\n",
              "      <td>145524776</td>\n",
              "      <td>C19H32N2O2</td>\n",
              "      <td>320.50</td>\n",
              "      <td>6</td>\n",
              "      <td>23</td>\n",
              "      <td>1</td>\n",
              "    </tr>\n",
              "    <tr>\n",
              "      <th>4</th>\n",
              "      <td>CC.CC.CCC.CC(=C)N1CCN(CC1)C(C2=CC=CC=C2)C(=O)O</td>\n",
              "      <td>145520251</td>\n",
              "      <td>C22H40N2O2</td>\n",
              "      <td>364.60</td>\n",
              "      <td>4</td>\n",
              "      <td>26</td>\n",
              "      <td>1</td>\n",
              "    </tr>\n",
              "    <tr>\n",
              "      <th>5</th>\n",
              "      <td>CC.CC(C)N(C)C(CC1=CC=CC=C1)C(=O)O</td>\n",
              "      <td>145086414</td>\n",
              "      <td>C15H25NO2</td>\n",
              "      <td>251.36</td>\n",
              "      <td>5</td>\n",
              "      <td>18</td>\n",
              "      <td>1</td>\n",
              "    </tr>\n",
              "    <tr>\n",
              "      <th>6</th>\n",
              "      <td>CN(C)C(C1=CC=CC=C1C(F)(F)F)C(=O)O.Cl</td>\n",
              "      <td>144259917</td>\n",
              "      <td>C11H13ClF3NO2</td>\n",
              "      <td>283.67</td>\n",
              "      <td>3</td>\n",
              "      <td>18</td>\n",
              "      <td>1</td>\n",
              "    </tr>\n",
              "    <tr>\n",
              "      <th>7</th>\n",
              "      <td>CC1CCC(=C)N1C(C2=CC=CC=C2)C(=O)O</td>\n",
              "      <td>144187943</td>\n",
              "      <td>C14H17NO2</td>\n",
              "      <td>231.29</td>\n",
              "      <td>3</td>\n",
              "      <td>17</td>\n",
              "      <td>2</td>\n",
              "    </tr>\n",
              "    <tr>\n",
              "      <th>8</th>\n",
              "      <td>CCC(CCN(C)C(C1=CC=CC=C1)C(=O)O)O</td>\n",
              "      <td>144097938</td>\n",
              "      <td>C14H21NO3</td>\n",
              "      <td>251.32</td>\n",
              "      <td>7</td>\n",
              "      <td>18</td>\n",
              "      <td>2</td>\n",
              "    </tr>\n",
              "    <tr>\n",
              "      <th>9</th>\n",
              "      <td>CC=C.CC1=C(C(=CC=C1)C(C(=O)O)N(C)C)C.C#C</td>\n",
              "      <td>144097931</td>\n",
              "      <td>C17H25NO2</td>\n",
              "      <td>275.40</td>\n",
              "      <td>3</td>\n",
              "      <td>20</td>\n",
              "      <td>1</td>\n",
              "    </tr>\n",
              "    <tr>\n",
              "      <th>10</th>\n",
              "      <td>CCCC1=C(C(=CC=C1)[C@H](C(=O)O)N2CCCCC2)F</td>\n",
              "      <td>144097912</td>\n",
              "      <td>C16H22FNO2</td>\n",
              "      <td>279.35</td>\n",
              "      <td>5</td>\n",
              "      <td>20</td>\n",
              "      <td>1</td>\n",
              "    </tr>\n",
              "    <tr>\n",
              "      <th>11</th>\n",
              "      <td>CCN(C)CCN(C)C(C1=CC=CC=C1)C(=O)O</td>\n",
              "      <td>144097407</td>\n",
              "      <td>C14H22N2O2</td>\n",
              "      <td>250.34</td>\n",
              "      <td>7</td>\n",
              "      <td>18</td>\n",
              "      <td>1</td>\n",
              "    </tr>\n",
              "    <tr>\n",
              "      <th>12</th>\n",
              "      <td>CC(C)C1CC1C(C(=O)O)N(C)CC2=CC=CC=C2</td>\n",
              "      <td>144070639</td>\n",
              "      <td>C16H23NO2</td>\n",
              "      <td>261.36</td>\n",
              "      <td>6</td>\n",
              "      <td>19</td>\n",
              "      <td>3</td>\n",
              "    </tr>\n",
              "    <tr>\n",
              "      <th>13</th>\n",
              "      <td>CCCC1=CC(=CC=C1)[C@H](C(=O)O)N2CCCCC2</td>\n",
              "      <td>143939569</td>\n",
              "      <td>C16H23NO2</td>\n",
              "      <td>261.36</td>\n",
              "      <td>5</td>\n",
              "      <td>19</td>\n",
              "      <td>1</td>\n",
              "    </tr>\n",
              "    <tr>\n",
              "      <th>14</th>\n",
              "      <td>CC(CC=C)(NC(C1=CC=CC=C1)C(=O)O)O</td>\n",
              "      <td>143355859</td>\n",
              "      <td>C13H17NO3</td>\n",
              "      <td>235.28</td>\n",
              "      <td>6</td>\n",
              "      <td>17</td>\n",
              "      <td>2</td>\n",
              "    </tr>\n",
              "    <tr>\n",
              "      <th>15</th>\n",
              "      <td>CC(C)N(CCCCCCCCC(=O)O)CC1=CC=CC=C1</td>\n",
              "      <td>143070832</td>\n",
              "      <td>C19H31NO2</td>\n",
              "      <td>305.50</td>\n",
              "      <td>12</td>\n",
              "      <td>22</td>\n",
              "      <td>0</td>\n",
              "    </tr>\n",
              "    <tr>\n",
              "      <th>16</th>\n",
              "      <td>CC1(CCN(CC1)[C@@H](C2=CC=CC=C2)C(=O)O)O</td>\n",
              "      <td>142790501</td>\n",
              "      <td>C14H19NO3</td>\n",
              "      <td>249.30</td>\n",
              "      <td>3</td>\n",
              "      <td>18</td>\n",
              "      <td>1</td>\n",
              "    </tr>\n",
              "    <tr>\n",
              "      <th>17</th>\n",
              "      <td>CCN[C@@H](C1=CC=CC=C1)C(=O)O.Cl</td>\n",
              "      <td>142790500</td>\n",
              "      <td>C10H14ClNO2</td>\n",
              "      <td>215.67</td>\n",
              "      <td>4</td>\n",
              "      <td>14</td>\n",
              "      <td>1</td>\n",
              "    </tr>\n",
              "    <tr>\n",
              "      <th>18</th>\n",
              "      <td>CCCCCCC(C1=CC=CC=C1)(C(=O)O)N(C)C</td>\n",
              "      <td>142680524</td>\n",
              "      <td>C16H25NO2</td>\n",
              "      <td>263.37</td>\n",
              "      <td>8</td>\n",
              "      <td>19</td>\n",
              "      <td>1</td>\n",
              "    </tr>\n",
              "    <tr>\n",
              "      <th>19</th>\n",
              "      <td>[2H]CC(C)(C)OC(=O)N(CC(=O)O)C(C1=CC=CC=C1)C(=O)O</td>\n",
              "      <td>142658895</td>\n",
              "      <td>C15H19NO6</td>\n",
              "      <td>310.32</td>\n",
              "      <td>7</td>\n",
              "      <td>22</td>\n",
              "      <td>1</td>\n",
              "    </tr>\n",
              "  </tbody>\n",
              "</table>\n",
              "</div>"
            ],
            "text/plain": [
              "                                       IsomericSmiles  ...  AtomChiralCount\n",
              "0            CCN(CC(=O)C)C(C1=CC=CC=C1)C(=O)OC(C)(C)C  ...                1\n",
              "1                 CCN(CC(=O)OCC)C(C1=CC=CC=C1)C(=O)OC  ...                1\n",
              "2   C1=CC=C(C=C1)CN(CC2=CC=CC=C2)C(C3=CC=C(C=C3)F)...  ...                1\n",
              "3              CC.CCCN1CCN(CC1)C(C2=CC=CC=C2CC)C(=O)O  ...                1\n",
              "4      CC.CC.CCC.CC(=C)N1CCN(CC1)C(C2=CC=CC=C2)C(=O)O  ...                1\n",
              "5                   CC.CC(C)N(C)C(CC1=CC=CC=C1)C(=O)O  ...                1\n",
              "6                CN(C)C(C1=CC=CC=C1C(F)(F)F)C(=O)O.Cl  ...                1\n",
              "7                    CC1CCC(=C)N1C(C2=CC=CC=C2)C(=O)O  ...                2\n",
              "8                    CCC(CCN(C)C(C1=CC=CC=C1)C(=O)O)O  ...                2\n",
              "9            CC=C.CC1=C(C(=CC=C1)C(C(=O)O)N(C)C)C.C#C  ...                1\n",
              "10           CCCC1=C(C(=CC=C1)[C@H](C(=O)O)N2CCCCC2)F  ...                1\n",
              "11                   CCN(C)CCN(C)C(C1=CC=CC=C1)C(=O)O  ...                1\n",
              "12                CC(C)C1CC1C(C(=O)O)N(C)CC2=CC=CC=C2  ...                3\n",
              "13              CCCC1=CC(=CC=C1)[C@H](C(=O)O)N2CCCCC2  ...                1\n",
              "14                   CC(CC=C)(NC(C1=CC=CC=C1)C(=O)O)O  ...                2\n",
              "15                 CC(C)N(CCCCCCCCC(=O)O)CC1=CC=CC=C1  ...                0\n",
              "16            CC1(CCN(CC1)[C@@H](C2=CC=CC=C2)C(=O)O)O  ...                1\n",
              "17                    CCN[C@@H](C1=CC=CC=C1)C(=O)O.Cl  ...                1\n",
              "18                  CCCCCCC(C1=CC=CC=C1)(C(=O)O)N(C)C  ...                1\n",
              "19   [2H]CC(C)(C)OC(=O)N(CC(=O)O)C(C1=CC=CC=C1)C(=O)O  ...                1\n",
              "\n",
              "[20 rows x 7 columns]"
            ]
          },
          "metadata": {
            "tags": []
          },
          "execution_count": 17
        }
      ]
    },
    {
      "cell_type": "markdown",
      "metadata": {
        "id": "r92eHIgKxKDL"
      },
      "source": [
        "Note that the default index created for data_df was the number of rows: 0-574 as the row labels."
      ]
    },
    {
      "cell_type": "code",
      "metadata": {
        "colab": {
          "base_uri": "https://localhost:8080/"
        },
        "id": "1D4AsDwBxNzE",
        "outputId": "53820c21-e0b6-43ec-858e-21b2d49761df"
      },
      "source": [
        "data_df.index"
      ],
      "execution_count": 18,
      "outputs": [
        {
          "output_type": "execute_result",
          "data": {
            "text/plain": [
              "RangeIndex(start=0, stop=574, step=1)"
            ]
          },
          "metadata": {
            "tags": []
          },
          "execution_count": 18
        }
      ]
    },
    {
      "cell_type": "markdown",
      "metadata": {
        "id": "mcyWz9JtxfZW"
      },
      "source": [
        "We can specify the index when we are importing with read_csv with the [index_col](https://pandas.pydata.org/docs/reference/api/pandas.read_csv.html#pandas.read_csv) option, if for example, we want the index to be the CID column. The result is that the CID numbers are now the row labels, which can be useful for selecting/indexing. Note that the CID values here are already sorted."
      ]
    },
    {
      "cell_type": "code",
      "metadata": {
        "colab": {
          "base_uri": "https://localhost:8080/",
          "height": 728
        },
        "id": "NrmutEphsntP",
        "outputId": "b25173ca-62f2-4ec1-9428-fb85adb4b44e"
      },
      "source": [
        "data_df2 = pd.read_csv('CID51840_similar.txt', index_col=\"CID\", sep = '\\t')\n",
        "data_df2.head(20)"
      ],
      "execution_count": 19,
      "outputs": [
        {
          "output_type": "execute_result",
          "data": {
            "text/html": [
              "<div>\n",
              "<style scoped>\n",
              "    .dataframe tbody tr th:only-of-type {\n",
              "        vertical-align: middle;\n",
              "    }\n",
              "\n",
              "    .dataframe tbody tr th {\n",
              "        vertical-align: top;\n",
              "    }\n",
              "\n",
              "    .dataframe thead th {\n",
              "        text-align: right;\n",
              "    }\n",
              "</style>\n",
              "<table border=\"1\" class=\"dataframe\">\n",
              "  <thead>\n",
              "    <tr style=\"text-align: right;\">\n",
              "      <th></th>\n",
              "      <th>IsomericSmiles</th>\n",
              "      <th>MolecularFormula</th>\n",
              "      <th>MolecularWeight</th>\n",
              "      <th>RotatableBondCount</th>\n",
              "      <th>HeavyAtomCount</th>\n",
              "      <th>AtomChiralCount</th>\n",
              "    </tr>\n",
              "    <tr>\n",
              "      <th>CID</th>\n",
              "      <th></th>\n",
              "      <th></th>\n",
              "      <th></th>\n",
              "      <th></th>\n",
              "      <th></th>\n",
              "      <th></th>\n",
              "    </tr>\n",
              "  </thead>\n",
              "  <tbody>\n",
              "    <tr>\n",
              "      <th>146168522</th>\n",
              "      <td>CCN(CC(=O)C)C(C1=CC=CC=C1)C(=O)OC(C)(C)C</td>\n",
              "      <td>C17H25NO3</td>\n",
              "      <td>291.40</td>\n",
              "      <td>8</td>\n",
              "      <td>21</td>\n",
              "      <td>1</td>\n",
              "    </tr>\n",
              "    <tr>\n",
              "      <th>146168519</th>\n",
              "      <td>CCN(CC(=O)OCC)C(C1=CC=CC=C1)C(=O)OC</td>\n",
              "      <td>C15H21NO4</td>\n",
              "      <td>279.33</td>\n",
              "      <td>9</td>\n",
              "      <td>20</td>\n",
              "      <td>1</td>\n",
              "    </tr>\n",
              "    <tr>\n",
              "      <th>146161459</th>\n",
              "      <td>C1=CC=C(C=C1)CN(CC2=CC=CC=C2)C(C3=CC=C(C=C3)F)...</td>\n",
              "      <td>C22H20FNO2</td>\n",
              "      <td>349.40</td>\n",
              "      <td>7</td>\n",
              "      <td>26</td>\n",
              "      <td>1</td>\n",
              "    </tr>\n",
              "    <tr>\n",
              "      <th>145524776</th>\n",
              "      <td>CC.CCCN1CCN(CC1)C(C2=CC=CC=C2CC)C(=O)O</td>\n",
              "      <td>C19H32N2O2</td>\n",
              "      <td>320.50</td>\n",
              "      <td>6</td>\n",
              "      <td>23</td>\n",
              "      <td>1</td>\n",
              "    </tr>\n",
              "    <tr>\n",
              "      <th>145520251</th>\n",
              "      <td>CC.CC.CCC.CC(=C)N1CCN(CC1)C(C2=CC=CC=C2)C(=O)O</td>\n",
              "      <td>C22H40N2O2</td>\n",
              "      <td>364.60</td>\n",
              "      <td>4</td>\n",
              "      <td>26</td>\n",
              "      <td>1</td>\n",
              "    </tr>\n",
              "    <tr>\n",
              "      <th>145086414</th>\n",
              "      <td>CC.CC(C)N(C)C(CC1=CC=CC=C1)C(=O)O</td>\n",
              "      <td>C15H25NO2</td>\n",
              "      <td>251.36</td>\n",
              "      <td>5</td>\n",
              "      <td>18</td>\n",
              "      <td>1</td>\n",
              "    </tr>\n",
              "    <tr>\n",
              "      <th>144259917</th>\n",
              "      <td>CN(C)C(C1=CC=CC=C1C(F)(F)F)C(=O)O.Cl</td>\n",
              "      <td>C11H13ClF3NO2</td>\n",
              "      <td>283.67</td>\n",
              "      <td>3</td>\n",
              "      <td>18</td>\n",
              "      <td>1</td>\n",
              "    </tr>\n",
              "    <tr>\n",
              "      <th>144187943</th>\n",
              "      <td>CC1CCC(=C)N1C(C2=CC=CC=C2)C(=O)O</td>\n",
              "      <td>C14H17NO2</td>\n",
              "      <td>231.29</td>\n",
              "      <td>3</td>\n",
              "      <td>17</td>\n",
              "      <td>2</td>\n",
              "    </tr>\n",
              "    <tr>\n",
              "      <th>144097938</th>\n",
              "      <td>CCC(CCN(C)C(C1=CC=CC=C1)C(=O)O)O</td>\n",
              "      <td>C14H21NO3</td>\n",
              "      <td>251.32</td>\n",
              "      <td>7</td>\n",
              "      <td>18</td>\n",
              "      <td>2</td>\n",
              "    </tr>\n",
              "    <tr>\n",
              "      <th>144097931</th>\n",
              "      <td>CC=C.CC1=C(C(=CC=C1)C(C(=O)O)N(C)C)C.C#C</td>\n",
              "      <td>C17H25NO2</td>\n",
              "      <td>275.40</td>\n",
              "      <td>3</td>\n",
              "      <td>20</td>\n",
              "      <td>1</td>\n",
              "    </tr>\n",
              "    <tr>\n",
              "      <th>144097912</th>\n",
              "      <td>CCCC1=C(C(=CC=C1)[C@H](C(=O)O)N2CCCCC2)F</td>\n",
              "      <td>C16H22FNO2</td>\n",
              "      <td>279.35</td>\n",
              "      <td>5</td>\n",
              "      <td>20</td>\n",
              "      <td>1</td>\n",
              "    </tr>\n",
              "    <tr>\n",
              "      <th>144097407</th>\n",
              "      <td>CCN(C)CCN(C)C(C1=CC=CC=C1)C(=O)O</td>\n",
              "      <td>C14H22N2O2</td>\n",
              "      <td>250.34</td>\n",
              "      <td>7</td>\n",
              "      <td>18</td>\n",
              "      <td>1</td>\n",
              "    </tr>\n",
              "    <tr>\n",
              "      <th>144070639</th>\n",
              "      <td>CC(C)C1CC1C(C(=O)O)N(C)CC2=CC=CC=C2</td>\n",
              "      <td>C16H23NO2</td>\n",
              "      <td>261.36</td>\n",
              "      <td>6</td>\n",
              "      <td>19</td>\n",
              "      <td>3</td>\n",
              "    </tr>\n",
              "    <tr>\n",
              "      <th>143939569</th>\n",
              "      <td>CCCC1=CC(=CC=C1)[C@H](C(=O)O)N2CCCCC2</td>\n",
              "      <td>C16H23NO2</td>\n",
              "      <td>261.36</td>\n",
              "      <td>5</td>\n",
              "      <td>19</td>\n",
              "      <td>1</td>\n",
              "    </tr>\n",
              "    <tr>\n",
              "      <th>143355859</th>\n",
              "      <td>CC(CC=C)(NC(C1=CC=CC=C1)C(=O)O)O</td>\n",
              "      <td>C13H17NO3</td>\n",
              "      <td>235.28</td>\n",
              "      <td>6</td>\n",
              "      <td>17</td>\n",
              "      <td>2</td>\n",
              "    </tr>\n",
              "    <tr>\n",
              "      <th>143070832</th>\n",
              "      <td>CC(C)N(CCCCCCCCC(=O)O)CC1=CC=CC=C1</td>\n",
              "      <td>C19H31NO2</td>\n",
              "      <td>305.50</td>\n",
              "      <td>12</td>\n",
              "      <td>22</td>\n",
              "      <td>0</td>\n",
              "    </tr>\n",
              "    <tr>\n",
              "      <th>142790501</th>\n",
              "      <td>CC1(CCN(CC1)[C@@H](C2=CC=CC=C2)C(=O)O)O</td>\n",
              "      <td>C14H19NO3</td>\n",
              "      <td>249.30</td>\n",
              "      <td>3</td>\n",
              "      <td>18</td>\n",
              "      <td>1</td>\n",
              "    </tr>\n",
              "    <tr>\n",
              "      <th>142790500</th>\n",
              "      <td>CCN[C@@H](C1=CC=CC=C1)C(=O)O.Cl</td>\n",
              "      <td>C10H14ClNO2</td>\n",
              "      <td>215.67</td>\n",
              "      <td>4</td>\n",
              "      <td>14</td>\n",
              "      <td>1</td>\n",
              "    </tr>\n",
              "    <tr>\n",
              "      <th>142680524</th>\n",
              "      <td>CCCCCCC(C1=CC=CC=C1)(C(=O)O)N(C)C</td>\n",
              "      <td>C16H25NO2</td>\n",
              "      <td>263.37</td>\n",
              "      <td>8</td>\n",
              "      <td>19</td>\n",
              "      <td>1</td>\n",
              "    </tr>\n",
              "    <tr>\n",
              "      <th>142658895</th>\n",
              "      <td>[2H]CC(C)(C)OC(=O)N(CC(=O)O)C(C1=CC=CC=C1)C(=O)O</td>\n",
              "      <td>C15H19NO6</td>\n",
              "      <td>310.32</td>\n",
              "      <td>7</td>\n",
              "      <td>22</td>\n",
              "      <td>1</td>\n",
              "    </tr>\n",
              "  </tbody>\n",
              "</table>\n",
              "</div>"
            ],
            "text/plain": [
              "                                              IsomericSmiles  ... AtomChiralCount\n",
              "CID                                                           ...                \n",
              "146168522           CCN(CC(=O)C)C(C1=CC=CC=C1)C(=O)OC(C)(C)C  ...               1\n",
              "146168519                CCN(CC(=O)OCC)C(C1=CC=CC=C1)C(=O)OC  ...               1\n",
              "146161459  C1=CC=C(C=C1)CN(CC2=CC=CC=C2)C(C3=CC=C(C=C3)F)...  ...               1\n",
              "145524776             CC.CCCN1CCN(CC1)C(C2=CC=CC=C2CC)C(=O)O  ...               1\n",
              "145520251     CC.CC.CCC.CC(=C)N1CCN(CC1)C(C2=CC=CC=C2)C(=O)O  ...               1\n",
              "145086414                  CC.CC(C)N(C)C(CC1=CC=CC=C1)C(=O)O  ...               1\n",
              "144259917               CN(C)C(C1=CC=CC=C1C(F)(F)F)C(=O)O.Cl  ...               1\n",
              "144187943                   CC1CCC(=C)N1C(C2=CC=CC=C2)C(=O)O  ...               2\n",
              "144097938                   CCC(CCN(C)C(C1=CC=CC=C1)C(=O)O)O  ...               2\n",
              "144097931           CC=C.CC1=C(C(=CC=C1)C(C(=O)O)N(C)C)C.C#C  ...               1\n",
              "144097912           CCCC1=C(C(=CC=C1)[C@H](C(=O)O)N2CCCCC2)F  ...               1\n",
              "144097407                   CCN(C)CCN(C)C(C1=CC=CC=C1)C(=O)O  ...               1\n",
              "144070639                CC(C)C1CC1C(C(=O)O)N(C)CC2=CC=CC=C2  ...               3\n",
              "143939569              CCCC1=CC(=CC=C1)[C@H](C(=O)O)N2CCCCC2  ...               1\n",
              "143355859                   CC(CC=C)(NC(C1=CC=CC=C1)C(=O)O)O  ...               2\n",
              "143070832                 CC(C)N(CCCCCCCCC(=O)O)CC1=CC=CC=C1  ...               0\n",
              "142790501            CC1(CCN(CC1)[C@@H](C2=CC=CC=C2)C(=O)O)O  ...               1\n",
              "142790500                    CCN[C@@H](C1=CC=CC=C1)C(=O)O.Cl  ...               1\n",
              "142680524                  CCCCCCC(C1=CC=CC=C1)(C(=O)O)N(C)C  ...               1\n",
              "142658895   [2H]CC(C)(C)OC(=O)N(CC(=O)O)C(C1=CC=CC=C1)C(=O)O  ...               1\n",
              "\n",
              "[20 rows x 6 columns]"
            ]
          },
          "metadata": {
            "tags": []
          },
          "execution_count": 19
        }
      ]
    },
    {
      "cell_type": "code",
      "metadata": {
        "colab": {
          "base_uri": "https://localhost:8080/"
        },
        "id": "E-VbnO_8xrKG",
        "outputId": "86ba6cc5-4298-4b80-8b95-bc54fb287038"
      },
      "source": [
        "data_df2.index"
      ],
      "execution_count": 20,
      "outputs": [
        {
          "output_type": "execute_result",
          "data": {
            "text/plain": [
              "Int64Index([146168522, 146168519, 146161459, 145524776, 145520251, 145086414,\n",
              "            144259917, 144187943, 144097938, 144097931,\n",
              "            ...\n",
              "               241650,    230747,    230085,    230084,    228214,    140236,\n",
              "                51840,     51839,     51838,     45157],\n",
              "           dtype='int64', name='CID', length=574)"
            ]
          },
          "metadata": {
            "tags": []
          },
          "execution_count": 20
        }
      ]
    },
    {
      "cell_type": "markdown",
      "metadata": {
        "id": "Oq21E0V-S6B8"
      },
      "source": [
        "# DataFrame Indexing [3-6]\n",
        "\n",
        "There are two main ways to select subsets of a DataFrame via indexing [3,6].\n",
        "\n",
        "1. [pd.DataFrame.iloc](https://pandas.pydata.org/docs/reference/api/pandas.DataFrame.iloc.html): The iloc property uses integer based indexing (e.g., `[i,j]`, where `i` is the row, and `j` is the column).\n",
        "\n",
        "2. [pd.DataFrame.loc](https://pandas.pydata.org/docs/reference/api/pandas.DataFrame.loc.html#pandas.DataFrame.loc): The loc property is label based (e.g., `[row_name, col_name]`)\n"
      ]
    },
    {
      "cell_type": "code",
      "metadata": {
        "colab": {
          "base_uri": "https://localhost:8080/",
          "height": 414
        },
        "id": "GgLW5_5Z4hw0",
        "outputId": "f71879ca-487d-405d-8791-7a74f0bd635d"
      },
      "source": [
        "# Let's use our data_df2 dataframe for demonstration:\n",
        "data_df2.head(10)"
      ],
      "execution_count": 21,
      "outputs": [
        {
          "output_type": "execute_result",
          "data": {
            "text/html": [
              "<div>\n",
              "<style scoped>\n",
              "    .dataframe tbody tr th:only-of-type {\n",
              "        vertical-align: middle;\n",
              "    }\n",
              "\n",
              "    .dataframe tbody tr th {\n",
              "        vertical-align: top;\n",
              "    }\n",
              "\n",
              "    .dataframe thead th {\n",
              "        text-align: right;\n",
              "    }\n",
              "</style>\n",
              "<table border=\"1\" class=\"dataframe\">\n",
              "  <thead>\n",
              "    <tr style=\"text-align: right;\">\n",
              "      <th></th>\n",
              "      <th>IsomericSmiles</th>\n",
              "      <th>MolecularFormula</th>\n",
              "      <th>MolecularWeight</th>\n",
              "      <th>RotatableBondCount</th>\n",
              "      <th>HeavyAtomCount</th>\n",
              "      <th>AtomChiralCount</th>\n",
              "    </tr>\n",
              "    <tr>\n",
              "      <th>CID</th>\n",
              "      <th></th>\n",
              "      <th></th>\n",
              "      <th></th>\n",
              "      <th></th>\n",
              "      <th></th>\n",
              "      <th></th>\n",
              "    </tr>\n",
              "  </thead>\n",
              "  <tbody>\n",
              "    <tr>\n",
              "      <th>146168522</th>\n",
              "      <td>CCN(CC(=O)C)C(C1=CC=CC=C1)C(=O)OC(C)(C)C</td>\n",
              "      <td>C17H25NO3</td>\n",
              "      <td>291.40</td>\n",
              "      <td>8</td>\n",
              "      <td>21</td>\n",
              "      <td>1</td>\n",
              "    </tr>\n",
              "    <tr>\n",
              "      <th>146168519</th>\n",
              "      <td>CCN(CC(=O)OCC)C(C1=CC=CC=C1)C(=O)OC</td>\n",
              "      <td>C15H21NO4</td>\n",
              "      <td>279.33</td>\n",
              "      <td>9</td>\n",
              "      <td>20</td>\n",
              "      <td>1</td>\n",
              "    </tr>\n",
              "    <tr>\n",
              "      <th>146161459</th>\n",
              "      <td>C1=CC=C(C=C1)CN(CC2=CC=CC=C2)C(C3=CC=C(C=C3)F)...</td>\n",
              "      <td>C22H20FNO2</td>\n",
              "      <td>349.40</td>\n",
              "      <td>7</td>\n",
              "      <td>26</td>\n",
              "      <td>1</td>\n",
              "    </tr>\n",
              "    <tr>\n",
              "      <th>145524776</th>\n",
              "      <td>CC.CCCN1CCN(CC1)C(C2=CC=CC=C2CC)C(=O)O</td>\n",
              "      <td>C19H32N2O2</td>\n",
              "      <td>320.50</td>\n",
              "      <td>6</td>\n",
              "      <td>23</td>\n",
              "      <td>1</td>\n",
              "    </tr>\n",
              "    <tr>\n",
              "      <th>145520251</th>\n",
              "      <td>CC.CC.CCC.CC(=C)N1CCN(CC1)C(C2=CC=CC=C2)C(=O)O</td>\n",
              "      <td>C22H40N2O2</td>\n",
              "      <td>364.60</td>\n",
              "      <td>4</td>\n",
              "      <td>26</td>\n",
              "      <td>1</td>\n",
              "    </tr>\n",
              "    <tr>\n",
              "      <th>145086414</th>\n",
              "      <td>CC.CC(C)N(C)C(CC1=CC=CC=C1)C(=O)O</td>\n",
              "      <td>C15H25NO2</td>\n",
              "      <td>251.36</td>\n",
              "      <td>5</td>\n",
              "      <td>18</td>\n",
              "      <td>1</td>\n",
              "    </tr>\n",
              "    <tr>\n",
              "      <th>144259917</th>\n",
              "      <td>CN(C)C(C1=CC=CC=C1C(F)(F)F)C(=O)O.Cl</td>\n",
              "      <td>C11H13ClF3NO2</td>\n",
              "      <td>283.67</td>\n",
              "      <td>3</td>\n",
              "      <td>18</td>\n",
              "      <td>1</td>\n",
              "    </tr>\n",
              "    <tr>\n",
              "      <th>144187943</th>\n",
              "      <td>CC1CCC(=C)N1C(C2=CC=CC=C2)C(=O)O</td>\n",
              "      <td>C14H17NO2</td>\n",
              "      <td>231.29</td>\n",
              "      <td>3</td>\n",
              "      <td>17</td>\n",
              "      <td>2</td>\n",
              "    </tr>\n",
              "    <tr>\n",
              "      <th>144097938</th>\n",
              "      <td>CCC(CCN(C)C(C1=CC=CC=C1)C(=O)O)O</td>\n",
              "      <td>C14H21NO3</td>\n",
              "      <td>251.32</td>\n",
              "      <td>7</td>\n",
              "      <td>18</td>\n",
              "      <td>2</td>\n",
              "    </tr>\n",
              "    <tr>\n",
              "      <th>144097931</th>\n",
              "      <td>CC=C.CC1=C(C(=CC=C1)C(C(=O)O)N(C)C)C.C#C</td>\n",
              "      <td>C17H25NO2</td>\n",
              "      <td>275.40</td>\n",
              "      <td>3</td>\n",
              "      <td>20</td>\n",
              "      <td>1</td>\n",
              "    </tr>\n",
              "  </tbody>\n",
              "</table>\n",
              "</div>"
            ],
            "text/plain": [
              "                                              IsomericSmiles  ... AtomChiralCount\n",
              "CID                                                           ...                \n",
              "146168522           CCN(CC(=O)C)C(C1=CC=CC=C1)C(=O)OC(C)(C)C  ...               1\n",
              "146168519                CCN(CC(=O)OCC)C(C1=CC=CC=C1)C(=O)OC  ...               1\n",
              "146161459  C1=CC=C(C=C1)CN(CC2=CC=CC=C2)C(C3=CC=C(C=C3)F)...  ...               1\n",
              "145524776             CC.CCCN1CCN(CC1)C(C2=CC=CC=C2CC)C(=O)O  ...               1\n",
              "145520251     CC.CC.CCC.CC(=C)N1CCN(CC1)C(C2=CC=CC=C2)C(=O)O  ...               1\n",
              "145086414                  CC.CC(C)N(C)C(CC1=CC=CC=C1)C(=O)O  ...               1\n",
              "144259917               CN(C)C(C1=CC=CC=C1C(F)(F)F)C(=O)O.Cl  ...               1\n",
              "144187943                   CC1CCC(=C)N1C(C2=CC=CC=C2)C(=O)O  ...               2\n",
              "144097938                   CCC(CCN(C)C(C1=CC=CC=C1)C(=O)O)O  ...               2\n",
              "144097931           CC=C.CC1=C(C(=CC=C1)C(C(=O)O)N(C)C)C.C#C  ...               1\n",
              "\n",
              "[10 rows x 6 columns]"
            ]
          },
          "metadata": {
            "tags": []
          },
          "execution_count": 21
        }
      ]
    },
    {
      "cell_type": "markdown",
      "metadata": {
        "id": "ENGwD1IB4M70"
      },
      "source": [
        "## Select a value"
      ]
    },
    {
      "cell_type": "code",
      "metadata": {
        "id": "OqCBLmLoTBOH",
        "colab": {
          "base_uri": "https://localhost:8080/",
          "height": 35
        },
        "outputId": "db86701a-5f9b-419d-8426-7c954b05b214"
      },
      "source": [
        "# use iloc property to select the molecular formula for row 0\n",
        "# index position [0,1]\n",
        "data_df2.iloc[0,1]"
      ],
      "execution_count": 22,
      "outputs": [
        {
          "output_type": "execute_result",
          "data": {
            "application/vnd.google.colaboratory.intrinsic+json": {
              "type": "string"
            },
            "text/plain": [
              "'C17H25NO3'"
            ]
          },
          "metadata": {
            "tags": []
          },
          "execution_count": 22
        }
      ]
    },
    {
      "cell_type": "code",
      "metadata": {
        "colab": {
          "base_uri": "https://localhost:8080/",
          "height": 35
        },
        "id": "UCONgg-_ukjh",
        "outputId": "cd44ac57-cd44-4742-9c36-ed6fd35135fa"
      },
      "source": [
        "# use loc property to select the molecular formula for row 0\n",
        "# index position [146168522, \"MolecularFormula\"]\n",
        "data_df2.loc[146168522, \"MolecularFormula\"]"
      ],
      "execution_count": 23,
      "outputs": [
        {
          "output_type": "execute_result",
          "data": {
            "application/vnd.google.colaboratory.intrinsic+json": {
              "type": "string"
            },
            "text/plain": [
              "'C17H25NO3'"
            ]
          },
          "metadata": {
            "tags": []
          },
          "execution_count": 23
        }
      ]
    },
    {
      "cell_type": "markdown",
      "metadata": {
        "id": "VYrTz-v77238"
      },
      "source": [
        "## Select a row or column\n",
        "\n",
        "Use `:` to select all rows or columns"
      ]
    },
    {
      "cell_type": "markdown",
      "metadata": {
        "id": "KWGCJqHh9AyK"
      },
      "source": [
        "### rows"
      ]
    },
    {
      "cell_type": "code",
      "metadata": {
        "colab": {
          "base_uri": "https://localhost:8080/"
        },
        "id": "j5ACYafyuk26",
        "outputId": "a5e0d793-927c-4b12-8722-acf5215eec34"
      },
      "source": [
        "# iloc select # index position 3, all columns\n",
        "data_df2.iloc[3,:]"
      ],
      "execution_count": 24,
      "outputs": [
        {
          "output_type": "execute_result",
          "data": {
            "text/plain": [
              "IsomericSmiles        CC.CCCN1CCN(CC1)C(C2=CC=CC=C2CC)C(=O)O\n",
              "MolecularFormula                                  C19H32N2O2\n",
              "MolecularWeight                                        320.5\n",
              "RotatableBondCount                                         6\n",
              "HeavyAtomCount                                            23\n",
              "AtomChiralCount                                            1\n",
              "Name: 145524776, dtype: object"
            ]
          },
          "metadata": {
            "tags": []
          },
          "execution_count": 24
        }
      ]
    },
    {
      "cell_type": "code",
      "metadata": {
        "colab": {
          "base_uri": "https://localhost:8080/"
        },
        "id": "fKcneaCuuk9M",
        "outputId": "9bd4a0e7-5044-4256-fff4-6a2ad36cbaad"
      },
      "source": [
        "# loc equivalent:\n",
        "data_df2.loc[145524776,:]"
      ],
      "execution_count": 25,
      "outputs": [
        {
          "output_type": "execute_result",
          "data": {
            "text/plain": [
              "IsomericSmiles        CC.CCCN1CCN(CC1)C(C2=CC=CC=C2CC)C(=O)O\n",
              "MolecularFormula                                  C19H32N2O2\n",
              "MolecularWeight                                        320.5\n",
              "RotatableBondCount                                         6\n",
              "HeavyAtomCount                                            23\n",
              "AtomChiralCount                                            1\n",
              "Name: 145524776, dtype: object"
            ]
          },
          "metadata": {
            "tags": []
          },
          "execution_count": 25
        }
      ]
    },
    {
      "cell_type": "markdown",
      "metadata": {
        "id": "6xtBwbMP9LJM"
      },
      "source": [
        "### columns"
      ]
    },
    {
      "cell_type": "code",
      "metadata": {
        "colab": {
          "base_uri": "https://localhost:8080/"
        },
        "id": "ziHn9C5h86PT",
        "outputId": "e9088f64-8a9c-40ac-9634-4b176b4fd16b"
      },
      "source": [
        "# iloc select column # index position 2, all rows\n",
        "data_df2.iloc[:,2]"
      ],
      "execution_count": 26,
      "outputs": [
        {
          "output_type": "execute_result",
          "data": {
            "text/plain": [
              "CID\n",
              "146168522    291.40\n",
              "146168519    279.33\n",
              "146161459    349.40\n",
              "145524776    320.50\n",
              "145520251    364.60\n",
              "              ...  \n",
              "140236       193.24\n",
              "51840        263.37\n",
              "51839        299.83\n",
              "51838        291.40\n",
              "45157        255.31\n",
              "Name: MolecularWeight, Length: 574, dtype: float64"
            ]
          },
          "metadata": {
            "tags": []
          },
          "execution_count": 26
        }
      ]
    },
    {
      "cell_type": "code",
      "metadata": {
        "colab": {
          "base_uri": "https://localhost:8080/"
        },
        "id": "FtX78yoS86Wk",
        "outputId": "79f0ec42-058d-42d1-ad88-c74b5d90fa8d"
      },
      "source": [
        "# loc equivalent:\n",
        "data_df2.loc[:,\"MolecularWeight\"]"
      ],
      "execution_count": 27,
      "outputs": [
        {
          "output_type": "execute_result",
          "data": {
            "text/plain": [
              "CID\n",
              "146168522    291.40\n",
              "146168519    279.33\n",
              "146161459    349.40\n",
              "145524776    320.50\n",
              "145520251    364.60\n",
              "              ...  \n",
              "140236       193.24\n",
              "51840        263.37\n",
              "51839        299.83\n",
              "51838        291.40\n",
              "45157        255.31\n",
              "Name: MolecularWeight, Length: 574, dtype: float64"
            ]
          },
          "metadata": {
            "tags": []
          },
          "execution_count": 27
        }
      ]
    },
    {
      "cell_type": "markdown",
      "metadata": {
        "id": "I_pWXLIc907r"
      },
      "source": [
        "## Select a slice"
      ]
    },
    {
      "cell_type": "markdown",
      "metadata": {
        "id": "-G9_vBfP-83Q"
      },
      "source": [
        "**.iloc is analgous to Python indexing, where you select values between index positions, however, loc is not and includes both start and stop values:**"
      ]
    },
    {
      "cell_type": "code",
      "metadata": {
        "colab": {
          "base_uri": "https://localhost:8080/",
          "height": 258
        },
        "id": "3Sak75Jq86Zn",
        "outputId": "2a27151c-d24e-40ac-f27e-c5f770da31c1"
      },
      "source": [
        "# select first rows 0-4, all columns\n",
        "data_df2.iloc[0:5,:]"
      ],
      "execution_count": 28,
      "outputs": [
        {
          "output_type": "execute_result",
          "data": {
            "text/html": [
              "<div>\n",
              "<style scoped>\n",
              "    .dataframe tbody tr th:only-of-type {\n",
              "        vertical-align: middle;\n",
              "    }\n",
              "\n",
              "    .dataframe tbody tr th {\n",
              "        vertical-align: top;\n",
              "    }\n",
              "\n",
              "    .dataframe thead th {\n",
              "        text-align: right;\n",
              "    }\n",
              "</style>\n",
              "<table border=\"1\" class=\"dataframe\">\n",
              "  <thead>\n",
              "    <tr style=\"text-align: right;\">\n",
              "      <th></th>\n",
              "      <th>IsomericSmiles</th>\n",
              "      <th>MolecularFormula</th>\n",
              "      <th>MolecularWeight</th>\n",
              "      <th>RotatableBondCount</th>\n",
              "      <th>HeavyAtomCount</th>\n",
              "      <th>AtomChiralCount</th>\n",
              "    </tr>\n",
              "    <tr>\n",
              "      <th>CID</th>\n",
              "      <th></th>\n",
              "      <th></th>\n",
              "      <th></th>\n",
              "      <th></th>\n",
              "      <th></th>\n",
              "      <th></th>\n",
              "    </tr>\n",
              "  </thead>\n",
              "  <tbody>\n",
              "    <tr>\n",
              "      <th>146168522</th>\n",
              "      <td>CCN(CC(=O)C)C(C1=CC=CC=C1)C(=O)OC(C)(C)C</td>\n",
              "      <td>C17H25NO3</td>\n",
              "      <td>291.40</td>\n",
              "      <td>8</td>\n",
              "      <td>21</td>\n",
              "      <td>1</td>\n",
              "    </tr>\n",
              "    <tr>\n",
              "      <th>146168519</th>\n",
              "      <td>CCN(CC(=O)OCC)C(C1=CC=CC=C1)C(=O)OC</td>\n",
              "      <td>C15H21NO4</td>\n",
              "      <td>279.33</td>\n",
              "      <td>9</td>\n",
              "      <td>20</td>\n",
              "      <td>1</td>\n",
              "    </tr>\n",
              "    <tr>\n",
              "      <th>146161459</th>\n",
              "      <td>C1=CC=C(C=C1)CN(CC2=CC=CC=C2)C(C3=CC=C(C=C3)F)...</td>\n",
              "      <td>C22H20FNO2</td>\n",
              "      <td>349.40</td>\n",
              "      <td>7</td>\n",
              "      <td>26</td>\n",
              "      <td>1</td>\n",
              "    </tr>\n",
              "    <tr>\n",
              "      <th>145524776</th>\n",
              "      <td>CC.CCCN1CCN(CC1)C(C2=CC=CC=C2CC)C(=O)O</td>\n",
              "      <td>C19H32N2O2</td>\n",
              "      <td>320.50</td>\n",
              "      <td>6</td>\n",
              "      <td>23</td>\n",
              "      <td>1</td>\n",
              "    </tr>\n",
              "    <tr>\n",
              "      <th>145520251</th>\n",
              "      <td>CC.CC.CCC.CC(=C)N1CCN(CC1)C(C2=CC=CC=C2)C(=O)O</td>\n",
              "      <td>C22H40N2O2</td>\n",
              "      <td>364.60</td>\n",
              "      <td>4</td>\n",
              "      <td>26</td>\n",
              "      <td>1</td>\n",
              "    </tr>\n",
              "  </tbody>\n",
              "</table>\n",
              "</div>"
            ],
            "text/plain": [
              "                                              IsomericSmiles  ... AtomChiralCount\n",
              "CID                                                           ...                \n",
              "146168522           CCN(CC(=O)C)C(C1=CC=CC=C1)C(=O)OC(C)(C)C  ...               1\n",
              "146168519                CCN(CC(=O)OCC)C(C1=CC=CC=C1)C(=O)OC  ...               1\n",
              "146161459  C1=CC=C(C=C1)CN(CC2=CC=CC=C2)C(C3=CC=C(C=C3)F)...  ...               1\n",
              "145524776             CC.CCCN1CCN(CC1)C(C2=CC=CC=C2CC)C(=O)O  ...               1\n",
              "145520251     CC.CC.CCC.CC(=C)N1CCN(CC1)C(C2=CC=CC=C2)C(=O)O  ...               1\n",
              "\n",
              "[5 rows x 6 columns]"
            ]
          },
          "metadata": {
            "tags": []
          },
          "execution_count": 28
        }
      ]
    },
    {
      "cell_type": "code",
      "metadata": {
        "colab": {
          "base_uri": "https://localhost:8080/"
        },
        "id": "GasnzusA86c3",
        "outputId": "4684aaa3-e674-411e-81ac-94fab5bd10bc"
      },
      "source": [
        "# the 5th row here is index position 4:\n",
        "data_df2.iloc[4,:]"
      ],
      "execution_count": 29,
      "outputs": [
        {
          "output_type": "execute_result",
          "data": {
            "text/plain": [
              "IsomericSmiles        CC.CC.CCC.CC(=C)N1CCN(CC1)C(C2=CC=CC=C2)C(=O)O\n",
              "MolecularFormula                                          C22H40N2O2\n",
              "MolecularWeight                                                364.6\n",
              "RotatableBondCount                                                 4\n",
              "HeavyAtomCount                                                    26\n",
              "AtomChiralCount                                                    1\n",
              "Name: 145520251, dtype: object"
            ]
          },
          "metadata": {
            "tags": []
          },
          "execution_count": 29
        }
      ]
    },
    {
      "cell_type": "code",
      "metadata": {
        "colab": {
          "base_uri": "https://localhost:8080/",
          "height": 258
        },
        "id": "A9n7uGWz86gH",
        "outputId": "d325296d-24e9-47a2-cf3b-c785b2d9b0bc"
      },
      "source": [
        "# loc is a little different, and includes start and stop values:\n",
        "data_df2.loc[146168522:145520251,:]"
      ],
      "execution_count": 30,
      "outputs": [
        {
          "output_type": "execute_result",
          "data": {
            "text/html": [
              "<div>\n",
              "<style scoped>\n",
              "    .dataframe tbody tr th:only-of-type {\n",
              "        vertical-align: middle;\n",
              "    }\n",
              "\n",
              "    .dataframe tbody tr th {\n",
              "        vertical-align: top;\n",
              "    }\n",
              "\n",
              "    .dataframe thead th {\n",
              "        text-align: right;\n",
              "    }\n",
              "</style>\n",
              "<table border=\"1\" class=\"dataframe\">\n",
              "  <thead>\n",
              "    <tr style=\"text-align: right;\">\n",
              "      <th></th>\n",
              "      <th>IsomericSmiles</th>\n",
              "      <th>MolecularFormula</th>\n",
              "      <th>MolecularWeight</th>\n",
              "      <th>RotatableBondCount</th>\n",
              "      <th>HeavyAtomCount</th>\n",
              "      <th>AtomChiralCount</th>\n",
              "    </tr>\n",
              "    <tr>\n",
              "      <th>CID</th>\n",
              "      <th></th>\n",
              "      <th></th>\n",
              "      <th></th>\n",
              "      <th></th>\n",
              "      <th></th>\n",
              "      <th></th>\n",
              "    </tr>\n",
              "  </thead>\n",
              "  <tbody>\n",
              "    <tr>\n",
              "      <th>146168522</th>\n",
              "      <td>CCN(CC(=O)C)C(C1=CC=CC=C1)C(=O)OC(C)(C)C</td>\n",
              "      <td>C17H25NO3</td>\n",
              "      <td>291.40</td>\n",
              "      <td>8</td>\n",
              "      <td>21</td>\n",
              "      <td>1</td>\n",
              "    </tr>\n",
              "    <tr>\n",
              "      <th>146168519</th>\n",
              "      <td>CCN(CC(=O)OCC)C(C1=CC=CC=C1)C(=O)OC</td>\n",
              "      <td>C15H21NO4</td>\n",
              "      <td>279.33</td>\n",
              "      <td>9</td>\n",
              "      <td>20</td>\n",
              "      <td>1</td>\n",
              "    </tr>\n",
              "    <tr>\n",
              "      <th>146161459</th>\n",
              "      <td>C1=CC=C(C=C1)CN(CC2=CC=CC=C2)C(C3=CC=C(C=C3)F)...</td>\n",
              "      <td>C22H20FNO2</td>\n",
              "      <td>349.40</td>\n",
              "      <td>7</td>\n",
              "      <td>26</td>\n",
              "      <td>1</td>\n",
              "    </tr>\n",
              "    <tr>\n",
              "      <th>145524776</th>\n",
              "      <td>CC.CCCN1CCN(CC1)C(C2=CC=CC=C2CC)C(=O)O</td>\n",
              "      <td>C19H32N2O2</td>\n",
              "      <td>320.50</td>\n",
              "      <td>6</td>\n",
              "      <td>23</td>\n",
              "      <td>1</td>\n",
              "    </tr>\n",
              "    <tr>\n",
              "      <th>145520251</th>\n",
              "      <td>CC.CC.CCC.CC(=C)N1CCN(CC1)C(C2=CC=CC=C2)C(=O)O</td>\n",
              "      <td>C22H40N2O2</td>\n",
              "      <td>364.60</td>\n",
              "      <td>4</td>\n",
              "      <td>26</td>\n",
              "      <td>1</td>\n",
              "    </tr>\n",
              "  </tbody>\n",
              "</table>\n",
              "</div>"
            ],
            "text/plain": [
              "                                              IsomericSmiles  ... AtomChiralCount\n",
              "CID                                                           ...                \n",
              "146168522           CCN(CC(=O)C)C(C1=CC=CC=C1)C(=O)OC(C)(C)C  ...               1\n",
              "146168519                CCN(CC(=O)OCC)C(C1=CC=CC=C1)C(=O)OC  ...               1\n",
              "146161459  C1=CC=C(C=C1)CN(CC2=CC=CC=C2)C(C3=CC=C(C=C3)F)...  ...               1\n",
              "145524776             CC.CCCN1CCN(CC1)C(C2=CC=CC=C2CC)C(=O)O  ...               1\n",
              "145520251     CC.CC.CCC.CC(=C)N1CCN(CC1)C(C2=CC=CC=C2)C(=O)O  ...               1\n",
              "\n",
              "[5 rows x 6 columns]"
            ]
          },
          "metadata": {
            "tags": []
          },
          "execution_count": 30
        }
      ]
    },
    {
      "cell_type": "markdown",
      "metadata": {
        "id": "VaGJpyMuBsqI"
      },
      "source": [
        "## Select by Condition\n",
        "\n",
        "The [DataFrame.loc](https://pandas.pydata.org/docs/reference/api/pandas.DataFrame.loc.html) property can also be used to select data based on a condition (e.g., filtering data) [4].\n",
        "\n",
        "You can use [comparison operators](https://docs.python.org/3/library/stdtypes.html#boolean-operations-and-or-not) and even combine them with boolean operators [4]."
      ]
    },
    {
      "cell_type": "code",
      "metadata": {
        "id": "noyOshZFTBjz",
        "colab": {
          "base_uri": "https://localhost:8080/",
          "height": 557
        },
        "outputId": "f0b2ad7c-de5f-41bd-ae09-f9c6dfc51a77"
      },
      "source": [
        "# select rows where the RotatableBondCount is greater than 12\n",
        "data_df2.loc[data_df2['RotatableBondCount'] > 12]"
      ],
      "execution_count": 31,
      "outputs": [
        {
          "output_type": "execute_result",
          "data": {
            "text/html": [
              "<div>\n",
              "<style scoped>\n",
              "    .dataframe tbody tr th:only-of-type {\n",
              "        vertical-align: middle;\n",
              "    }\n",
              "\n",
              "    .dataframe tbody tr th {\n",
              "        vertical-align: top;\n",
              "    }\n",
              "\n",
              "    .dataframe thead th {\n",
              "        text-align: right;\n",
              "    }\n",
              "</style>\n",
              "<table border=\"1\" class=\"dataframe\">\n",
              "  <thead>\n",
              "    <tr style=\"text-align: right;\">\n",
              "      <th></th>\n",
              "      <th>IsomericSmiles</th>\n",
              "      <th>MolecularFormula</th>\n",
              "      <th>MolecularWeight</th>\n",
              "      <th>RotatableBondCount</th>\n",
              "      <th>HeavyAtomCount</th>\n",
              "      <th>AtomChiralCount</th>\n",
              "    </tr>\n",
              "    <tr>\n",
              "      <th>CID</th>\n",
              "      <th></th>\n",
              "      <th></th>\n",
              "      <th></th>\n",
              "      <th></th>\n",
              "      <th></th>\n",
              "      <th></th>\n",
              "    </tr>\n",
              "  </thead>\n",
              "  <tbody>\n",
              "    <tr>\n",
              "      <th>142440523</th>\n",
              "      <td>CCCCCCCCCN(CCCCCCCCC)C(CC1=CC=CC=C1)C(=O)O</td>\n",
              "      <td>C27H47NO2</td>\n",
              "      <td>417.7</td>\n",
              "      <td>20</td>\n",
              "      <td>30</td>\n",
              "      <td>1</td>\n",
              "    </tr>\n",
              "    <tr>\n",
              "      <th>141647327</th>\n",
              "      <td>CCNCCNCCCNCCNC(C1=CC=CC=C1)C(=O)O</td>\n",
              "      <td>C17H30N4O2</td>\n",
              "      <td>322.4</td>\n",
              "      <td>14</td>\n",
              "      <td>23</td>\n",
              "      <td>1</td>\n",
              "    </tr>\n",
              "    <tr>\n",
              "      <th>140080120</th>\n",
              "      <td>CCCCCCCCCCCCOC(=O)C(C1=CC=CC=C1)N(C)C</td>\n",
              "      <td>C22H37NO2</td>\n",
              "      <td>347.5</td>\n",
              "      <td>15</td>\n",
              "      <td>25</td>\n",
              "      <td>1</td>\n",
              "    </tr>\n",
              "    <tr>\n",
              "      <th>140043255</th>\n",
              "      <td>CCCCCCCCCCCCCCC(=O)N[C@@H](C1=CC=CC=C1)C(=O)O</td>\n",
              "      <td>C23H37NO3</td>\n",
              "      <td>375.5</td>\n",
              "      <td>16</td>\n",
              "      <td>27</td>\n",
              "      <td>1</td>\n",
              "    </tr>\n",
              "    <tr>\n",
              "      <th>117918444</th>\n",
              "      <td>CCCCCCCCCCCN(CCCCCCCCC)[C@@H](CC1=CC=CC=C1)C(=O)O</td>\n",
              "      <td>C29H51NO2</td>\n",
              "      <td>445.7</td>\n",
              "      <td>22</td>\n",
              "      <td>32</td>\n",
              "      <td>1</td>\n",
              "    </tr>\n",
              "    <tr>\n",
              "      <th>89640554</th>\n",
              "      <td>CCCCCCCCCCCCN(CCCCCCCCCCCC)C(CC1=CC=CC=C1)C(=O)O</td>\n",
              "      <td>C33H59NO2</td>\n",
              "      <td>501.8</td>\n",
              "      <td>26</td>\n",
              "      <td>36</td>\n",
              "      <td>1</td>\n",
              "    </tr>\n",
              "    <tr>\n",
              "      <th>88717591</th>\n",
              "      <td>CCCCCCCCC/C=C/CCCNC(C1=CC=CC=C1)C(=O)O</td>\n",
              "      <td>C22H35NO2</td>\n",
              "      <td>345.5</td>\n",
              "      <td>15</td>\n",
              "      <td>25</td>\n",
              "      <td>1</td>\n",
              "    </tr>\n",
              "    <tr>\n",
              "      <th>87110555</th>\n",
              "      <td>CC/C=C/C/C=C/C/C=C/C/C=C/C/C=C/C/C=C/CCC(=O)NC...</td>\n",
              "      <td>C30H39NO3</td>\n",
              "      <td>461.6</td>\n",
              "      <td>17</td>\n",
              "      <td>34</td>\n",
              "      <td>1</td>\n",
              "    </tr>\n",
              "    <tr>\n",
              "      <th>68981468</th>\n",
              "      <td>CCCCCCCCCCCCC(C(=O)O)N(C)CC1=CC=CC=C1</td>\n",
              "      <td>C22H37NO2</td>\n",
              "      <td>347.5</td>\n",
              "      <td>15</td>\n",
              "      <td>25</td>\n",
              "      <td>1</td>\n",
              "    </tr>\n",
              "    <tr>\n",
              "      <th>67926577</th>\n",
              "      <td>CCCCCCCCCCCCCCCCCCNC(C1=CC=CC=C1)C(=O)O</td>\n",
              "      <td>C26H45NO2</td>\n",
              "      <td>403.6</td>\n",
              "      <td>20</td>\n",
              "      <td>29</td>\n",
              "      <td>1</td>\n",
              "    </tr>\n",
              "    <tr>\n",
              "      <th>66826250</th>\n",
              "      <td>CCCCCCCCCCCCC(C1=CC=CC=C1)(C(=O)O)N(C)C</td>\n",
              "      <td>C22H37NO2</td>\n",
              "      <td>347.5</td>\n",
              "      <td>14</td>\n",
              "      <td>25</td>\n",
              "      <td>1</td>\n",
              "    </tr>\n",
              "    <tr>\n",
              "      <th>20293079</th>\n",
              "      <td>CCCCCCCCCCCCNC(C1=CC=CC=C1)C(=O)O</td>\n",
              "      <td>C20H33NO2</td>\n",
              "      <td>319.5</td>\n",
              "      <td>14</td>\n",
              "      <td>23</td>\n",
              "      <td>1</td>\n",
              "    </tr>\n",
              "    <tr>\n",
              "      <th>12900587</th>\n",
              "      <td>CCCCCCCCCCCC(=O)N[C@@H](C1=CC=CC=C1)C(=O)O</td>\n",
              "      <td>C20H31NO3</td>\n",
              "      <td>333.5</td>\n",
              "      <td>13</td>\n",
              "      <td>24</td>\n",
              "      <td>1</td>\n",
              "    </tr>\n",
              "    <tr>\n",
              "      <th>4595868</th>\n",
              "      <td>CCCCCCCCCCC(C(=O)OC)[N+](C)(C)CC1=CC=CC=C1</td>\n",
              "      <td>C22H38NO2+</td>\n",
              "      <td>348.5</td>\n",
              "      <td>14</td>\n",
              "      <td>25</td>\n",
              "      <td>1</td>\n",
              "    </tr>\n",
              "  </tbody>\n",
              "</table>\n",
              "</div>"
            ],
            "text/plain": [
              "                                              IsomericSmiles  ... AtomChiralCount\n",
              "CID                                                           ...                \n",
              "142440523         CCCCCCCCCN(CCCCCCCCC)C(CC1=CC=CC=C1)C(=O)O  ...               1\n",
              "141647327                  CCNCCNCCCNCCNC(C1=CC=CC=C1)C(=O)O  ...               1\n",
              "140080120              CCCCCCCCCCCCOC(=O)C(C1=CC=CC=C1)N(C)C  ...               1\n",
              "140043255      CCCCCCCCCCCCCCC(=O)N[C@@H](C1=CC=CC=C1)C(=O)O  ...               1\n",
              "117918444  CCCCCCCCCCCN(CCCCCCCCC)[C@@H](CC1=CC=CC=C1)C(=O)O  ...               1\n",
              "89640554    CCCCCCCCCCCCN(CCCCCCCCCCCC)C(CC1=CC=CC=C1)C(=O)O  ...               1\n",
              "88717591              CCCCCCCCC/C=C/CCCNC(C1=CC=CC=C1)C(=O)O  ...               1\n",
              "87110555   CC/C=C/C/C=C/C/C=C/C/C=C/C/C=C/C/C=C/CCC(=O)NC...  ...               1\n",
              "68981468               CCCCCCCCCCCCC(C(=O)O)N(C)CC1=CC=CC=C1  ...               1\n",
              "67926577             CCCCCCCCCCCCCCCCCCNC(C1=CC=CC=C1)C(=O)O  ...               1\n",
              "66826250             CCCCCCCCCCCCC(C1=CC=CC=C1)(C(=O)O)N(C)C  ...               1\n",
              "20293079                   CCCCCCCCCCCCNC(C1=CC=CC=C1)C(=O)O  ...               1\n",
              "12900587          CCCCCCCCCCCC(=O)N[C@@H](C1=CC=CC=C1)C(=O)O  ...               1\n",
              "4595868           CCCCCCCCCCC(C(=O)OC)[N+](C)(C)CC1=CC=CC=C1  ...               1\n",
              "\n",
              "[14 rows x 6 columns]"
            ]
          },
          "metadata": {
            "tags": []
          },
          "execution_count": 31
        }
      ]
    },
    {
      "cell_type": "code",
      "metadata": {
        "colab": {
          "base_uri": "https://localhost:8080/",
          "height": 520
        },
        "id": "yqMM_UoOOaxM",
        "outputId": "8a40c8b7-e548-4153-d843-059fbd1b9b2f"
      },
      "source": [
        "# note that you can also specifiy columns to return\n",
        "data_df2.loc[data_df2['RotatableBondCount'] > 12, ['IsomericSmiles','RotatableBondCount']]"
      ],
      "execution_count": 32,
      "outputs": [
        {
          "output_type": "execute_result",
          "data": {
            "text/html": [
              "<div>\n",
              "<style scoped>\n",
              "    .dataframe tbody tr th:only-of-type {\n",
              "        vertical-align: middle;\n",
              "    }\n",
              "\n",
              "    .dataframe tbody tr th {\n",
              "        vertical-align: top;\n",
              "    }\n",
              "\n",
              "    .dataframe thead th {\n",
              "        text-align: right;\n",
              "    }\n",
              "</style>\n",
              "<table border=\"1\" class=\"dataframe\">\n",
              "  <thead>\n",
              "    <tr style=\"text-align: right;\">\n",
              "      <th></th>\n",
              "      <th>IsomericSmiles</th>\n",
              "      <th>RotatableBondCount</th>\n",
              "    </tr>\n",
              "    <tr>\n",
              "      <th>CID</th>\n",
              "      <th></th>\n",
              "      <th></th>\n",
              "    </tr>\n",
              "  </thead>\n",
              "  <tbody>\n",
              "    <tr>\n",
              "      <th>142440523</th>\n",
              "      <td>CCCCCCCCCN(CCCCCCCCC)C(CC1=CC=CC=C1)C(=O)O</td>\n",
              "      <td>20</td>\n",
              "    </tr>\n",
              "    <tr>\n",
              "      <th>141647327</th>\n",
              "      <td>CCNCCNCCCNCCNC(C1=CC=CC=C1)C(=O)O</td>\n",
              "      <td>14</td>\n",
              "    </tr>\n",
              "    <tr>\n",
              "      <th>140080120</th>\n",
              "      <td>CCCCCCCCCCCCOC(=O)C(C1=CC=CC=C1)N(C)C</td>\n",
              "      <td>15</td>\n",
              "    </tr>\n",
              "    <tr>\n",
              "      <th>140043255</th>\n",
              "      <td>CCCCCCCCCCCCCCC(=O)N[C@@H](C1=CC=CC=C1)C(=O)O</td>\n",
              "      <td>16</td>\n",
              "    </tr>\n",
              "    <tr>\n",
              "      <th>117918444</th>\n",
              "      <td>CCCCCCCCCCCN(CCCCCCCCC)[C@@H](CC1=CC=CC=C1)C(=O)O</td>\n",
              "      <td>22</td>\n",
              "    </tr>\n",
              "    <tr>\n",
              "      <th>89640554</th>\n",
              "      <td>CCCCCCCCCCCCN(CCCCCCCCCCCC)C(CC1=CC=CC=C1)C(=O)O</td>\n",
              "      <td>26</td>\n",
              "    </tr>\n",
              "    <tr>\n",
              "      <th>88717591</th>\n",
              "      <td>CCCCCCCCC/C=C/CCCNC(C1=CC=CC=C1)C(=O)O</td>\n",
              "      <td>15</td>\n",
              "    </tr>\n",
              "    <tr>\n",
              "      <th>87110555</th>\n",
              "      <td>CC/C=C/C/C=C/C/C=C/C/C=C/C/C=C/C/C=C/CCC(=O)NC...</td>\n",
              "      <td>17</td>\n",
              "    </tr>\n",
              "    <tr>\n",
              "      <th>68981468</th>\n",
              "      <td>CCCCCCCCCCCCC(C(=O)O)N(C)CC1=CC=CC=C1</td>\n",
              "      <td>15</td>\n",
              "    </tr>\n",
              "    <tr>\n",
              "      <th>67926577</th>\n",
              "      <td>CCCCCCCCCCCCCCCCCCNC(C1=CC=CC=C1)C(=O)O</td>\n",
              "      <td>20</td>\n",
              "    </tr>\n",
              "    <tr>\n",
              "      <th>66826250</th>\n",
              "      <td>CCCCCCCCCCCCC(C1=CC=CC=C1)(C(=O)O)N(C)C</td>\n",
              "      <td>14</td>\n",
              "    </tr>\n",
              "    <tr>\n",
              "      <th>20293079</th>\n",
              "      <td>CCCCCCCCCCCCNC(C1=CC=CC=C1)C(=O)O</td>\n",
              "      <td>14</td>\n",
              "    </tr>\n",
              "    <tr>\n",
              "      <th>12900587</th>\n",
              "      <td>CCCCCCCCCCCC(=O)N[C@@H](C1=CC=CC=C1)C(=O)O</td>\n",
              "      <td>13</td>\n",
              "    </tr>\n",
              "    <tr>\n",
              "      <th>4595868</th>\n",
              "      <td>CCCCCCCCCCC(C(=O)OC)[N+](C)(C)CC1=CC=CC=C1</td>\n",
              "      <td>14</td>\n",
              "    </tr>\n",
              "  </tbody>\n",
              "</table>\n",
              "</div>"
            ],
            "text/plain": [
              "                                              IsomericSmiles  RotatableBondCount\n",
              "CID                                                                             \n",
              "142440523         CCCCCCCCCN(CCCCCCCCC)C(CC1=CC=CC=C1)C(=O)O                  20\n",
              "141647327                  CCNCCNCCCNCCNC(C1=CC=CC=C1)C(=O)O                  14\n",
              "140080120              CCCCCCCCCCCCOC(=O)C(C1=CC=CC=C1)N(C)C                  15\n",
              "140043255      CCCCCCCCCCCCCCC(=O)N[C@@H](C1=CC=CC=C1)C(=O)O                  16\n",
              "117918444  CCCCCCCCCCCN(CCCCCCCCC)[C@@H](CC1=CC=CC=C1)C(=O)O                  22\n",
              "89640554    CCCCCCCCCCCCN(CCCCCCCCCCCC)C(CC1=CC=CC=C1)C(=O)O                  26\n",
              "88717591              CCCCCCCCC/C=C/CCCNC(C1=CC=CC=C1)C(=O)O                  15\n",
              "87110555   CC/C=C/C/C=C/C/C=C/C/C=C/C/C=C/C/C=C/CCC(=O)NC...                  17\n",
              "68981468               CCCCCCCCCCCCC(C(=O)O)N(C)CC1=CC=CC=C1                  15\n",
              "67926577             CCCCCCCCCCCCCCCCCCNC(C1=CC=CC=C1)C(=O)O                  20\n",
              "66826250             CCCCCCCCCCCCC(C1=CC=CC=C1)(C(=O)O)N(C)C                  14\n",
              "20293079                   CCCCCCCCCCCCNC(C1=CC=CC=C1)C(=O)O                  14\n",
              "12900587          CCCCCCCCCCCC(=O)N[C@@H](C1=CC=CC=C1)C(=O)O                  13\n",
              "4595868           CCCCCCCCCCC(C(=O)OC)[N+](C)(C)CC1=CC=CC=C1                  14"
            ]
          },
          "metadata": {
            "tags": []
          },
          "execution_count": 32
        }
      ]
    },
    {
      "cell_type": "code",
      "metadata": {
        "colab": {
          "base_uri": "https://localhost:8080/",
          "height": 470
        },
        "id": "C3AqdVs9J8Mn",
        "outputId": "50993429-d250-4ca4-d085-e9ab94b3fbed"
      },
      "source": [
        "# select rows where the RotatableBondCount is greater than 12 and the MolecularWeight is less than 400\n",
        "data_df2.loc[(data_df2['RotatableBondCount'] > 12) & (data_df2['MolecularWeight'] < 400)]"
      ],
      "execution_count": 33,
      "outputs": [
        {
          "output_type": "execute_result",
          "data": {
            "text/html": [
              "<div>\n",
              "<style scoped>\n",
              "    .dataframe tbody tr th:only-of-type {\n",
              "        vertical-align: middle;\n",
              "    }\n",
              "\n",
              "    .dataframe tbody tr th {\n",
              "        vertical-align: top;\n",
              "    }\n",
              "\n",
              "    .dataframe thead th {\n",
              "        text-align: right;\n",
              "    }\n",
              "</style>\n",
              "<table border=\"1\" class=\"dataframe\">\n",
              "  <thead>\n",
              "    <tr style=\"text-align: right;\">\n",
              "      <th></th>\n",
              "      <th>IsomericSmiles</th>\n",
              "      <th>MolecularFormula</th>\n",
              "      <th>MolecularWeight</th>\n",
              "      <th>RotatableBondCount</th>\n",
              "      <th>HeavyAtomCount</th>\n",
              "      <th>AtomChiralCount</th>\n",
              "    </tr>\n",
              "    <tr>\n",
              "      <th>CID</th>\n",
              "      <th></th>\n",
              "      <th></th>\n",
              "      <th></th>\n",
              "      <th></th>\n",
              "      <th></th>\n",
              "      <th></th>\n",
              "    </tr>\n",
              "  </thead>\n",
              "  <tbody>\n",
              "    <tr>\n",
              "      <th>141647327</th>\n",
              "      <td>CCNCCNCCCNCCNC(C1=CC=CC=C1)C(=O)O</td>\n",
              "      <td>C17H30N4O2</td>\n",
              "      <td>322.4</td>\n",
              "      <td>14</td>\n",
              "      <td>23</td>\n",
              "      <td>1</td>\n",
              "    </tr>\n",
              "    <tr>\n",
              "      <th>140080120</th>\n",
              "      <td>CCCCCCCCCCCCOC(=O)C(C1=CC=CC=C1)N(C)C</td>\n",
              "      <td>C22H37NO2</td>\n",
              "      <td>347.5</td>\n",
              "      <td>15</td>\n",
              "      <td>25</td>\n",
              "      <td>1</td>\n",
              "    </tr>\n",
              "    <tr>\n",
              "      <th>140043255</th>\n",
              "      <td>CCCCCCCCCCCCCCC(=O)N[C@@H](C1=CC=CC=C1)C(=O)O</td>\n",
              "      <td>C23H37NO3</td>\n",
              "      <td>375.5</td>\n",
              "      <td>16</td>\n",
              "      <td>27</td>\n",
              "      <td>1</td>\n",
              "    </tr>\n",
              "    <tr>\n",
              "      <th>88717591</th>\n",
              "      <td>CCCCCCCCC/C=C/CCCNC(C1=CC=CC=C1)C(=O)O</td>\n",
              "      <td>C22H35NO2</td>\n",
              "      <td>345.5</td>\n",
              "      <td>15</td>\n",
              "      <td>25</td>\n",
              "      <td>1</td>\n",
              "    </tr>\n",
              "    <tr>\n",
              "      <th>68981468</th>\n",
              "      <td>CCCCCCCCCCCCC(C(=O)O)N(C)CC1=CC=CC=C1</td>\n",
              "      <td>C22H37NO2</td>\n",
              "      <td>347.5</td>\n",
              "      <td>15</td>\n",
              "      <td>25</td>\n",
              "      <td>1</td>\n",
              "    </tr>\n",
              "    <tr>\n",
              "      <th>66826250</th>\n",
              "      <td>CCCCCCCCCCCCC(C1=CC=CC=C1)(C(=O)O)N(C)C</td>\n",
              "      <td>C22H37NO2</td>\n",
              "      <td>347.5</td>\n",
              "      <td>14</td>\n",
              "      <td>25</td>\n",
              "      <td>1</td>\n",
              "    </tr>\n",
              "    <tr>\n",
              "      <th>20293079</th>\n",
              "      <td>CCCCCCCCCCCCNC(C1=CC=CC=C1)C(=O)O</td>\n",
              "      <td>C20H33NO2</td>\n",
              "      <td>319.5</td>\n",
              "      <td>14</td>\n",
              "      <td>23</td>\n",
              "      <td>1</td>\n",
              "    </tr>\n",
              "    <tr>\n",
              "      <th>12900587</th>\n",
              "      <td>CCCCCCCCCCCC(=O)N[C@@H](C1=CC=CC=C1)C(=O)O</td>\n",
              "      <td>C20H31NO3</td>\n",
              "      <td>333.5</td>\n",
              "      <td>13</td>\n",
              "      <td>24</td>\n",
              "      <td>1</td>\n",
              "    </tr>\n",
              "    <tr>\n",
              "      <th>4595868</th>\n",
              "      <td>CCCCCCCCCCC(C(=O)OC)[N+](C)(C)CC1=CC=CC=C1</td>\n",
              "      <td>C22H38NO2+</td>\n",
              "      <td>348.5</td>\n",
              "      <td>14</td>\n",
              "      <td>25</td>\n",
              "      <td>1</td>\n",
              "    </tr>\n",
              "  </tbody>\n",
              "</table>\n",
              "</div>"
            ],
            "text/plain": [
              "                                          IsomericSmiles  ... AtomChiralCount\n",
              "CID                                                       ...                \n",
              "141647327              CCNCCNCCCNCCNC(C1=CC=CC=C1)C(=O)O  ...               1\n",
              "140080120          CCCCCCCCCCCCOC(=O)C(C1=CC=CC=C1)N(C)C  ...               1\n",
              "140043255  CCCCCCCCCCCCCCC(=O)N[C@@H](C1=CC=CC=C1)C(=O)O  ...               1\n",
              "88717591          CCCCCCCCC/C=C/CCCNC(C1=CC=CC=C1)C(=O)O  ...               1\n",
              "68981468           CCCCCCCCCCCCC(C(=O)O)N(C)CC1=CC=CC=C1  ...               1\n",
              "66826250         CCCCCCCCCCCCC(C1=CC=CC=C1)(C(=O)O)N(C)C  ...               1\n",
              "20293079               CCCCCCCCCCCCNC(C1=CC=CC=C1)C(=O)O  ...               1\n",
              "12900587      CCCCCCCCCCCC(=O)N[C@@H](C1=CC=CC=C1)C(=O)O  ...               1\n",
              "4595868       CCCCCCCCCCC(C(=O)OC)[N+](C)(C)CC1=CC=CC=C1  ...               1\n",
              "\n",
              "[9 rows x 6 columns]"
            ]
          },
          "metadata": {
            "tags": []
          },
          "execution_count": 33
        }
      ]
    },
    {
      "cell_type": "markdown",
      "metadata": {
        "id": "ZXoqyIgSRy_Z"
      },
      "source": [
        "You can get creative with selecting/filtering. For example, you can even filter based on string matching with the [str.contains](https://pandas.pydata.org/docs/reference/api/pandas.Series.str.contains.html?highlight=str%20contains#pandas.Series.str.contains) method [5]."
      ]
    },
    {
      "cell_type": "code",
      "metadata": {
        "id": "8n7GfXZGTBpO",
        "colab": {
          "base_uri": "https://localhost:8080/",
          "height": 527
        },
        "outputId": "4c7a24bd-47c9-460a-85b8-a781ddcdfd11"
      },
      "source": [
        "# select rows where IsomericSmiles contains an \"@\"\n",
        "data_df2.loc[data_df2['IsomericSmiles'].str.contains(\"@\")]"
      ],
      "execution_count": 34,
      "outputs": [
        {
          "output_type": "execute_result",
          "data": {
            "text/html": [
              "<div>\n",
              "<style scoped>\n",
              "    .dataframe tbody tr th:only-of-type {\n",
              "        vertical-align: middle;\n",
              "    }\n",
              "\n",
              "    .dataframe tbody tr th {\n",
              "        vertical-align: top;\n",
              "    }\n",
              "\n",
              "    .dataframe thead th {\n",
              "        text-align: right;\n",
              "    }\n",
              "</style>\n",
              "<table border=\"1\" class=\"dataframe\">\n",
              "  <thead>\n",
              "    <tr style=\"text-align: right;\">\n",
              "      <th></th>\n",
              "      <th>IsomericSmiles</th>\n",
              "      <th>MolecularFormula</th>\n",
              "      <th>MolecularWeight</th>\n",
              "      <th>RotatableBondCount</th>\n",
              "      <th>HeavyAtomCount</th>\n",
              "      <th>AtomChiralCount</th>\n",
              "    </tr>\n",
              "    <tr>\n",
              "      <th>CID</th>\n",
              "      <th></th>\n",
              "      <th></th>\n",
              "      <th></th>\n",
              "      <th></th>\n",
              "      <th></th>\n",
              "      <th></th>\n",
              "    </tr>\n",
              "  </thead>\n",
              "  <tbody>\n",
              "    <tr>\n",
              "      <th>144097912</th>\n",
              "      <td>CCCC1=C(C(=CC=C1)[C@H](C(=O)O)N2CCCCC2)F</td>\n",
              "      <td>C16H22FNO2</td>\n",
              "      <td>279.35</td>\n",
              "      <td>5</td>\n",
              "      <td>20</td>\n",
              "      <td>1</td>\n",
              "    </tr>\n",
              "    <tr>\n",
              "      <th>143939569</th>\n",
              "      <td>CCCC1=CC(=CC=C1)[C@H](C(=O)O)N2CCCCC2</td>\n",
              "      <td>C16H23NO2</td>\n",
              "      <td>261.36</td>\n",
              "      <td>5</td>\n",
              "      <td>19</td>\n",
              "      <td>1</td>\n",
              "    </tr>\n",
              "    <tr>\n",
              "      <th>142790501</th>\n",
              "      <td>CC1(CCN(CC1)[C@@H](C2=CC=CC=C2)C(=O)O)O</td>\n",
              "      <td>C14H19NO3</td>\n",
              "      <td>249.30</td>\n",
              "      <td>3</td>\n",
              "      <td>18</td>\n",
              "      <td>1</td>\n",
              "    </tr>\n",
              "    <tr>\n",
              "      <th>142790500</th>\n",
              "      <td>CCN[C@@H](C1=CC=CC=C1)C(=O)O.Cl</td>\n",
              "      <td>C10H14ClNO2</td>\n",
              "      <td>215.67</td>\n",
              "      <td>4</td>\n",
              "      <td>14</td>\n",
              "      <td>1</td>\n",
              "    </tr>\n",
              "    <tr>\n",
              "      <th>142418893</th>\n",
              "      <td>CCC1=CC=C(C=C1)C(C(=O)O)N2CC[C@H](C2)C</td>\n",
              "      <td>C15H21NO2</td>\n",
              "      <td>247.33</td>\n",
              "      <td>4</td>\n",
              "      <td>18</td>\n",
              "      <td>2</td>\n",
              "    </tr>\n",
              "    <tr>\n",
              "      <th>...</th>\n",
              "      <td>...</td>\n",
              "      <td>...</td>\n",
              "      <td>...</td>\n",
              "      <td>...</td>\n",
              "      <td>...</td>\n",
              "      <td>...</td>\n",
              "    </tr>\n",
              "    <tr>\n",
              "      <th>909981</th>\n",
              "      <td>COC(=O)[C@H](C1=CC=CC=C1)N2CCCCCC2</td>\n",
              "      <td>C15H21NO2</td>\n",
              "      <td>247.33</td>\n",
              "      <td>4</td>\n",
              "      <td>18</td>\n",
              "      <td>1</td>\n",
              "    </tr>\n",
              "    <tr>\n",
              "      <th>825994</th>\n",
              "      <td>CN(CC1=CC=CC=C1)[C@@H](CC2=CC=CC=C2)C(=O)O</td>\n",
              "      <td>C17H19NO2</td>\n",
              "      <td>269.34</td>\n",
              "      <td>6</td>\n",
              "      <td>20</td>\n",
              "      <td>1</td>\n",
              "    </tr>\n",
              "    <tr>\n",
              "      <th>682102</th>\n",
              "      <td>CC(=O)N(C)[C@@H](C1=CC=CC=C1)C(=O)O</td>\n",
              "      <td>C11H13NO3</td>\n",
              "      <td>207.23</td>\n",
              "      <td>3</td>\n",
              "      <td>15</td>\n",
              "      <td>1</td>\n",
              "    </tr>\n",
              "    <tr>\n",
              "      <th>681676</th>\n",
              "      <td>CN[C@H](C1=CC=CC=C1)C(=O)O</td>\n",
              "      <td>C9H11NO2</td>\n",
              "      <td>165.19</td>\n",
              "      <td>3</td>\n",
              "      <td>12</td>\n",
              "      <td>1</td>\n",
              "    </tr>\n",
              "    <tr>\n",
              "      <th>681675</th>\n",
              "      <td>CN[C@@H](C1=CC=CC=C1)C(=O)O</td>\n",
              "      <td>C9H11NO2</td>\n",
              "      <td>165.19</td>\n",
              "      <td>3</td>\n",
              "      <td>12</td>\n",
              "      <td>1</td>\n",
              "    </tr>\n",
              "  </tbody>\n",
              "</table>\n",
              "<p>202 rows × 6 columns</p>\n",
              "</div>"
            ],
            "text/plain": [
              "                                       IsomericSmiles  ... AtomChiralCount\n",
              "CID                                                    ...                \n",
              "144097912    CCCC1=C(C(=CC=C1)[C@H](C(=O)O)N2CCCCC2)F  ...               1\n",
              "143939569       CCCC1=CC(=CC=C1)[C@H](C(=O)O)N2CCCCC2  ...               1\n",
              "142790501     CC1(CCN(CC1)[C@@H](C2=CC=CC=C2)C(=O)O)O  ...               1\n",
              "142790500             CCN[C@@H](C1=CC=CC=C1)C(=O)O.Cl  ...               1\n",
              "142418893      CCC1=CC=C(C=C1)C(C(=O)O)N2CC[C@H](C2)C  ...               2\n",
              "...                                               ...  ...             ...\n",
              "909981             COC(=O)[C@H](C1=CC=CC=C1)N2CCCCCC2  ...               1\n",
              "825994     CN(CC1=CC=CC=C1)[C@@H](CC2=CC=CC=C2)C(=O)O  ...               1\n",
              "682102            CC(=O)N(C)[C@@H](C1=CC=CC=C1)C(=O)O  ...               1\n",
              "681676                     CN[C@H](C1=CC=CC=C1)C(=O)O  ...               1\n",
              "681675                    CN[C@@H](C1=CC=CC=C1)C(=O)O  ...               1\n",
              "\n",
              "[202 rows x 6 columns]"
            ]
          },
          "metadata": {
            "tags": []
          },
          "execution_count": 34
        }
      ]
    },
    {
      "cell_type": "code",
      "metadata": {
        "colab": {
          "base_uri": "https://localhost:8080/",
          "height": 475
        },
        "id": "yy2yYgyPKBuR",
        "outputId": "e4dc66a6-ab13-460e-a7d2-db721692416d"
      },
      "source": [
        "# select rows where IsomericSmiles does not contain an \"@\"\n",
        "data_df2.loc[~data_df2['IsomericSmiles'].str.contains(\"@\")]"
      ],
      "execution_count": 35,
      "outputs": [
        {
          "output_type": "execute_result",
          "data": {
            "text/html": [
              "<div>\n",
              "<style scoped>\n",
              "    .dataframe tbody tr th:only-of-type {\n",
              "        vertical-align: middle;\n",
              "    }\n",
              "\n",
              "    .dataframe tbody tr th {\n",
              "        vertical-align: top;\n",
              "    }\n",
              "\n",
              "    .dataframe thead th {\n",
              "        text-align: right;\n",
              "    }\n",
              "</style>\n",
              "<table border=\"1\" class=\"dataframe\">\n",
              "  <thead>\n",
              "    <tr style=\"text-align: right;\">\n",
              "      <th></th>\n",
              "      <th>IsomericSmiles</th>\n",
              "      <th>MolecularFormula</th>\n",
              "      <th>MolecularWeight</th>\n",
              "      <th>RotatableBondCount</th>\n",
              "      <th>HeavyAtomCount</th>\n",
              "      <th>AtomChiralCount</th>\n",
              "    </tr>\n",
              "    <tr>\n",
              "      <th>CID</th>\n",
              "      <th></th>\n",
              "      <th></th>\n",
              "      <th></th>\n",
              "      <th></th>\n",
              "      <th></th>\n",
              "      <th></th>\n",
              "    </tr>\n",
              "  </thead>\n",
              "  <tbody>\n",
              "    <tr>\n",
              "      <th>146168522</th>\n",
              "      <td>CCN(CC(=O)C)C(C1=CC=CC=C1)C(=O)OC(C)(C)C</td>\n",
              "      <td>C17H25NO3</td>\n",
              "      <td>291.40</td>\n",
              "      <td>8</td>\n",
              "      <td>21</td>\n",
              "      <td>1</td>\n",
              "    </tr>\n",
              "    <tr>\n",
              "      <th>146168519</th>\n",
              "      <td>CCN(CC(=O)OCC)C(C1=CC=CC=C1)C(=O)OC</td>\n",
              "      <td>C15H21NO4</td>\n",
              "      <td>279.33</td>\n",
              "      <td>9</td>\n",
              "      <td>20</td>\n",
              "      <td>1</td>\n",
              "    </tr>\n",
              "    <tr>\n",
              "      <th>146161459</th>\n",
              "      <td>C1=CC=C(C=C1)CN(CC2=CC=CC=C2)C(C3=CC=C(C=C3)F)...</td>\n",
              "      <td>C22H20FNO2</td>\n",
              "      <td>349.40</td>\n",
              "      <td>7</td>\n",
              "      <td>26</td>\n",
              "      <td>1</td>\n",
              "    </tr>\n",
              "    <tr>\n",
              "      <th>145524776</th>\n",
              "      <td>CC.CCCN1CCN(CC1)C(C2=CC=CC=C2CC)C(=O)O</td>\n",
              "      <td>C19H32N2O2</td>\n",
              "      <td>320.50</td>\n",
              "      <td>6</td>\n",
              "      <td>23</td>\n",
              "      <td>1</td>\n",
              "    </tr>\n",
              "    <tr>\n",
              "      <th>145520251</th>\n",
              "      <td>CC.CC.CCC.CC(=C)N1CCN(CC1)C(C2=CC=CC=C2)C(=O)O</td>\n",
              "      <td>C22H40N2O2</td>\n",
              "      <td>364.60</td>\n",
              "      <td>4</td>\n",
              "      <td>26</td>\n",
              "      <td>1</td>\n",
              "    </tr>\n",
              "    <tr>\n",
              "      <th>...</th>\n",
              "      <td>...</td>\n",
              "      <td>...</td>\n",
              "      <td>...</td>\n",
              "      <td>...</td>\n",
              "      <td>...</td>\n",
              "      <td>...</td>\n",
              "    </tr>\n",
              "    <tr>\n",
              "      <th>140236</th>\n",
              "      <td>CN(C)C(CC1=CC=CC=C1)C(=O)O</td>\n",
              "      <td>C11H15NO2</td>\n",
              "      <td>193.24</td>\n",
              "      <td>4</td>\n",
              "      <td>14</td>\n",
              "      <td>1</td>\n",
              "    </tr>\n",
              "    <tr>\n",
              "      <th>51840</th>\n",
              "      <td>CCCCN(CCCC)C(C1=CC=CC=C1)C(=O)O</td>\n",
              "      <td>C16H25NO2</td>\n",
              "      <td>263.37</td>\n",
              "      <td>9</td>\n",
              "      <td>19</td>\n",
              "      <td>1</td>\n",
              "    </tr>\n",
              "    <tr>\n",
              "      <th>51839</th>\n",
              "      <td>CCCC[NH+](CCCC)C(C1=CC=CC=C1)C(=O)O.[Cl-]</td>\n",
              "      <td>C16H26ClNO2</td>\n",
              "      <td>299.83</td>\n",
              "      <td>9</td>\n",
              "      <td>20</td>\n",
              "      <td>1</td>\n",
              "    </tr>\n",
              "    <tr>\n",
              "      <th>51838</th>\n",
              "      <td>CCCCN(CCCC)C(C1=CC=CC=C1)C(=O)OCC</td>\n",
              "      <td>C18H29NO2</td>\n",
              "      <td>291.40</td>\n",
              "      <td>11</td>\n",
              "      <td>21</td>\n",
              "      <td>1</td>\n",
              "    </tr>\n",
              "    <tr>\n",
              "      <th>45157</th>\n",
              "      <td>CC1=CC=CC=C1CNC(C2=CC=CC=C2)C(=O)O</td>\n",
              "      <td>C16H17NO2</td>\n",
              "      <td>255.31</td>\n",
              "      <td>5</td>\n",
              "      <td>19</td>\n",
              "      <td>1</td>\n",
              "    </tr>\n",
              "  </tbody>\n",
              "</table>\n",
              "<p>372 rows × 6 columns</p>\n",
              "</div>"
            ],
            "text/plain": [
              "                                              IsomericSmiles  ... AtomChiralCount\n",
              "CID                                                           ...                \n",
              "146168522           CCN(CC(=O)C)C(C1=CC=CC=C1)C(=O)OC(C)(C)C  ...               1\n",
              "146168519                CCN(CC(=O)OCC)C(C1=CC=CC=C1)C(=O)OC  ...               1\n",
              "146161459  C1=CC=C(C=C1)CN(CC2=CC=CC=C2)C(C3=CC=C(C=C3)F)...  ...               1\n",
              "145524776             CC.CCCN1CCN(CC1)C(C2=CC=CC=C2CC)C(=O)O  ...               1\n",
              "145520251     CC.CC.CCC.CC(=C)N1CCN(CC1)C(C2=CC=CC=C2)C(=O)O  ...               1\n",
              "...                                                      ...  ...             ...\n",
              "140236                            CN(C)C(CC1=CC=CC=C1)C(=O)O  ...               1\n",
              "51840                        CCCCN(CCCC)C(C1=CC=CC=C1)C(=O)O  ...               1\n",
              "51839              CCCC[NH+](CCCC)C(C1=CC=CC=C1)C(=O)O.[Cl-]  ...               1\n",
              "51838                      CCCCN(CCCC)C(C1=CC=CC=C1)C(=O)OCC  ...               1\n",
              "45157                     CC1=CC=CC=C1CNC(C2=CC=CC=C2)C(=O)O  ...               1\n",
              "\n",
              "[372 rows x 6 columns]"
            ]
          },
          "metadata": {
            "tags": []
          },
          "execution_count": 35
        }
      ]
    },
    {
      "cell_type": "markdown",
      "metadata": {
        "id": "BzeHp_Hqptrj"
      },
      "source": [
        "[3] http://swcarpentry.github.io/python-novice-gapminder/08-data-frames/index.html\n",
        "\n",
        "[4] https://stackoverflow.com/questions/17071871/how-to-select-rows-from-a-dataframe-based-on-column-values\n",
        "\n",
        "[5] https://stackoverflow.com/questions/27975069/how-to-filter-rows-containing-a-string-pattern-from-a-pandas-dataframe\n",
        "\n",
        "[6] https://pandas.pydata.org/pandas-docs/stable/user_guide/indexing.html"
      ]
    },
    {
      "cell_type": "markdown",
      "metadata": {
        "id": "0tnTXvrmW4m0"
      },
      "source": [
        "# DataFrame Operations [7]\n",
        "\n",
        "There are a variety of built-in [DataFrame methods](https://pandas.pydata.org/docs/reference/api/pandas.DataFrame.html#pandas.DataFrame) for data analysis and manipulation such as string modification, counting values, and calculating the mean or median. It is also possible to perform operations on series of data (e.g., col A + Col B).\n",
        "\n",
        "A descriptive statistics summary can be calculated with the pandas.[DataFrame.describe()](https://pandas.pydata.org/docs/reference/api/pandas.DataFrame.describe.html?highlight=describe#pandas.DataFrame.describe) function:"
      ]
    },
    {
      "cell_type": "code",
      "metadata": {
        "id": "s3zfVBKkTB6H",
        "colab": {
          "base_uri": "https://localhost:8080/",
          "height": 300
        },
        "outputId": "07b0cb78-979c-4983-f083-d7648b725bd9"
      },
      "source": [
        "data_df2.describe()"
      ],
      "execution_count": 36,
      "outputs": [
        {
          "output_type": "execute_result",
          "data": {
            "text/html": [
              "<div>\n",
              "<style scoped>\n",
              "    .dataframe tbody tr th:only-of-type {\n",
              "        vertical-align: middle;\n",
              "    }\n",
              "\n",
              "    .dataframe tbody tr th {\n",
              "        vertical-align: top;\n",
              "    }\n",
              "\n",
              "    .dataframe thead th {\n",
              "        text-align: right;\n",
              "    }\n",
              "</style>\n",
              "<table border=\"1\" class=\"dataframe\">\n",
              "  <thead>\n",
              "    <tr style=\"text-align: right;\">\n",
              "      <th></th>\n",
              "      <th>MolecularWeight</th>\n",
              "      <th>RotatableBondCount</th>\n",
              "      <th>HeavyAtomCount</th>\n",
              "      <th>AtomChiralCount</th>\n",
              "    </tr>\n",
              "  </thead>\n",
              "  <tbody>\n",
              "    <tr>\n",
              "      <th>count</th>\n",
              "      <td>574.000000</td>\n",
              "      <td>574.000000</td>\n",
              "      <td>574.000000</td>\n",
              "      <td>574.000000</td>\n",
              "    </tr>\n",
              "    <tr>\n",
              "      <th>mean</th>\n",
              "      <td>251.558641</td>\n",
              "      <td>5.360627</td>\n",
              "      <td>18.050523</td>\n",
              "      <td>1.177700</td>\n",
              "    </tr>\n",
              "    <tr>\n",
              "      <th>std</th>\n",
              "      <td>46.552723</td>\n",
              "      <td>2.875045</td>\n",
              "      <td>3.396830</td>\n",
              "      <td>0.541271</td>\n",
              "    </tr>\n",
              "    <tr>\n",
              "      <th>min</th>\n",
              "      <td>163.170000</td>\n",
              "      <td>1.000000</td>\n",
              "      <td>12.000000</td>\n",
              "      <td>0.000000</td>\n",
              "    </tr>\n",
              "    <tr>\n",
              "      <th>25%</th>\n",
              "      <td>221.290000</td>\n",
              "      <td>3.000000</td>\n",
              "      <td>16.000000</td>\n",
              "      <td>1.000000</td>\n",
              "    </tr>\n",
              "    <tr>\n",
              "      <th>50%</th>\n",
              "      <td>247.330000</td>\n",
              "      <td>5.000000</td>\n",
              "      <td>18.000000</td>\n",
              "      <td>1.000000</td>\n",
              "    </tr>\n",
              "    <tr>\n",
              "      <th>75%</th>\n",
              "      <td>275.050000</td>\n",
              "      <td>7.000000</td>\n",
              "      <td>19.000000</td>\n",
              "      <td>1.000000</td>\n",
              "    </tr>\n",
              "    <tr>\n",
              "      <th>max</th>\n",
              "      <td>501.800000</td>\n",
              "      <td>26.000000</td>\n",
              "      <td>36.000000</td>\n",
              "      <td>5.000000</td>\n",
              "    </tr>\n",
              "  </tbody>\n",
              "</table>\n",
              "</div>"
            ],
            "text/plain": [
              "       MolecularWeight  RotatableBondCount  HeavyAtomCount  AtomChiralCount\n",
              "count       574.000000          574.000000      574.000000       574.000000\n",
              "mean        251.558641            5.360627       18.050523         1.177700\n",
              "std          46.552723            2.875045        3.396830         0.541271\n",
              "min         163.170000            1.000000       12.000000         0.000000\n",
              "25%         221.290000            3.000000       16.000000         1.000000\n",
              "50%         247.330000            5.000000       18.000000         1.000000\n",
              "75%         275.050000            7.000000       19.000000         1.000000\n",
              "max         501.800000           26.000000       36.000000         5.000000"
            ]
          },
          "metadata": {
            "tags": []
          },
          "execution_count": 36
        }
      ]
    },
    {
      "cell_type": "markdown",
      "metadata": {
        "id": "Ko4jHpyUVu1V"
      },
      "source": [
        "By default, only the numeric data is included, we can add the string data with the object option:"
      ]
    },
    {
      "cell_type": "code",
      "metadata": {
        "id": "8cZkyIeeTB8-",
        "colab": {
          "base_uri": "https://localhost:8080/",
          "height": 175
        },
        "outputId": "d3ce1a1f-5817-4bb1-b090-8f22db2d9399"
      },
      "source": [
        "data_df2.describe(include=[object])"
      ],
      "execution_count": 37,
      "outputs": [
        {
          "output_type": "execute_result",
          "data": {
            "text/html": [
              "<div>\n",
              "<style scoped>\n",
              "    .dataframe tbody tr th:only-of-type {\n",
              "        vertical-align: middle;\n",
              "    }\n",
              "\n",
              "    .dataframe tbody tr th {\n",
              "        vertical-align: top;\n",
              "    }\n",
              "\n",
              "    .dataframe thead th {\n",
              "        text-align: right;\n",
              "    }\n",
              "</style>\n",
              "<table border=\"1\" class=\"dataframe\">\n",
              "  <thead>\n",
              "    <tr style=\"text-align: right;\">\n",
              "      <th></th>\n",
              "      <th>IsomericSmiles</th>\n",
              "      <th>MolecularFormula</th>\n",
              "    </tr>\n",
              "  </thead>\n",
              "  <tbody>\n",
              "    <tr>\n",
              "      <th>count</th>\n",
              "      <td>574</td>\n",
              "      <td>574</td>\n",
              "    </tr>\n",
              "    <tr>\n",
              "      <th>unique</th>\n",
              "      <td>574</td>\n",
              "      <td>198</td>\n",
              "    </tr>\n",
              "    <tr>\n",
              "      <th>top</th>\n",
              "      <td>C1CC1NC(C2=CC=CC=C2)C(=O)O</td>\n",
              "      <td>C11H15NO2</td>\n",
              "    </tr>\n",
              "    <tr>\n",
              "      <th>freq</th>\n",
              "      <td>1</td>\n",
              "      <td>25</td>\n",
              "    </tr>\n",
              "  </tbody>\n",
              "</table>\n",
              "</div>"
            ],
            "text/plain": [
              "                    IsomericSmiles MolecularFormula\n",
              "count                          574              574\n",
              "unique                         574              198\n",
              "top     C1CC1NC(C2=CC=CC=C2)C(=O)O        C11H15NO2\n",
              "freq                             1               25"
            ]
          },
          "metadata": {
            "tags": []
          },
          "execution_count": 37
        }
      ]
    },
    {
      "cell_type": "markdown",
      "metadata": {
        "id": "EHcwE9KxWGEa"
      },
      "source": [
        "It looks like all of the IsomericSmiles are unique, but we have several repeated MolecularFormula values. We can take a closer look by selecting the MolecularFormula column, then applying the `value_counts()` method:"
      ]
    },
    {
      "cell_type": "code",
      "metadata": {
        "id": "TVQ94kRJG9H2",
        "colab": {
          "base_uri": "https://localhost:8080/"
        },
        "outputId": "d1e8b38a-b89d-4043-a54c-dde2ba9c9eaa"
      },
      "source": [
        "data_df2.loc[:,'MolecularFormula'].value_counts()"
      ],
      "execution_count": 38,
      "outputs": [
        {
          "output_type": "execute_result",
          "data": {
            "text/plain": [
              "C11H15NO2      25\n",
              "C14H19NO2      23\n",
              "C13H19NO2      23\n",
              "C14H21NO2      21\n",
              "C13H17NO2      20\n",
              "               ..\n",
              "C15H20BrNO2     1\n",
              "C9H10NO2        1\n",
              "C16H15NO2S      1\n",
              "C19H29NO2       1\n",
              "C12H17NO4       1\n",
              "Name: MolecularFormula, Length: 198, dtype: int64"
            ]
          },
          "metadata": {
            "tags": []
          },
          "execution_count": 38
        }
      ]
    },
    {
      "cell_type": "code",
      "metadata": {
        "id": "oO3i8qIuG8sL",
        "colab": {
          "base_uri": "https://localhost:8080/"
        },
        "outputId": "f3f8016f-6269-4665-848c-d87e61c199ba"
      },
      "source": [
        "# view the top 20:\n",
        "data_df2.loc[:,'MolecularFormula'].value_counts().head(20)"
      ],
      "execution_count": 39,
      "outputs": [
        {
          "output_type": "execute_result",
          "data": {
            "text/plain": [
              "C11H15NO2     25\n",
              "C14H19NO2     23\n",
              "C13H19NO2     23\n",
              "C14H21NO2     21\n",
              "C13H17NO2     20\n",
              "C12H17NO2     16\n",
              "C15H21NO2     16\n",
              "C14H19NO4     13\n",
              "C10H13NO2     10\n",
              "C16H23NO2     10\n",
              "C15H23NO2     10\n",
              "C13H17NO3      8\n",
              "C10H12FNO2     8\n",
              "C16H25NO2      8\n",
              "C17H27NO2      7\n",
              "C14H19NO3      7\n",
              "C14H17NO2      7\n",
              "C17H25NO2      7\n",
              "C16H17NO2      7\n",
              "C12H15NO2      6\n",
              "Name: MolecularFormula, dtype: int64"
            ]
          },
          "metadata": {
            "tags": []
          },
          "execution_count": 39
        }
      ]
    },
    {
      "cell_type": "markdown",
      "metadata": {
        "id": "cDjb1EQ-YDJB"
      },
      "source": [
        "Similarly, we can perform calculations on specific series of data. For example, finding the maximum MolecularWeight:"
      ]
    },
    {
      "cell_type": "code",
      "metadata": {
        "id": "3G_8cC9CTB_2",
        "colab": {
          "base_uri": "https://localhost:8080/"
        },
        "outputId": "0f001bbe-750d-4f21-de85-b84ad15ef576"
      },
      "source": [
        "data_df2.loc[:,'MolecularWeight'].max()"
      ],
      "execution_count": 40,
      "outputs": [
        {
          "output_type": "execute_result",
          "data": {
            "text/plain": [
              "501.8"
            ]
          },
          "metadata": {
            "tags": []
          },
          "execution_count": 40
        }
      ]
    },
    {
      "cell_type": "markdown",
      "metadata": {
        "id": "tYqHaMqRYs_5"
      },
      "source": [
        "In this case, it might be useful to also return the index of the max MolecularWeight using [DataFrame.idxmax()](https://pandas.pydata.org/docs/reference/api/pandas.DataFrame.idxmax.html?highlight=idxmax)"
      ]
    },
    {
      "cell_type": "code",
      "metadata": {
        "id": "wscEr9zhTCE5",
        "colab": {
          "base_uri": "https://localhost:8080/"
        },
        "outputId": "9b4a903b-0149-4a28-9577-f042011e4b60"
      },
      "source": [
        "data_df2.loc[:,'MolecularWeight'].idxmax()"
      ],
      "execution_count": 41,
      "outputs": [
        {
          "output_type": "execute_result",
          "data": {
            "text/plain": [
              "89640554"
            ]
          },
          "metadata": {
            "tags": []
          },
          "execution_count": 41
        }
      ]
    },
    {
      "cell_type": "markdown",
      "metadata": {
        "id": "mo9KzoMaZJpn"
      },
      "source": [
        "We can then easily index and view the enitre row for the specific entry 89640554:"
      ]
    },
    {
      "cell_type": "code",
      "metadata": {
        "colab": {
          "base_uri": "https://localhost:8080/"
        },
        "id": "-InYF9_hY9n6",
        "outputId": "e1842df7-09c0-4c8a-e4f9-f501aabf4604"
      },
      "source": [
        "data_df2.loc[89640554,:]"
      ],
      "execution_count": 42,
      "outputs": [
        {
          "output_type": "execute_result",
          "data": {
            "text/plain": [
              "IsomericSmiles        CCCCCCCCCCCCN(CCCCCCCCCCCC)C(CC1=CC=CC=C1)C(=O)O\n",
              "MolecularFormula                                             C33H59NO2\n",
              "MolecularWeight                                                  501.8\n",
              "RotatableBondCount                                                  26\n",
              "HeavyAtomCount                                                      36\n",
              "AtomChiralCount                                                      1\n",
              "Name: 89640554, dtype: object"
            ]
          },
          "metadata": {
            "tags": []
          },
          "execution_count": 42
        }
      ]
    },
    {
      "cell_type": "markdown",
      "metadata": {
        "id": "8FBzhw4rafk7"
      },
      "source": [
        "We can even create a quick histogram of a series, using [DataFrame.hist()](https://pandas.pydata.org/docs/reference/api/pandas.DataFrame.hist.html):"
      ]
    },
    {
      "cell_type": "code",
      "metadata": {
        "colab": {
          "base_uri": "https://localhost:8080/",
          "height": 265
        },
        "id": "0H4tQB3wY9sD",
        "outputId": "9e121b82-d5d4-4d76-947e-9384fa446da9"
      },
      "source": [
        "# uses matplotlib, more on this later...\n",
        "data_df2.loc[:,'MolecularWeight'].hist()\n",
        "plt.show()"
      ],
      "execution_count": 46,
      "outputs": [
        {
          "output_type": "display_data",
          "data": {
            "image/png": "[encoded data removed]",
            "text/plain": [
              "<Figure size 432x288 with 1 Axes>"
            ]
          },
          "metadata": {
            "tags": [],
            "needs_background": "light"
          }
        }
      ]
    },
    {
      "cell_type": "markdown",
      "metadata": {
        "id": "HgXROJenbCKl"
      },
      "source": [
        "Lastly, we can operate on data directly within DataFrames to, for example, create a new columns of calculations. As an example, let's say we wanted to create  new column, my_descriptor, which is equal to the MolecularWeight divided by the HeavyAtomCount:"
      ]
    },
    {
      "cell_type": "code",
      "metadata": {
        "id": "DvFBmEZKZwtK",
        "colab": {
          "base_uri": "https://localhost:8080/",
          "height": 475
        },
        "outputId": "14ae659e-a9f8-4f38-c2b4-01738097b688"
      },
      "source": [
        "data_df2.loc[:,\"my_descriptor\"] = (data_df2.loc[:,\"MolecularWeight\"] / data_df2.loc[:,\"HeavyAtomCount\"])\n",
        "data_df2"
      ],
      "execution_count": 47,
      "outputs": [
        {
          "output_type": "execute_result",
          "data": {
            "text/html": [
              "<div>\n",
              "<style scoped>\n",
              "    .dataframe tbody tr th:only-of-type {\n",
              "        vertical-align: middle;\n",
              "    }\n",
              "\n",
              "    .dataframe tbody tr th {\n",
              "        vertical-align: top;\n",
              "    }\n",
              "\n",
              "    .dataframe thead th {\n",
              "        text-align: right;\n",
              "    }\n",
              "</style>\n",
              "<table border=\"1\" class=\"dataframe\">\n",
              "  <thead>\n",
              "    <tr style=\"text-align: right;\">\n",
              "      <th></th>\n",
              "      <th>IsomericSmiles</th>\n",
              "      <th>MolecularFormula</th>\n",
              "      <th>MolecularWeight</th>\n",
              "      <th>RotatableBondCount</th>\n",
              "      <th>HeavyAtomCount</th>\n",
              "      <th>AtomChiralCount</th>\n",
              "      <th>my_descriptor</th>\n",
              "    </tr>\n",
              "    <tr>\n",
              "      <th>CID</th>\n",
              "      <th></th>\n",
              "      <th></th>\n",
              "      <th></th>\n",
              "      <th></th>\n",
              "      <th></th>\n",
              "      <th></th>\n",
              "      <th></th>\n",
              "    </tr>\n",
              "  </thead>\n",
              "  <tbody>\n",
              "    <tr>\n",
              "      <th>146168522</th>\n",
              "      <td>CCN(CC(=O)C)C(C1=CC=CC=C1)C(=O)OC(C)(C)C</td>\n",
              "      <td>C17H25NO3</td>\n",
              "      <td>291.40</td>\n",
              "      <td>8</td>\n",
              "      <td>21</td>\n",
              "      <td>1</td>\n",
              "      <td>13.876190</td>\n",
              "    </tr>\n",
              "    <tr>\n",
              "      <th>146168519</th>\n",
              "      <td>CCN(CC(=O)OCC)C(C1=CC=CC=C1)C(=O)OC</td>\n",
              "      <td>C15H21NO4</td>\n",
              "      <td>279.33</td>\n",
              "      <td>9</td>\n",
              "      <td>20</td>\n",
              "      <td>1</td>\n",
              "      <td>13.966500</td>\n",
              "    </tr>\n",
              "    <tr>\n",
              "      <th>146161459</th>\n",
              "      <td>C1=CC=C(C=C1)CN(CC2=CC=CC=C2)C(C3=CC=C(C=C3)F)...</td>\n",
              "      <td>C22H20FNO2</td>\n",
              "      <td>349.40</td>\n",
              "      <td>7</td>\n",
              "      <td>26</td>\n",
              "      <td>1</td>\n",
              "      <td>13.438462</td>\n",
              "    </tr>\n",
              "    <tr>\n",
              "      <th>145524776</th>\n",
              "      <td>CC.CCCN1CCN(CC1)C(C2=CC=CC=C2CC)C(=O)O</td>\n",
              "      <td>C19H32N2O2</td>\n",
              "      <td>320.50</td>\n",
              "      <td>6</td>\n",
              "      <td>23</td>\n",
              "      <td>1</td>\n",
              "      <td>13.934783</td>\n",
              "    </tr>\n",
              "    <tr>\n",
              "      <th>145520251</th>\n",
              "      <td>CC.CC.CCC.CC(=C)N1CCN(CC1)C(C2=CC=CC=C2)C(=O)O</td>\n",
              "      <td>C22H40N2O2</td>\n",
              "      <td>364.60</td>\n",
              "      <td>4</td>\n",
              "      <td>26</td>\n",
              "      <td>1</td>\n",
              "      <td>14.023077</td>\n",
              "    </tr>\n",
              "    <tr>\n",
              "      <th>...</th>\n",
              "      <td>...</td>\n",
              "      <td>...</td>\n",
              "      <td>...</td>\n",
              "      <td>...</td>\n",
              "      <td>...</td>\n",
              "      <td>...</td>\n",
              "      <td>...</td>\n",
              "    </tr>\n",
              "    <tr>\n",
              "      <th>140236</th>\n",
              "      <td>CN(C)C(CC1=CC=CC=C1)C(=O)O</td>\n",
              "      <td>C11H15NO2</td>\n",
              "      <td>193.24</td>\n",
              "      <td>4</td>\n",
              "      <td>14</td>\n",
              "      <td>1</td>\n",
              "      <td>13.802857</td>\n",
              "    </tr>\n",
              "    <tr>\n",
              "      <th>51840</th>\n",
              "      <td>CCCCN(CCCC)C(C1=CC=CC=C1)C(=O)O</td>\n",
              "      <td>C16H25NO2</td>\n",
              "      <td>263.37</td>\n",
              "      <td>9</td>\n",
              "      <td>19</td>\n",
              "      <td>1</td>\n",
              "      <td>13.861579</td>\n",
              "    </tr>\n",
              "    <tr>\n",
              "      <th>51839</th>\n",
              "      <td>CCCC[NH+](CCCC)C(C1=CC=CC=C1)C(=O)O.[Cl-]</td>\n",
              "      <td>C16H26ClNO2</td>\n",
              "      <td>299.83</td>\n",
              "      <td>9</td>\n",
              "      <td>20</td>\n",
              "      <td>1</td>\n",
              "      <td>14.991500</td>\n",
              "    </tr>\n",
              "    <tr>\n",
              "      <th>51838</th>\n",
              "      <td>CCCCN(CCCC)C(C1=CC=CC=C1)C(=O)OCC</td>\n",
              "      <td>C18H29NO2</td>\n",
              "      <td>291.40</td>\n",
              "      <td>11</td>\n",
              "      <td>21</td>\n",
              "      <td>1</td>\n",
              "      <td>13.876190</td>\n",
              "    </tr>\n",
              "    <tr>\n",
              "      <th>45157</th>\n",
              "      <td>CC1=CC=CC=C1CNC(C2=CC=CC=C2)C(=O)O</td>\n",
              "      <td>C16H17NO2</td>\n",
              "      <td>255.31</td>\n",
              "      <td>5</td>\n",
              "      <td>19</td>\n",
              "      <td>1</td>\n",
              "      <td>13.437368</td>\n",
              "    </tr>\n",
              "  </tbody>\n",
              "</table>\n",
              "<p>574 rows × 7 columns</p>\n",
              "</div>"
            ],
            "text/plain": [
              "                                              IsomericSmiles  ... my_descriptor\n",
              "CID                                                           ...              \n",
              "146168522           CCN(CC(=O)C)C(C1=CC=CC=C1)C(=O)OC(C)(C)C  ...     13.876190\n",
              "146168519                CCN(CC(=O)OCC)C(C1=CC=CC=C1)C(=O)OC  ...     13.966500\n",
              "146161459  C1=CC=C(C=C1)CN(CC2=CC=CC=C2)C(C3=CC=C(C=C3)F)...  ...     13.438462\n",
              "145524776             CC.CCCN1CCN(CC1)C(C2=CC=CC=C2CC)C(=O)O  ...     13.934783\n",
              "145520251     CC.CC.CCC.CC(=C)N1CCN(CC1)C(C2=CC=CC=C2)C(=O)O  ...     14.023077\n",
              "...                                                      ...  ...           ...\n",
              "140236                            CN(C)C(CC1=CC=CC=C1)C(=O)O  ...     13.802857\n",
              "51840                        CCCCN(CCCC)C(C1=CC=CC=C1)C(=O)O  ...     13.861579\n",
              "51839              CCCC[NH+](CCCC)C(C1=CC=CC=C1)C(=O)O.[Cl-]  ...     14.991500\n",
              "51838                      CCCCN(CCCC)C(C1=CC=CC=C1)C(=O)OCC  ...     13.876190\n",
              "45157                     CC1=CC=CC=C1CNC(C2=CC=CC=C2)C(=O)O  ...     13.437368\n",
              "\n",
              "[574 rows x 7 columns]"
            ]
          },
          "metadata": {
            "tags": []
          },
          "execution_count": 47
        }
      ]
    },
    {
      "cell_type": "markdown",
      "metadata": {
        "id": "dqWKgEG8O_XK"
      },
      "source": [
        "[7] http://swcarpentry.github.io/python-novice-gapminder/07-reading-tabular/index.html"
      ]
    },
    {
      "cell_type": "markdown",
      "metadata": {
        "id": "AT5q5QpfZxBZ"
      },
      "source": [
        "# matplotlib Python Library [8-10]"
      ]
    },
    {
      "cell_type": "markdown",
      "metadata": {
        "id": "aEUSEaPmaCKd"
      },
      "source": [
        "Matplotlib is a popular Python library for creating visual plots. The pyplot collection of functions provides MATLAB like plotting [10]. The recommended way to import matplotlib.pyplot is as follows:"
      ]
    },
    {
      "cell_type": "code",
      "metadata": {
        "id": "mVg6KZU4aWK3"
      },
      "source": [
        "import numpy as np\n",
        "import matplotlib.pyplot as plt"
      ],
      "execution_count": 48,
      "outputs": []
    },
    {
      "cell_type": "markdown",
      "metadata": {
        "id": "BtAnVUdTaCWf"
      },
      "source": [
        "## Plot from Lists"
      ]
    },
    {
      "cell_type": "code",
      "metadata": {
        "id": "og9gJbo3ag6T"
      },
      "source": [
        "# create two lists\n",
        "x = [10, 20, 30, 40, 50]\n",
        "y = [23, 400, 32, 200, 300]"
      ],
      "execution_count": 49,
      "outputs": []
    },
    {
      "cell_type": "code",
      "metadata": {
        "id": "GA82p1FSahCT",
        "colab": {
          "base_uri": "https://localhost:8080/",
          "height": 265
        },
        "outputId": "29e13d26-aecb-49f2-a83e-f3b9b13fcf77"
      },
      "source": [
        "plt.plot(x,y) # create a line plot with plot function\n",
        "plt.show() # display plot"
      ],
      "execution_count": 50,
      "outputs": [
        {
          "output_type": "display_data",
          "data": {
            "image/png": "[encoded data removed]",
            "text/plain": [
              "<Figure size 432x288 with 1 Axes>"
            ]
          },
          "metadata": {
            "tags": [],
            "needs_background": "light"
          }
        }
      ]
    },
    {
      "cell_type": "markdown",
      "metadata": {
        "id": "xA6gwXVP_9J_"
      },
      "source": [
        "There are many options for plotting available in matplotlib. For example, we can add labels, specify data marker types, adjust sizes, plot type, and much much more. See the list of [pyplot functions](https://matplotlib.org/stable/api/_as_gen/matplotlib.pyplot.html#module-matplotlib.pyplot) as well as options within each function.\n",
        "\n",
        "As an example, let's:\n",
        "\n",
        "1. Adjust the figure size\n",
        "2. Use red circle markers\n",
        "3. Add labels\n",
        "4. Adjust font sizes"
      ]
    },
    {
      "cell_type": "code",
      "metadata": {
        "id": "cMk1R9QcahHw",
        "colab": {
          "base_uri": "https://localhost:8080/",
          "height": 398
        },
        "outputId": "860b3d1b-0472-4f07-cbdc-8a02a22875d8"
      },
      "source": [
        "# we can make the figure larger if we want:\n",
        "plt.figure(figsize=(8,6))\n",
        "plt.plot(x,y, 'ro', markersize=12) # red circle markers, size 12\n",
        "plt.xticks(size=16) # adjust xtick font size\n",
        "plt.yticks(size=16) # adjust xtick font size\n",
        "plt.ylabel('my y values', fontsize = 16) # add y label\n",
        "plt.xlabel('my x values', fontsize = 16) # add x label\n",
        "plt.show() # display plot"
      ],
      "execution_count": 51,
      "outputs": [
        {
          "output_type": "display_data",
          "data": {
            "image/png": "[encoded data removed]",
            "text/plain": [
              "<Figure size 576x432 with 1 Axes>"
            ]
          },
          "metadata": {
            "tags": [],
            "needs_background": "light"
          }
        }
      ]
    },
    {
      "cell_type": "markdown",
      "metadata": {
        "id": "lWF19fQgEN9i"
      },
      "source": [
        "There are also many built-in [styles](https://matplotlib.org/stable/tutorials/introductory/customizing.html) that you can use."
      ]
    },
    {
      "cell_type": "code",
      "metadata": {
        "colab": {
          "base_uri": "https://localhost:8080/"
        },
        "id": "aZ0BZ5pnENC2",
        "outputId": "f7d25480-4756-4d67-bd2e-556df02e0686"
      },
      "source": [
        "# list available styles\n",
        "print(plt.style.available)"
      ],
      "execution_count": 52,
      "outputs": [
        {
          "output_type": "stream",
          "text": [
            "['Solarize_Light2', '_classic_test_patch', 'bmh', 'classic', 'dark_background', 'fast', 'fivethirtyeight', 'ggplot', 'grayscale', 'seaborn', 'seaborn-bright', 'seaborn-colorblind', 'seaborn-dark', 'seaborn-dark-palette', 'seaborn-darkgrid', 'seaborn-deep', 'seaborn-muted', 'seaborn-notebook', 'seaborn-paper', 'seaborn-pastel', 'seaborn-poster', 'seaborn-talk', 'seaborn-ticks', 'seaborn-white', 'seaborn-whitegrid', 'tableau-colorblind10']\n"
          ],
          "name": "stdout"
        }
      ]
    },
    {
      "cell_type": "code",
      "metadata": {
        "colab": {
          "base_uri": "https://localhost:8080/",
          "height": 398
        },
        "id": "FdgxGNwGEhR8",
        "outputId": "e74d9daf-85ae-46ba-e8b2-445c1b6adc0b"
      },
      "source": [
        "plt.style.use('seaborn')\n",
        "plt.figure(figsize=(8,6))\n",
        "plt.plot(x,y, 'ro', markersize=12) # red circle markers, size 12\n",
        "plt.xticks(size=16) # adjust xtick font size\n",
        "plt.yticks(size=16) # adjust xtick font size\n",
        "plt.ylabel('my y values', fontsize = 16) # add y label\n",
        "plt.xlabel('my x values', fontsize = 16) # add x label\n",
        "plt.show() # display plot"
      ],
      "execution_count": 53,
      "outputs": [
        {
          "output_type": "display_data",
          "data": {
            "image/png": "[encoded data removed]",
            "text/plain": [
              "<Figure size 576x432 with 1 Axes>"
            ]
          },
          "metadata": {
            "tags": []
          }
        }
      ]
    },
    {
      "cell_type": "code",
      "metadata": {
        "id": "w_M1uoGJGTof"
      },
      "source": [
        "# revert back to default style:\n",
        "# see: https://stackoverflow.com/questions/43279137/what-is-the-name-of-the-default-style-for-matplotlib-2-0-0\n",
        "plt.style.use('default')"
      ],
      "execution_count": 54,
      "outputs": []
    },
    {
      "cell_type": "markdown",
      "metadata": {
        "id": "6umt_qfKSO46"
      },
      "source": [
        "[8] http://swcarpentry.github.io/python-novice-gapminder/09-plotting/index.html\n",
        "\n",
        "[9] https://matplotlib.org/stable/api/index.html\n",
        "\n",
        "[10] https://matplotlib.org/stable/api/_as_gen/matplotlib.pyplot.html#module-matplotlib.pyplot"
      ]
    },
    {
      "cell_type": "markdown",
      "metadata": {
        "id": "P2KOi_E_aDdr"
      },
      "source": [
        "## Plot from a Pandas DataFrame [8-11]\n",
        "\n",
        "[Pandas.DataFrame.plot](https://pandas.pydata.org/pandas-docs/stable/user_guide/visualization.html#visualization) is a wrapper for matplotlib plt.plot(). This is very convenient, and allows us to easily plot data directly from pandas DataFrames. To get started, import numpy, matplotlib, and pandas."
      ]
    },
    {
      "cell_type": "code",
      "metadata": {
        "id": "DFRchIDy_bDY"
      },
      "source": [
        "import numpy as np\n",
        "import matplotlib.pyplot as plt\n",
        "import pandas as pd"
      ],
      "execution_count": 55,
      "outputs": []
    },
    {
      "cell_type": "markdown",
      "metadata": {
        "id": "2IQtG87-Ixqd"
      },
      "source": [
        "We'll use our data_df2 DataFrame for plotting:"
      ]
    },
    {
      "cell_type": "code",
      "metadata": {
        "id": "fbEjUSZKalcG",
        "colab": {
          "base_uri": "https://localhost:8080/",
          "height": 414
        },
        "outputId": "1d0bd0a9-748f-4631-a65e-04ccc48c9867"
      },
      "source": [
        "data_df2.head(10)"
      ],
      "execution_count": 56,
      "outputs": [
        {
          "output_type": "execute_result",
          "data": {
            "text/html": [
              "<div>\n",
              "<style scoped>\n",
              "    .dataframe tbody tr th:only-of-type {\n",
              "        vertical-align: middle;\n",
              "    }\n",
              "\n",
              "    .dataframe tbody tr th {\n",
              "        vertical-align: top;\n",
              "    }\n",
              "\n",
              "    .dataframe thead th {\n",
              "        text-align: right;\n",
              "    }\n",
              "</style>\n",
              "<table border=\"1\" class=\"dataframe\">\n",
              "  <thead>\n",
              "    <tr style=\"text-align: right;\">\n",
              "      <th></th>\n",
              "      <th>IsomericSmiles</th>\n",
              "      <th>MolecularFormula</th>\n",
              "      <th>MolecularWeight</th>\n",
              "      <th>RotatableBondCount</th>\n",
              "      <th>HeavyAtomCount</th>\n",
              "      <th>AtomChiralCount</th>\n",
              "      <th>my_descriptor</th>\n",
              "    </tr>\n",
              "    <tr>\n",
              "      <th>CID</th>\n",
              "      <th></th>\n",
              "      <th></th>\n",
              "      <th></th>\n",
              "      <th></th>\n",
              "      <th></th>\n",
              "      <th></th>\n",
              "      <th></th>\n",
              "    </tr>\n",
              "  </thead>\n",
              "  <tbody>\n",
              "    <tr>\n",
              "      <th>146168522</th>\n",
              "      <td>CCN(CC(=O)C)C(C1=CC=CC=C1)C(=O)OC(C)(C)C</td>\n",
              "      <td>C17H25NO3</td>\n",
              "      <td>291.40</td>\n",
              "      <td>8</td>\n",
              "      <td>21</td>\n",
              "      <td>1</td>\n",
              "      <td>13.876190</td>\n",
              "    </tr>\n",
              "    <tr>\n",
              "      <th>146168519</th>\n",
              "      <td>CCN(CC(=O)OCC)C(C1=CC=CC=C1)C(=O)OC</td>\n",
              "      <td>C15H21NO4</td>\n",
              "      <td>279.33</td>\n",
              "      <td>9</td>\n",
              "      <td>20</td>\n",
              "      <td>1</td>\n",
              "      <td>13.966500</td>\n",
              "    </tr>\n",
              "    <tr>\n",
              "      <th>146161459</th>\n",
              "      <td>C1=CC=C(C=C1)CN(CC2=CC=CC=C2)C(C3=CC=C(C=C3)F)...</td>\n",
              "      <td>C22H20FNO2</td>\n",
              "      <td>349.40</td>\n",
              "      <td>7</td>\n",
              "      <td>26</td>\n",
              "      <td>1</td>\n",
              "      <td>13.438462</td>\n",
              "    </tr>\n",
              "    <tr>\n",
              "      <th>145524776</th>\n",
              "      <td>CC.CCCN1CCN(CC1)C(C2=CC=CC=C2CC)C(=O)O</td>\n",
              "      <td>C19H32N2O2</td>\n",
              "      <td>320.50</td>\n",
              "      <td>6</td>\n",
              "      <td>23</td>\n",
              "      <td>1</td>\n",
              "      <td>13.934783</td>\n",
              "    </tr>\n",
              "    <tr>\n",
              "      <th>145520251</th>\n",
              "      <td>CC.CC.CCC.CC(=C)N1CCN(CC1)C(C2=CC=CC=C2)C(=O)O</td>\n",
              "      <td>C22H40N2O2</td>\n",
              "      <td>364.60</td>\n",
              "      <td>4</td>\n",
              "      <td>26</td>\n",
              "      <td>1</td>\n",
              "      <td>14.023077</td>\n",
              "    </tr>\n",
              "    <tr>\n",
              "      <th>145086414</th>\n",
              "      <td>CC.CC(C)N(C)C(CC1=CC=CC=C1)C(=O)O</td>\n",
              "      <td>C15H25NO2</td>\n",
              "      <td>251.36</td>\n",
              "      <td>5</td>\n",
              "      <td>18</td>\n",
              "      <td>1</td>\n",
              "      <td>13.964444</td>\n",
              "    </tr>\n",
              "    <tr>\n",
              "      <th>144259917</th>\n",
              "      <td>CN(C)C(C1=CC=CC=C1C(F)(F)F)C(=O)O.Cl</td>\n",
              "      <td>C11H13ClF3NO2</td>\n",
              "      <td>283.67</td>\n",
              "      <td>3</td>\n",
              "      <td>18</td>\n",
              "      <td>1</td>\n",
              "      <td>15.759444</td>\n",
              "    </tr>\n",
              "    <tr>\n",
              "      <th>144187943</th>\n",
              "      <td>CC1CCC(=C)N1C(C2=CC=CC=C2)C(=O)O</td>\n",
              "      <td>C14H17NO2</td>\n",
              "      <td>231.29</td>\n",
              "      <td>3</td>\n",
              "      <td>17</td>\n",
              "      <td>2</td>\n",
              "      <td>13.605294</td>\n",
              "    </tr>\n",
              "    <tr>\n",
              "      <th>144097938</th>\n",
              "      <td>CCC(CCN(C)C(C1=CC=CC=C1)C(=O)O)O</td>\n",
              "      <td>C14H21NO3</td>\n",
              "      <td>251.32</td>\n",
              "      <td>7</td>\n",
              "      <td>18</td>\n",
              "      <td>2</td>\n",
              "      <td>13.962222</td>\n",
              "    </tr>\n",
              "    <tr>\n",
              "      <th>144097931</th>\n",
              "      <td>CC=C.CC1=C(C(=CC=C1)C(C(=O)O)N(C)C)C.C#C</td>\n",
              "      <td>C17H25NO2</td>\n",
              "      <td>275.40</td>\n",
              "      <td>3</td>\n",
              "      <td>20</td>\n",
              "      <td>1</td>\n",
              "      <td>13.770000</td>\n",
              "    </tr>\n",
              "  </tbody>\n",
              "</table>\n",
              "</div>"
            ],
            "text/plain": [
              "                                              IsomericSmiles  ... my_descriptor\n",
              "CID                                                           ...              \n",
              "146168522           CCN(CC(=O)C)C(C1=CC=CC=C1)C(=O)OC(C)(C)C  ...     13.876190\n",
              "146168519                CCN(CC(=O)OCC)C(C1=CC=CC=C1)C(=O)OC  ...     13.966500\n",
              "146161459  C1=CC=C(C=C1)CN(CC2=CC=CC=C2)C(C3=CC=C(C=C3)F)...  ...     13.438462\n",
              "145524776             CC.CCCN1CCN(CC1)C(C2=CC=CC=C2CC)C(=O)O  ...     13.934783\n",
              "145520251     CC.CC.CCC.CC(=C)N1CCN(CC1)C(C2=CC=CC=C2)C(=O)O  ...     14.023077\n",
              "145086414                  CC.CC(C)N(C)C(CC1=CC=CC=C1)C(=O)O  ...     13.964444\n",
              "144259917               CN(C)C(C1=CC=CC=C1C(F)(F)F)C(=O)O.Cl  ...     15.759444\n",
              "144187943                   CC1CCC(=C)N1C(C2=CC=CC=C2)C(=O)O  ...     13.605294\n",
              "144097938                   CCC(CCN(C)C(C1=CC=CC=C1)C(=O)O)O  ...     13.962222\n",
              "144097931           CC=C.CC1=C(C(=CC=C1)C(C(=O)O)N(C)C)C.C#C  ...     13.770000\n",
              "\n",
              "[10 rows x 7 columns]"
            ]
          },
          "metadata": {
            "tags": []
          },
          "execution_count": 56
        }
      ]
    },
    {
      "cell_type": "markdown",
      "metadata": {
        "id": "3954PWUSLSL2"
      },
      "source": [
        "Let's create a histogram of the molecular weight again, using [DataFrame.hist()](https://pandas.pydata.org/docs/reference/api/pandas.DataFrame.hist.html). However, now we'll adjust some of the options:"
      ]
    },
    {
      "cell_type": "code",
      "metadata": {
        "colab": {
          "base_uri": "https://localhost:8080/",
          "height": 556
        },
        "id": "bJfN1edkLvfn",
        "outputId": "87439511-8ef8-49dd-bd19-52f5a3ccb8d0"
      },
      "source": [
        "plt.style.use('seaborn')\n",
        "plt.figure(figsize=(8,6))\n",
        "data_df2.loc[:,'MolecularWeight'].hist(color=\"lightgreen\") # note we indexed out MolecularWeight first\n",
        "plt.xticks(size=16)\n",
        "plt.yticks(size=16)\n",
        "plt.ylabel('Frequency', size=16)\n",
        "plt.xlabel('MolecularWeight', size=16)\n",
        "plt.show()"
      ],
      "execution_count": 57,
      "outputs": [
        {
          "output_type": "display_data",
          "data": {
            "image/png": "[encoded data removed]",
            "text/plain": [
              "<Figure size 800x600 with 1 Axes>"
            ]
          },
          "metadata": {
            "tags": []
          }
        }
      ]
    },
    {
      "cell_type": "markdown",
      "metadata": {
        "id": "FWDfW0b6O3bd"
      },
      "source": [
        "We can also plot several columns at a time:"
      ]
    },
    {
      "cell_type": "code",
      "metadata": {
        "colab": {
          "base_uri": "https://localhost:8080/",
          "height": 504
        },
        "id": "7TyGkEPbOUPs",
        "outputId": "b1eda5f8-e55a-48c1-80aa-2067c55a6e97"
      },
      "source": [
        "data_df2.loc[:,'MolecularWeight':'AtomChiralCount'].hist()\n",
        "plt.show()"
      ],
      "execution_count": 58,
      "outputs": [
        {
          "output_type": "display_data",
          "data": {
            "image/png": "[encoded data removed]",
            "text/plain": [
              "<Figure size 800x550 with 4 Axes>"
            ]
          },
          "metadata": {
            "tags": []
          }
        }
      ]
    },
    {
      "cell_type": "markdown",
      "metadata": {
        "id": "lLgH6dz4Q9Zq"
      },
      "source": [
        "Let's create a scatter plot using [pandas.DataFrame.plot.scatter()](https://pandas.pydata.org/pandas-docs/stable/reference/api/pandas.DataFrame.plot.scatter.html):"
      ]
    },
    {
      "cell_type": "code",
      "metadata": {
        "id": "Mh0w6FNYalj3",
        "colab": {
          "base_uri": "https://localhost:8080/",
          "height": 556
        },
        "outputId": "9ff12a88-7457-43e1-9ddf-14eeb43e574d"
      },
      "source": [
        "data_df2.plot.scatter(x = \"HeavyAtomCount\", y = \"MolecularWeight\", figsize=(8,6))\n",
        "plt.xticks(size=16)\n",
        "plt.yticks(size=16)\n",
        "plt.ylabel('MolecularWeight', size=16)\n",
        "plt.xlabel('HeavyAtomCount', size=16)\n",
        "plt.show()"
      ],
      "execution_count": 59,
      "outputs": [
        {
          "output_type": "display_data",
          "data": {
            "image/png": "[encoded data removed]",
            "text/plain": [
              "<Figure size 800x600 with 1 Axes>"
            ]
          },
          "metadata": {
            "tags": []
          }
        }
      ]
    },
    {
      "cell_type": "markdown",
      "metadata": {
        "id": "EI4Aek1oihJX"
      },
      "source": [
        "[8] http://swcarpentry.github.io/python-novice-gapminder/09-plotting/index.html\n",
        "\n",
        "[9] https://matplotlib.org/stable/api/index.html\n",
        "\n",
        "[10] https://matplotlib.org/stable/api/_as_gen/matplotlib.pyplot.html#module-matplotlib.pyplot\n",
        "\n",
        "[11] https://pandas.pydata.org/pandas-docs/stable/user_guide/visualization.html#visualization"
      ]
    },
    {
      "cell_type": "markdown",
      "metadata": {
        "id": "I8S0352gLNI0"
      },
      "source": [
        "# Additional Resources\n",
        "\n",
        "[1] https://jakevdp.github.io/PythonDataScienceHandbook/"
      ]
    },
    {
      "cell_type": "markdown",
      "metadata": {
        "id": "lOfY8z_9hCb6"
      },
      "source": [
        "# Notebook Copy\n",
        "\n",
        "An archived version of this notebook with (most) outputs is available on our UALIB_Workshops GitHub repository: https://github.com/vfscalfani/UALIB_Workshops"
      ]
    },
    {
      "cell_type": "markdown",
      "metadata": {
        "id": "OJlv1W0cevl-"
      },
      "source": [
        "Note: The molecular dataset was retrieved from NCBI via their EDirect utility and is credited to NCBI and NLM. Please see the [NCBI Website and Data Usage Policies and Disclaimers](https://www.ncbi.nlm.nih.gov/home/about/policies/) for more information regarding the data."
      ]
    }
  ]
}